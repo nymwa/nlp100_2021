{
 "cells": [
  {
   "cell_type": "markdown",
   "metadata": {},
   "source": [
    "### 00. 文字列の逆順"
   ]
  },
  {
   "cell_type": "code",
   "execution_count": 1,
   "metadata": {},
   "outputs": [
    {
     "data": {
      "text/plain": [
       "'desserts'"
      ]
     },
     "execution_count": 1,
     "metadata": {},
     "output_type": "execute_result"
    }
   ],
   "source": [
    "x = 'stressed'\n",
    "x = x[::-1]\n",
    "x"
   ]
  },
  {
   "cell_type": "markdown",
   "metadata": {},
   "source": [
    "### 01. 「パタトクカシーー」"
   ]
  },
  {
   "cell_type": "code",
   "execution_count": 2,
   "metadata": {},
   "outputs": [
    {
     "data": {
      "text/plain": [
       "'パトカー'"
      ]
     },
     "execution_count": 2,
     "metadata": {},
     "output_type": "execute_result"
    }
   ],
   "source": [
    "x = 'パタトクカシー'\n",
    "x = x[::2]\n",
    "x"
   ]
  },
  {
   "cell_type": "markdown",
   "metadata": {},
   "source": [
    "### 02. 「パトカー」＋「タクシー」＝「パタトクカシーー」"
   ]
  },
  {
   "cell_type": "code",
   "execution_count": 3,
   "metadata": {},
   "outputs": [],
   "source": [
    "from itertools import zip_longest"
   ]
  },
  {
   "cell_type": "code",
   "execution_count": 4,
   "metadata": {},
   "outputs": [
    {
     "data": {
      "text/plain": [
       "'パタトクカシーー'"
      ]
     },
     "execution_count": 4,
     "metadata": {},
     "output_type": "execute_result"
    }
   ],
   "source": [
    "x1 = 'パトカー'\n",
    "x2 = 'タクシー'\n",
    "x = [\n",
    "    char\n",
    "    for two_chars in zip_longest(x1, x2, fillvalue = '')\n",
    "    for char in two_chars]\n",
    "x = ''.join(x)\n",
    "x"
   ]
  },
  {
   "cell_type": "markdown",
   "metadata": {},
   "source": [
    "### 03. 円周率"
   ]
  },
  {
   "cell_type": "code",
   "execution_count": 5,
   "metadata": {},
   "outputs": [],
   "source": [
    "import re"
   ]
  },
  {
   "cell_type": "code",
   "execution_count": 6,
   "metadata": {},
   "outputs": [
    {
     "data": {
      "text/plain": [
       "[3, 1, 4, 1, 5, 9, 2, 6, 5, 3, 5, 8, 9, 7, 9]"
      ]
     },
     "execution_count": 6,
     "metadata": {},
     "output_type": "execute_result"
    }
   ],
   "source": [
    "x = 'Now I need a drink, alcoholic of course, after the heavy lectures involving quantum mechanics.'\n",
    "x = re.sub(r'[^\\w\\s]', '', x)\n",
    "x = x.split(' ')\n",
    "x = [len(word) for word in x]\n",
    "x"
   ]
  },
  {
   "cell_type": "markdown",
   "metadata": {},
   "source": [
    "## 04. 元素記号"
   ]
  },
  {
   "cell_type": "code",
   "execution_count": 7,
   "metadata": {},
   "outputs": [
    {
     "data": {
      "text/plain": [
       "{'H': 1,\n",
       " 'He': 2,\n",
       " 'Li': 3,\n",
       " 'Be': 4,\n",
       " 'B': 5,\n",
       " 'C': 6,\n",
       " 'N': 7,\n",
       " 'O': 8,\n",
       " 'F': 9,\n",
       " 'Ne': 10,\n",
       " 'Na': 11,\n",
       " 'Mi': 12,\n",
       " 'Al': 13,\n",
       " 'Si': 14,\n",
       " 'P': 15,\n",
       " 'S': 16,\n",
       " 'Cl': 17,\n",
       " 'Ar': 18,\n",
       " 'K': 19,\n",
       " 'Ca': 20}"
      ]
     },
     "execution_count": 7,
     "metadata": {},
     "output_type": "execute_result"
    }
   ],
   "source": [
    "x = 'Hi He Lied Because Boron Could Not Oxidize Fluorine. New Nations Might Also Sign Peace Security Clause. Arthur King Can.'\n",
    "x = x.split(' ')\n",
    "indices = {1, 5, 6, 7, 8, 9, 15, 16, 19}\n",
    "\n",
    "elem_dict = {}\n",
    "for index, word in enumerate(x):\n",
    "    if index + 1 in indices:\n",
    "        elem = word[:1]\n",
    "    else:\n",
    "        elem = word[:2]\n",
    "    elem_dict[elem] = index + 1\n",
    "\n",
    "elem_dict"
   ]
  },
  {
   "cell_type": "markdown",
   "metadata": {},
   "source": [
    "### 05. n-gram"
   ]
  },
  {
   "cell_type": "code",
   "execution_count": 8,
   "metadata": {},
   "outputs": [],
   "source": [
    "def ngram(n, lst):\n",
    "    return list(zip(*[lst[i:] for i in range(n)]))"
   ]
  },
  {
   "cell_type": "code",
   "execution_count": 9,
   "metadata": {},
   "outputs": [
    {
     "name": "stdout",
     "output_type": "stream",
     "text": [
      "文字 bi-gram [('I', ' '), (' ', 'a'), ('a', 'm'), ('m', ' '), (' ', 'a'), ('a', 'n'), ('n', ' '), (' ', 'N'), ('N', 'L'), ('L', 'P'), ('P', 'e'), ('e', 'r')]\n",
      "単語 bi-gram [('I', 'am'), ('am', 'an'), ('an', 'NLPer')]\n"
     ]
    }
   ],
   "source": [
    "chars = 'I am an NLPer'\n",
    "char_bi_gram = ngram(2, chars)\n",
    "\n",
    "words = chars.split(' ')\n",
    "word_bi_gram = ngram(2, words)\n",
    "\n",
    "print('文字 bi-gram', char_bi_gram)\n",
    "print('単語 bi-gram', word_bi_gram)"
   ]
  },
  {
   "cell_type": "code",
   "execution_count": 10,
   "metadata": {},
   "outputs": [],
   "source": [
    "from functools import partial"
   ]
  },
  {
   "cell_type": "code",
   "execution_count": 11,
   "metadata": {},
   "outputs": [
    {
     "data": {
      "text/plain": [
       "[('I', ' '),\n",
       " (' ', 'a'),\n",
       " ('a', 'm'),\n",
       " ('m', ' '),\n",
       " (' ', 'a'),\n",
       " ('a', 'n'),\n",
       " ('n', ' '),\n",
       " (' ', 'N'),\n",
       " ('N', 'L'),\n",
       " ('L', 'P'),\n",
       " ('P', 'e'),\n",
       " ('e', 'r')]"
      ]
     },
     "execution_count": 11,
     "metadata": {},
     "output_type": "execute_result"
    }
   ],
   "source": [
    "bigram = partial(ngram, 2)\n",
    "bigram(chars)"
   ]
  },
  {
   "cell_type": "markdown",
   "metadata": {},
   "source": [
    "### 06. 集合"
   ]
  },
  {
   "cell_type": "code",
   "execution_count": 12,
   "metadata": {},
   "outputs": [
    {
     "name": "stdout",
     "output_type": "stream",
     "text": [
      "積集合 {('a', 'r'), ('a', 'p'), ('r', 'a'), ('p', 'a')}\n",
      "差集合 {('a', 'd'), ('i', 's'), ('s', 'e'), ('d', 'i')}\n",
      "Is \"se\" in X? True\n",
      "Is \"se\" in Y? False\n"
     ]
    }
   ],
   "source": [
    "str1 = 'paraparaparadise'\n",
    "str2 = 'paragraph'\n",
    "\n",
    "X = set(ngram(2, str1))\n",
    "Y = set(ngram(2, str2))\n",
    "\n",
    "print('積集合', X & Y)\n",
    "print('差集合', X - Y)\n",
    "print('Is \"se\" in X?', tuple('se') in X)\n",
    "print('Is \"se\" in Y?', tuple('se') in Y)"
   ]
  },
  {
   "cell_type": "markdown",
   "metadata": {},
   "source": [
    "### 07. テンプレートによる文生成"
   ]
  },
  {
   "cell_type": "code",
   "execution_count": 13,
   "metadata": {},
   "outputs": [],
   "source": [
    "def temperature(x, y, z):\n",
    "    return '{}時の{}は{}'.format(x, y, z)"
   ]
  },
  {
   "cell_type": "code",
   "execution_count": 14,
   "metadata": {},
   "outputs": [
    {
     "data": {
      "text/plain": [
       "'12時の気温は22.4'"
      ]
     },
     "execution_count": 14,
     "metadata": {},
     "output_type": "execute_result"
    }
   ],
   "source": [
    "temperature(12, '気温', 22.4)"
   ]
  },
  {
   "cell_type": "markdown",
   "metadata": {},
   "source": [
    "### 08. 暗号文"
   ]
  },
  {
   "cell_type": "code",
   "execution_count": 15,
   "metadata": {},
   "outputs": [],
   "source": [
    "def cipher(xs):\n",
    "    xs = [\n",
    "        chr(219 - ord(x)) if x.islower() else x\n",
    "        for x in xs]\n",
    "    return ''.join(xs)"
   ]
  },
  {
   "cell_type": "code",
   "execution_count": 16,
   "metadata": {},
   "outputs": [
    {
     "name": "stdout",
     "output_type": "stream",
     "text": [
      "平文 The quick brown fox jumps over the lazy dog. 1234567890\n",
      "暗号文 Tsv jfrxp yildm ulc qfnkh levi gsv ozab wlt. 1234567890\n",
      "復号文 The quick brown fox jumps over the lazy dog. 1234567890\n"
     ]
    }
   ],
   "source": [
    "x = 'The quick brown fox jumps over the lazy dog. 1234567890'\n",
    "print('平文', x)\n",
    "x = cipher(x)\n",
    "print('暗号文', x)\n",
    "x = cipher(x)\n",
    "print('復号文', x)"
   ]
  },
  {
   "cell_type": "markdown",
   "metadata": {},
   "source": [
    "### 09. Typoglycemia"
   ]
  },
  {
   "cell_type": "code",
   "execution_count": 17,
   "metadata": {},
   "outputs": [],
   "source": [
    "import random as rd"
   ]
  },
  {
   "cell_type": "code",
   "execution_count": 18,
   "metadata": {},
   "outputs": [],
   "source": [
    "def shuffle_str(x):\n",
    "    x = list(x)\n",
    "    rd.shuffle(x)\n",
    "    x = ''.join(x)\n",
    "    return x\n",
    "\n",
    "def typoglycemia(x):\n",
    "    if len(x) < 2:\n",
    "        return x\n",
    "    return x[0] + shuffle_str(x[1:-1]) + x[-1]"
   ]
  },
  {
   "cell_type": "code",
   "execution_count": 19,
   "metadata": {},
   "outputs": [
    {
     "data": {
      "text/plain": [
       "\"I clun'dot bveelie taht I cloud ataullcy uesnatndrd waht I was rneidag : the penoehnaml peowr of the human mind .\""
      ]
     },
     "execution_count": 19,
     "metadata": {},
     "output_type": "execute_result"
    }
   ],
   "source": [
    "x = \"I couldn't believe that I could actually understand what I was reading : the phenomenal power of the human mind .\"\n",
    "x = x.split(' ')\n",
    "x = [typoglycemia(word) for word in x]\n",
    "x = ' '.join(x)\n",
    "x"
   ]
  },
  {
   "cell_type": "code",
   "execution_count": null,
   "metadata": {},
   "outputs": [],
   "source": []
  }
 ],
 "metadata": {
  "kernelspec": {
   "display_name": "Python 3",
   "language": "python",
   "name": "python3"
  },
  "language_info": {
   "codemirror_mode": {
    "name": "ipython",
    "version": 3
   },
   "file_extension": ".py",
   "mimetype": "text/x-python",
   "name": "python",
   "nbconvert_exporter": "python",
   "pygments_lexer": "ipython3",
   "version": "3.8.5"
  }
 },
 "nbformat": 4,
 "nbformat_minor": 2
}
