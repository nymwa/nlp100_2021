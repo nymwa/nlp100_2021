{
 "cells": [
  {
   "cell_type": "markdown",
   "metadata": {},
   "source": [
    "### 10. 行数のカウント"
   ]
  },
  {
   "cell_type": "markdown",
   "metadata": {},
   "source": [
    "python"
   ]
  },
  {
   "cell_type": "code",
   "execution_count": 1,
   "metadata": {},
   "outputs": [
    {
     "name": "stdout",
     "output_type": "stream",
     "text": [
      "2780\n"
     ]
    }
   ],
   "source": [
    "with open('data/popular-names.txt') as f:\n",
    "    print(len(list(f)))"
   ]
  },
  {
   "cell_type": "code",
   "execution_count": 2,
   "metadata": {},
   "outputs": [
    {
     "data": {
      "text/plain": [
       "2780"
      ]
     },
     "execution_count": 2,
     "metadata": {},
     "output_type": "execute_result"
    }
   ],
   "source": [
    "with open('data/popular-names.txt') as f:\n",
    "    for i, _ in enumerate(f, start=1):\n",
    "        pass\n",
    "i"
   ]
  },
  {
   "cell_type": "markdown",
   "metadata": {},
   "source": [
    "shell"
   ]
  },
  {
   "cell_type": "code",
   "execution_count": 3,
   "metadata": {},
   "outputs": [
    {
     "name": "stdout",
     "output_type": "stream",
     "text": [
      "2780\r\n"
     ]
    }
   ],
   "source": [
    "! wc -l < data/popular-names.txt"
   ]
  },
  {
   "cell_type": "markdown",
   "metadata": {},
   "source": [
    "### 11. タブをスペースに置換"
   ]
  },
  {
   "cell_type": "markdown",
   "metadata": {},
   "source": [
    "python"
   ]
  },
  {
   "cell_type": "code",
   "execution_count": 4,
   "metadata": {},
   "outputs": [
    {
     "name": "stdout",
     "output_type": "stream",
     "text": [
      "Mary F 7065 1880\n",
      "Anna F 2604 1880\n",
      "Emma F 2003 1880\n",
      "Elizabeth F 1939 1880\n",
      "Minnie F 1746 1880\n",
      "Margaret F 1578 1880\n",
      "Ida F 1472 1880\n",
      "Alice F 1414 1880\n",
      "Bertha F 1320 1880\n",
      "Sarah F 1288 1880\n"
     ]
    }
   ],
   "source": [
    "with open('data/popular-names.txt') as f:\n",
    "    for line in list(f)[:10]: # 本当はこんなことしないでfのままでいいんだけど，github上で閲覧するときにスクロールが面倒なので妥協\n",
    "        line = line.strip()\n",
    "        line = line.replace('\\t', ' ')\n",
    "        print(line)"
   ]
  },
  {
   "cell_type": "markdown",
   "metadata": {},
   "source": [
    "shell"
   ]
  },
  {
   "cell_type": "code",
   "execution_count": 5,
   "metadata": {},
   "outputs": [
    {
     "name": "stdout",
     "output_type": "stream",
     "text": [
      "Mary F 7065 1880\r\n",
      "Anna F 2604 1880\r\n",
      "Emma F 2003 1880\r\n",
      "Elizabeth F 1939 1880\r\n",
      "Minnie F 1746 1880\r\n",
      "Margaret F 1578 1880\r\n",
      "Ida F 1472 1880\r\n",
      "Alice F 1414 1880\r\n",
      "Bertha F 1320 1880\r\n",
      "Sarah F 1288 1880\r\n"
     ]
    }
   ],
   "source": [
    "! awk '{gsub(\"\\t\", \" \", $0); print $0}' data/popular-names.txt | head"
   ]
  },
  {
   "cell_type": "code",
   "execution_count": 6,
   "metadata": {},
   "outputs": [
    {
     "name": "stdout",
     "output_type": "stream",
     "text": [
      "Mary F 7065 1880\r\n",
      "Anna F 2604 1880\r\n",
      "Emma F 2003 1880\r\n",
      "Elizabeth F 1939 1880\r\n",
      "Minnie F 1746 1880\r\n",
      "Margaret F 1578 1880\r\n",
      "Ida F 1472 1880\r\n",
      "Alice F 1414 1880\r\n",
      "Bertha F 1320 1880\r\n",
      "Sarah F 1288 1880\r\n",
      "-p destination: Broken pipe\r\n"
     ]
    }
   ],
   "source": [
    "! perl -pe 's/\\t/ /g' data/popular-names.txt | head"
   ]
  },
  {
   "cell_type": "code",
   "execution_count": 7,
   "metadata": {},
   "outputs": [
    {
     "name": "stdout",
     "output_type": "stream",
     "text": [
      "Mary F 7065 1880\r\n",
      "Anna F 2604 1880\r\n",
      "Emma F 2003 1880\r\n",
      "Elizabeth F 1939 1880\r\n",
      "Minnie F 1746 1880\r\n",
      "Margaret F 1578 1880\r\n",
      "Ida F 1472 1880\r\n",
      "Alice F 1414 1880\r\n",
      "Bertha F 1320 1880\r\n",
      "Sarah F 1288 1880\r\n",
      "sed: couldn't write 18 items to stdout: Broken pipe\r\n"
     ]
    }
   ],
   "source": [
    "! sed 's/\\t/ /g'  data/popular-names.txt | head"
   ]
  },
  {
   "cell_type": "code",
   "execution_count": 8,
   "metadata": {},
   "outputs": [
    {
     "name": "stdout",
     "output_type": "stream",
     "text": [
      "Mary F 7065 1880\r\n",
      "Anna F 2604 1880\r\n",
      "Emma F 2003 1880\r\n",
      "Elizabeth F 1939 1880\r\n",
      "Minnie F 1746 1880\r\n",
      "Margaret F 1578 1880\r\n",
      "Ida F 1472 1880\r\n",
      "Alice F 1414 1880\r\n",
      "Bertha F 1320 1880\r\n",
      "Sarah F 1288 1880\r\n",
      "sed: couldn't write 19 items to stdout: Broken pipe\r\n"
     ]
    }
   ],
   "source": [
    "! sed -e 's/[[:space:]]\\+/ /g' data/popular-names.txt | head"
   ]
  },
  {
   "cell_type": "code",
   "execution_count": 9,
   "metadata": {},
   "outputs": [
    {
     "name": "stdout",
     "output_type": "stream",
     "text": [
      "Mary F 7065 1880\r\n",
      "Anna F 2604 1880\r\n",
      "Emma F 2003 1880\r\n",
      "Elizabeth F 1939 1880\r\n",
      "Minnie F 1746 1880\r\n",
      "Margaret F 1578 1880\r\n",
      "Ida F 1472 1880\r\n",
      "Alice F 1414 1880\r\n",
      "Bertha F 1320 1880\r\n",
      "Sarah F 1288 1880\r\n"
     ]
    }
   ],
   "source": [
    "! expand -t 1 data/popular-names.txt | head"
   ]
  },
  {
   "cell_type": "code",
   "execution_count": 10,
   "metadata": {},
   "outputs": [
    {
     "name": "stdout",
     "output_type": "stream",
     "text": [
      "Mary F 7065 1880\r\n",
      "Anna F 2604 1880\r\n",
      "Emma F 2003 1880\r\n",
      "Elizabeth F 1939 1880\r\n",
      "Minnie F 1746 1880\r\n",
      "Margaret F 1578 1880\r\n",
      "Ida F 1472 1880\r\n",
      "Alice F 1414 1880\r\n",
      "Bertha F 1320 1880\r\n",
      "Sarah F 1288 1880\r\n"
     ]
    }
   ],
   "source": [
    "! tr '\\t' ' ' < data/popular-names.txt | head"
   ]
  },
  {
   "cell_type": "markdown",
   "metadata": {},
   "source": [
    "### 12. 1列目をcol1.txtに，2列目をcol2.txtに保存"
   ]
  },
  {
   "cell_type": "markdown",
   "metadata": {},
   "source": [
    "python"
   ]
  },
  {
   "cell_type": "code",
   "execution_count": 11,
   "metadata": {},
   "outputs": [],
   "source": [
    "with open('data/popular-names.txt') as f, \\\n",
    "        open('result/col1.txt', 'w') as g, \\\n",
    "        open('result/col2.txt', 'w') as h:\n",
    "    for line in f:\n",
    "        line = line.strip()\n",
    "        pref, city, _, _  = line.split('\\t')\n",
    "        print(pref, file=g)\n",
    "        print(city, file=h)"
   ]
  },
  {
   "cell_type": "code",
   "execution_count": 12,
   "metadata": {},
   "outputs": [
    {
     "name": "stdout",
     "output_type": "stream",
     "text": [
      "Mary\r\n",
      "Anna\r\n",
      "Emma\r\n",
      "Elizabeth\r\n",
      "Minnie\r\n",
      "Margaret\r\n",
      "Ida\r\n",
      "Alice\r\n",
      "Bertha\r\n",
      "Sarah\r\n"
     ]
    }
   ],
   "source": [
    "! head result/col1.txt"
   ]
  },
  {
   "cell_type": "code",
   "execution_count": 13,
   "metadata": {},
   "outputs": [
    {
     "name": "stdout",
     "output_type": "stream",
     "text": [
      "F\r\n",
      "F\r\n",
      "F\r\n",
      "F\r\n",
      "F\r\n",
      "F\r\n",
      "F\r\n",
      "F\r\n",
      "F\r\n",
      "F\r\n"
     ]
    }
   ],
   "source": [
    "! head result/col2.txt"
   ]
  },
  {
   "cell_type": "markdown",
   "metadata": {},
   "source": [
    "shell"
   ]
  },
  {
   "cell_type": "code",
   "execution_count": 14,
   "metadata": {},
   "outputs": [
    {
     "name": "stdout",
     "output_type": "stream",
     "text": [
      "Mary\r\n",
      "Anna\r\n",
      "Emma\r\n",
      "Elizabeth\r\n",
      "Minnie\r\n",
      "Margaret\r\n",
      "Ida\r\n",
      "Alice\r\n",
      "Bertha\r\n",
      "Sarah\r\n"
     ]
    }
   ],
   "source": [
    "! cut -f 1 data/popular-names.txt | head"
   ]
  },
  {
   "cell_type": "code",
   "execution_count": 15,
   "metadata": {},
   "outputs": [
    {
     "name": "stdout",
     "output_type": "stream",
     "text": [
      "F\r\n",
      "F\r\n",
      "F\r\n",
      "F\r\n",
      "F\r\n",
      "F\r\n",
      "F\r\n",
      "F\r\n",
      "F\r\n",
      "F\r\n"
     ]
    }
   ],
   "source": [
    "! cut -f 2 data/popular-names.txt | head"
   ]
  },
  {
   "cell_type": "markdown",
   "metadata": {},
   "source": [
    "### 13. col1.txtとcol2.txtをマージ"
   ]
  },
  {
   "cell_type": "markdown",
   "metadata": {},
   "source": [
    "python"
   ]
  },
  {
   "cell_type": "code",
   "execution_count": 16,
   "metadata": {},
   "outputs": [
    {
     "name": "stdout",
     "output_type": "stream",
     "text": [
      "Mary\tF\n",
      "Anna\tF\n",
      "Emma\tF\n",
      "Elizabeth\tF\n",
      "Minnie\tF\n",
      "Margaret\tF\n",
      "Ida\tF\n",
      "Alice\tF\n",
      "Bertha\tF\n",
      "Sarah\tF\n"
     ]
    }
   ],
   "source": [
    "with open('result/col1.txt') as f, open('result/col2.txt') as g:\n",
    "    for lines in list(zip(f, g))[:10]: # zip(f, g)でいい\n",
    "        x = [line.strip() for line in lines]\n",
    "        x = '\\t'.join(x)\n",
    "        print(x)"
   ]
  },
  {
   "cell_type": "code",
   "execution_count": 17,
   "metadata": {},
   "outputs": [],
   "source": [
    "from contextlib import ExitStack"
   ]
  },
  {
   "cell_type": "code",
   "execution_count": 18,
   "metadata": {},
   "outputs": [
    {
     "name": "stdout",
     "output_type": "stream",
     "text": [
      "Mary\tF\n",
      "Anna\tF\n",
      "Emma\tF\n",
      "Elizabeth\tF\n",
      "Minnie\tF\n",
      "Margaret\tF\n",
      "Ida\tF\n",
      "Alice\tF\n",
      "Bertha\tF\n",
      "Sarah\tF\n"
     ]
    }
   ],
   "source": [
    "files = ['result/col1.txt', 'result/col2.txt']\n",
    "with ExitStack() as stack:\n",
    "    files = [\n",
    "        stack.enter_context(open(filename))\n",
    "        for filename in files]\n",
    "    for lines in list(zip(*files))[:10]: # zip(*files)でいい\n",
    "        x = [line.strip() for line in lines]\n",
    "        x = '\\t'.join(x)\n",
    "        print(x)"
   ]
  },
  {
   "cell_type": "markdown",
   "metadata": {},
   "source": [
    "shell"
   ]
  },
  {
   "cell_type": "code",
   "execution_count": 19,
   "metadata": {},
   "outputs": [
    {
     "name": "stdout",
     "output_type": "stream",
     "text": [
      "Mary\tF\r\n",
      "Anna\tF\r\n",
      "Emma\tF\r\n",
      "Elizabeth\tF\r\n",
      "Minnie\tF\r\n",
      "Margaret\tF\r\n",
      "Ida\tF\r\n",
      "Alice\tF\r\n",
      "Bertha\tF\r\n",
      "Sarah\tF\r\n"
     ]
    }
   ],
   "source": [
    "! paste result/col1.txt result/col2.txt | head"
   ]
  },
  {
   "cell_type": "markdown",
   "metadata": {},
   "source": [
    "### 14. 先頭からN行を出力"
   ]
  },
  {
   "cell_type": "markdown",
   "metadata": {},
   "source": [
    "python"
   ]
  },
  {
   "cell_type": "code",
   "execution_count": 20,
   "metadata": {},
   "outputs": [
    {
     "name": "stdout",
     "output_type": "stream",
     "text": [
      "Mary\tF\t7065\t1880\n",
      "Anna\tF\t2604\t1880\n",
      "Emma\tF\t2003\t1880\n",
      "Elizabeth\tF\t1939\t1880\n",
      "Minnie\tF\t1746\t1880\n"
     ]
    }
   ],
   "source": [
    "N = 5\n",
    "with open('data/popular-names.txt') as f:\n",
    "    lst = range(N)\n",
    "    for _, line in zip(lst, f):\n",
    "        print(line, end='')"
   ]
  },
  {
   "cell_type": "markdown",
   "metadata": {},
   "source": [
    "shell"
   ]
  },
  {
   "cell_type": "code",
   "execution_count": 21,
   "metadata": {},
   "outputs": [
    {
     "name": "stdout",
     "output_type": "stream",
     "text": [
      "Mary\tF\t7065\t1880\r\n",
      "Anna\tF\t2604\t1880\r\n",
      "Emma\tF\t2003\t1880\r\n",
      "Elizabeth\tF\t1939\t1880\r\n",
      "Minnie\tF\t1746\t1880\r\n"
     ]
    }
   ],
   "source": [
    "! head -n 5 data/popular-names.txt"
   ]
  },
  {
   "cell_type": "markdown",
   "metadata": {},
   "source": [
    "### 15. 末尾のN行を出力"
   ]
  },
  {
   "cell_type": "markdown",
   "metadata": {},
   "source": [
    "python"
   ]
  },
  {
   "cell_type": "code",
   "execution_count": 22,
   "metadata": {},
   "outputs": [],
   "source": [
    "from collections import deque"
   ]
  },
  {
   "cell_type": "code",
   "execution_count": 23,
   "metadata": {},
   "outputs": [
    {
     "name": "stdout",
     "output_type": "stream",
     "text": [
      "Benjamin\tM\t13381\t2018\n",
      "Elijah\tM\t12886\t2018\n",
      "Lucas\tM\t12585\t2018\n",
      "Mason\tM\t12435\t2018\n",
      "Logan\tM\t12352\t2018\n"
     ]
    }
   ],
   "source": [
    "N = 5\n",
    "with open('data/popular-names.txt') as f:\n",
    "    queue = deque(f, N)\n",
    "for line in queue:\n",
    "    line = line.strip()\n",
    "    print(line)"
   ]
  },
  {
   "cell_type": "markdown",
   "metadata": {},
   "source": [
    "shell"
   ]
  },
  {
   "cell_type": "code",
   "execution_count": 24,
   "metadata": {},
   "outputs": [
    {
     "name": "stdout",
     "output_type": "stream",
     "text": [
      "Benjamin\tM\t13381\t2018\r\n",
      "Elijah\tM\t12886\t2018\r\n",
      "Lucas\tM\t12585\t2018\r\n",
      "Mason\tM\t12435\t2018\r\n",
      "Logan\tM\t12352\t2018\r\n"
     ]
    }
   ],
   "source": [
    "! tail -n 5 data/popular-names.txt"
   ]
  },
  {
   "cell_type": "markdown",
   "metadata": {},
   "source": [
    "### 16. ファイルをN分割する"
   ]
  },
  {
   "cell_type": "markdown",
   "metadata": {},
   "source": [
    "shell"
   ]
  },
  {
   "cell_type": "code",
   "execution_count": 25,
   "metadata": {},
   "outputs": [],
   "source": [
    "! split -d -nl/5 data/popular-names.txt result/shell5."
   ]
  },
  {
   "cell_type": "code",
   "execution_count": 26,
   "metadata": {},
   "outputs": [
    {
     "name": "stdout",
     "output_type": "stream",
     "text": [
      "  2780  11120  55026 result/shell.18\r\n",
      "   136    136    943 result/shell.19\r\n",
      "   587   2348  11007 result/shell5.00\r\n",
      "   554   2216  11010 result/shell5.01\r\n",
      "   556   2224  11006 result/shell5.02\r\n",
      "   540   2160  11007 result/shell5.03\r\n",
      "   543   2172  10996 result/shell5.04\r\n",
      "  5696  22376 110995 total\r\n"
     ]
    }
   ],
   "source": [
    "! wc result/shell*"
   ]
  },
  {
   "cell_type": "markdown",
   "metadata": {},
   "source": [
    "python\n",
    "\n",
    "https://github.com/coreutils/coreutils/blob/master/src/split.c を再現しています"
   ]
  },
  {
   "cell_type": "code",
   "execution_count": 27,
   "metadata": {},
   "outputs": [],
   "source": [
    "def get_chunk_ends(N, f):\n",
    "    chunk_size = sum([len(x) for x in f]) // N\n",
    "    chunk_ends = [chunk_size * (n + 1) - 1 for n in range(N)]\n",
    "    return chunk_ends\n",
    "\n",
    "def get_suffix_length(N):\n",
    "    # https://github.com/coreutils/coreutils/blob/bb21daa125aeb4e32546309d370918ca47e612db/src/split.c#L165\n",
    "    return max(2, len(str(N - 1)))\n",
    "\n",
    "def split_file(N, filepath, outprefix):\n",
    "    with open(filepath) as f:\n",
    "        chunk_ends = get_chunk_ends(N, f)\n",
    "\n",
    "    suffix_length = get_suffix_length(N)\n",
    "    with open(filepath) as f:\n",
    "        acc = 0\n",
    "        for index, chunk_end in enumerate(chunk_ends):\n",
    "            suffix = str(index).zfill(suffix_length)\n",
    "            filename = outprefix + suffix\n",
    "            with open(outprefix + suffix, 'w') as g:\n",
    "                while acc < chunk_end:\n",
    "                    line = f.readline()\n",
    "                    acc += len(line)\n",
    "                    g.write(line)\n",
    "                    \n",
    "split_file(5, 'data/popular-names.txt', 'result/python5.')"
   ]
  },
  {
   "cell_type": "code",
   "execution_count": 28,
   "metadata": {},
   "outputs": [],
   "source": [
    "! diff result/python5.00 result/shell5.00\n",
    "! diff result/python5.01 result/shell5.01\n",
    "! diff result/python5.02 result/shell5.02\n",
    "! diff result/python5.03 result/shell5.03\n",
    "! diff result/python5.04 result/shell5.04"
   ]
  },
  {
   "cell_type": "markdown",
   "metadata": {},
   "source": [
    "### 17. １列目の文字列の異なり"
   ]
  },
  {
   "cell_type": "markdown",
   "metadata": {},
   "source": [
    "python"
   ]
  },
  {
   "cell_type": "code",
   "execution_count": 29,
   "metadata": {},
   "outputs": [
    {
     "name": "stdout",
     "output_type": "stream",
     "text": [
      "Abigail\n",
      "Aiden\n",
      "Alexander\n",
      "Alexis\n",
      "Alice\n",
      "Amanda\n",
      "Amelia\n",
      "Amy\n",
      "Andrew\n",
      "Angela\n"
     ]
    }
   ],
   "source": [
    "with open('data/popular-names.txt') as f:\n",
    "    names = {line.split('\\t')[0] for line in f}\n",
    "names = list(names)\n",
    "names.sort()\n",
    "\n",
    "for name in names[:10]:\n",
    "    print(name)"
   ]
  },
  {
   "cell_type": "markdown",
   "metadata": {},
   "source": [
    "shell"
   ]
  },
  {
   "cell_type": "code",
   "execution_count": 30,
   "metadata": {},
   "outputs": [
    {
     "name": "stdout",
     "output_type": "stream",
     "text": [
      "Abigail\r\n",
      "Aiden\r\n",
      "Alexander\r\n",
      "Alexis\r\n",
      "Alice\r\n",
      "Amanda\r\n",
      "Amelia\r\n",
      "Amy\r\n",
      "Andrew\r\n",
      "Angela\r\n"
     ]
    }
   ],
   "source": [
    "! cut -f 1 data/popular-names.txt | sort -s | uniq | head"
   ]
  },
  {
   "cell_type": "markdown",
   "metadata": {},
   "source": [
    "### 18. 各行を3コラム目の数値の降順にソート"
   ]
  },
  {
   "cell_type": "markdown",
   "metadata": {},
   "source": [
    "python"
   ]
  },
  {
   "cell_type": "code",
   "execution_count": 31,
   "metadata": {},
   "outputs": [
    {
     "name": "stdout",
     "output_type": "stream",
     "text": [
      "Linda\tF\t99689\t1947\n",
      "Linda\tF\t96211\t1948\n",
      "James\tM\t94757\t1947\n",
      "Michael\tM\t92704\t1957\n",
      "Robert\tM\t91640\t1947\n",
      "Linda\tF\t91016\t1949\n",
      "Michael\tM\t90656\t1956\n",
      "Michael\tM\t90517\t1958\n",
      "James\tM\t88584\t1948\n",
      "Michael\tM\t88528\t1954\n"
     ]
    }
   ],
   "source": [
    "with open('data/popular-names.txt') as f:\n",
    "    lst = [line.strip() for line in f]\n",
    "lst.sort(key = lambda x : -int(x.split('\\t')[2]))\n",
    "\n",
    "with open('result/python.18', 'w') as f:\n",
    "    for line in lst:\n",
    "        print(line, file=f)\n",
    "    \n",
    "for line in lst[:10]:\n",
    "    print(line)"
   ]
  },
  {
   "cell_type": "markdown",
   "metadata": {},
   "source": [
    "shell"
   ]
  },
  {
   "cell_type": "code",
   "execution_count": 32,
   "metadata": {},
   "outputs": [
    {
     "name": "stdout",
     "output_type": "stream",
     "text": [
      "Linda\tF\t99689\t1947\r\n",
      "Linda\tF\t96211\t1948\r\n",
      "James\tM\t94757\t1947\r\n",
      "Michael\tM\t92704\t1957\r\n",
      "Robert\tM\t91640\t1947\r\n",
      "Linda\tF\t91016\t1949\r\n",
      "Michael\tM\t90656\t1956\r\n",
      "Michael\tM\t90517\t1958\r\n",
      "James\tM\t88584\t1948\r\n",
      "Michael\tM\t88528\t1954\r\n"
     ]
    }
   ],
   "source": [
    "! sort -nrsk 3 data/popular-names.txt > result/shell.18\n",
    "! head result/shell.18"
   ]
  },
  {
   "cell_type": "code",
   "execution_count": 33,
   "metadata": {},
   "outputs": [],
   "source": [
    "! diff result/python.18 result/shell.18"
   ]
  },
  {
   "cell_type": "markdown",
   "metadata": {},
   "source": [
    "### 19. 各行の1コラム目の文字列の出現頻度を求め，出現頻度の高い順に並べる"
   ]
  },
  {
   "cell_type": "markdown",
   "metadata": {},
   "source": [
    "python"
   ]
  },
  {
   "cell_type": "code",
   "execution_count": 34,
   "metadata": {},
   "outputs": [],
   "source": [
    "from collections import Counter"
   ]
  },
  {
   "cell_type": "code",
   "execution_count": 35,
   "metadata": {},
   "outputs": [],
   "source": [
    "counter = Counter()\n",
    "with open('data/popular-names.txt') as f:\n",
    "    for line in f:\n",
    "        name = line.split('\\t')[0]\n",
    "        counter[name] += 1\n",
    "        \n",
    "lst = counter.most_common()\n",
    "lst.sort(key=lambda x:(-x[1], x[0]))\n",
    "        \n",
    "with open('result/python.19', 'w') as f:\n",
    "    for name, _ in lst:\n",
    "        print(name, file=f)"
   ]
  },
  {
   "cell_type": "code",
   "execution_count": 36,
   "metadata": {},
   "outputs": [
    {
     "name": "stdout",
     "output_type": "stream",
     "text": [
      "James\r\n",
      "William\r\n",
      "John\r\n",
      "Robert\r\n",
      "Mary\r\n",
      "Charles\r\n",
      "Michael\r\n",
      "Elizabeth\r\n",
      "Joseph\r\n",
      "Margaret\r\n"
     ]
    }
   ],
   "source": [
    "! head result/python.19"
   ]
  },
  {
   "cell_type": "code",
   "execution_count": 37,
   "metadata": {},
   "outputs": [
    {
     "name": "stdout",
     "output_type": "stream",
     "text": [
      "Julie\r\n",
      "Kelly\r\n",
      "Laura\r\n",
      "Lori\r\n",
      "Lucas\r\n",
      "Pamela\r\n",
      "Rachel\r\n",
      "Scott\r\n",
      "Tracy\r\n",
      "Walter\r\n"
     ]
    }
   ],
   "source": [
    "! tail result/python.19"
   ]
  },
  {
   "cell_type": "markdown",
   "metadata": {},
   "source": [
    "shell"
   ]
  },
  {
   "cell_type": "code",
   "execution_count": 38,
   "metadata": {},
   "outputs": [],
   "source": [
    "! cut -f 1 data/popular-names.txt | sort | uniq -c | sort -nrsk1 | awk '{print $2}' > result/shell.19"
   ]
  },
  {
   "cell_type": "code",
   "execution_count": 39,
   "metadata": {},
   "outputs": [
    {
     "name": "stdout",
     "output_type": "stream",
     "text": [
      "James\r\n",
      "William\r\n",
      "John\r\n",
      "Robert\r\n",
      "Mary\r\n",
      "Charles\r\n",
      "Michael\r\n",
      "Elizabeth\r\n",
      "Joseph\r\n",
      "Margaret\r\n"
     ]
    }
   ],
   "source": [
    "! head result/shell.19"
   ]
  },
  {
   "cell_type": "code",
   "execution_count": 40,
   "metadata": {},
   "outputs": [
    {
     "name": "stdout",
     "output_type": "stream",
     "text": [
      "Julie\r\n",
      "Kelly\r\n",
      "Laura\r\n",
      "Lori\r\n",
      "Lucas\r\n",
      "Pamela\r\n",
      "Rachel\r\n",
      "Scott\r\n",
      "Tracy\r\n",
      "Walter\r\n"
     ]
    }
   ],
   "source": [
    "! tail result/shell.19"
   ]
  },
  {
   "cell_type": "code",
   "execution_count": 41,
   "metadata": {},
   "outputs": [],
   "source": [
    "! diff result/python.19 result/shell.19"
   ]
  },
  {
   "cell_type": "code",
   "execution_count": null,
   "metadata": {},
   "outputs": [],
   "source": []
  }
 ],
 "metadata": {
  "kernelspec": {
   "display_name": "Python 3",
   "language": "python",
   "name": "python3"
  },
  "language_info": {
   "codemirror_mode": {
    "name": "ipython",
    "version": 3
   },
   "file_extension": ".py",
   "mimetype": "text/x-python",
   "name": "python",
   "nbconvert_exporter": "python",
   "pygments_lexer": "ipython3",
   "version": "3.8.5"
  }
 },
 "nbformat": 4,
 "nbformat_minor": 2
}
