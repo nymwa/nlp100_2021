{
 "cells": [
  {
   "cell_type": "markdown",
   "metadata": {},
   "source": [
    "### 90 データの準備"
   ]
  },
  {
   "cell_type": "code",
   "execution_count": 1,
   "metadata": {},
   "outputs": [],
   "source": [
    "# ! tar zxvf data/kftt-data-1.0.tar.gz"
   ]
  },
  {
   "cell_type": "code",
   "execution_count": 5,
   "metadata": {},
   "outputs": [
    {
     "name": "stdout",
     "output_type": "stream",
     "text": [
      "import sys\r\n",
      "from tqdm import tqdm\r\n",
      "\r\n",
      "def main():\r\n",
      "    for x in tqdm(sys.stdin):\r\n",
      "        print(x, end='')\r\n",
      "\r\n"
     ]
    }
   ],
   "source": [
    "! cat progress.py"
   ]
  },
  {
   "cell_type": "code",
   "execution_count": 6,
   "metadata": {},
   "outputs": [
    {
     "name": "stdout",
     "output_type": "stream",
     "text": [
      "import re\r\n",
      "import sys\r\n",
      "import spacy\r\n",
      "\r\n",
      "def main():\r\n",
      "    ginza = spacy.load('ja_ginza')\r\n",
      "    pattern = re.compile(r'\\s+')\r\n",
      "    for x in sys.stdin:\r\n",
      "        x = x.strip()\r\n",
      "        x = pattern.sub(' ', x)\r\n",
      "        x = ginza.make_doc(x)\r\n",
      "        x = ' '.join([doc.text for doc in x])\r\n",
      "        print(x)\r\n",
      "\r\n",
      "if __name__ == '__main__':\r\n",
      "    main()\r\n",
      "\r\n"
     ]
    }
   ],
   "source": [
    "! cat ginza_tokenize.py"
   ]
  },
  {
   "cell_type": "code",
   "execution_count": 10,
   "metadata": {
    "scrolled": true
   },
   "outputs": [
    {
     "name": "stdout",
     "output_type": "stream",
     "text": [
      "440288it [01:20, 5500.47it/s] \n"
     ]
    }
   ],
   "source": [
    "! parallel --pipe -j 16 -k --L 30000 'python ginza_tokenize.py' \\\n",
    "    < kftt-data-1.0/data/orig/kyoto-train.ja \\\n",
    "    2> /dev/null \\\n",
    "    | python progress.py \\\n",
    "    > ch10/train.spacy.ja"
   ]
  },
  {
   "cell_type": "code",
   "execution_count": 11,
   "metadata": {},
   "outputs": [],
   "source": [
    "! python ginza_tokenize.py < kftt-data-1.0/data/orig/kyoto-dev.ja > ch10/dev.spacy.ja"
   ]
  },
  {
   "cell_type": "code",
   "execution_count": 12,
   "metadata": {},
   "outputs": [],
   "source": [
    "! python ginza_tokenize.py < kftt-data-1.0/data/orig/kyoto-test.ja > ch10/test.spacy.ja"
   ]
  },
  {
   "cell_type": "code",
   "execution_count": 13,
   "metadata": {},
   "outputs": [
    {
     "name": "stdout",
     "output_type": "stream",
     "text": [
      "雪舟 （ せっ しゅう 、 1420 年 （ 応永 27 年 ） - 1506 年 （ 永正 3 年 ） ） は 号 で 、 15 世紀 後半 室町 時代 に 活躍 し た 水墨 画家 ・ 禅僧 で 、 画聖 と も 称え られる 。\r\n",
      "日本 の 水墨画 を 一変 さ せ た 。\r\n",
      "諱 は 「 等楊 （ とう よう ） 」 、 もしくは 「 拙 宗 （ せっ しゅう ） 」 と 号し た 。\r\n",
      "備中 国 に 生まれ 、 京都 ・ 相国 寺 に 入っ て から 周防 国 に 移る 。\r\n",
      "その 後 遣明 使 に 随行 し て 中国 （ 明 ） に 渡っ て 中国 の 水墨画 を 学ん だ 。\r\n",
      "作品 は 数多く 、 中国 風 の 山水画 だけ で なく 人物画 や 花鳥画 も よく し た 。\r\n",
      "大胆 な 構図 と 力強い 筆線 は 非常 に 個性的 な 画風 を 作り出し て いる 。\r\n",
      "現存 する 作品 の うち 6 点 が 国宝 に 指定 さ れ て おり 、 日本 の 画家 の なか で も 別格 の 評価 を 受け て いる と いえる 。\r\n",
      "この ため 、 花鳥 図 屏風 など に 「 伝 雪舟 筆 」 さ れる 作品 は 大変 多い 。\r\n",
      "真筆 で ある か 専門家 の 間 で も 意見 の 分かれる もの も 多々 ある 。\r\n"
     ]
    }
   ],
   "source": [
    "! head ch10/train.spacy.ja"
   ]
  },
  {
   "cell_type": "code",
   "execution_count": 14,
   "metadata": {},
   "outputs": [
    {
     "name": "stdout",
     "output_type": "stream",
     "text": [
      "import re\r\n",
      "import sys\r\n",
      "import spacy\r\n",
      "\r\n",
      "def main():\r\n",
      "    nlp = spacy.load('en')\r\n",
      "    pattern = re.compile(r'\\s+')\r\n",
      "    for x in sys.stdin:\r\n",
      "        x = x.strip()\r\n",
      "        x = pattern.sub(' ', x)\r\n",
      "        x = nlp.make_doc(x)\r\n",
      "        x = ' '.join([doc.text for doc in x])\r\n",
      "        print(x)\r\n",
      "\r\n",
      "if __name__ == '__main__':\r\n",
      "    main()\r\n",
      "\r\n"
     ]
    }
   ],
   "source": [
    "! cat spacy_tokenize.py"
   ]
  },
  {
   "cell_type": "code",
   "execution_count": 15,
   "metadata": {},
   "outputs": [
    {
     "name": "stdout",
     "output_type": "stream",
     "text": [
      "440288it [01:13, 6020.57it/s]\n"
     ]
    }
   ],
   "source": [
    "! python spacy_tokenize.py < kftt-data-1.0/data/orig/kyoto-train.en | python progress.py > ch10/train.spacy.en"
   ]
  },
  {
   "cell_type": "code",
   "execution_count": 16,
   "metadata": {},
   "outputs": [],
   "source": [
    "! python spacy_tokenize.py < kftt-data-1.0/data/orig/kyoto-dev.en > ch10/dev.spacy.en"
   ]
  },
  {
   "cell_type": "code",
   "execution_count": 17,
   "metadata": {},
   "outputs": [],
   "source": [
    "! python spacy_tokenize.py < kftt-data-1.0/data/orig/kyoto-test.en > ch10/test.spacy.en"
   ]
  },
  {
   "cell_type": "code",
   "execution_count": 18,
   "metadata": {},
   "outputs": [
    {
     "name": "stdout",
     "output_type": "stream",
     "text": [
      "Known as Sesshu ( 1420 - 1506 ) , he was an ink painter and Zen monk active in the Muromachi period in the latter half of the 15th century , and was called a master painter .\r\n",
      "He revolutionized the Japanese ink painting .\r\n",
      "He was given the posthumous name \" Toyo \" or \" Sesshu ( 拙宗 ) . \"\r\n",
      "Born in Bicchu Province , he moved to Suo Province after entering SShokoku - ji Temple in Kyoto .\r\n",
      "Later he accompanied a mission to Ming Dynasty China and learned Chinese ink painting .\r\n",
      "His works were many , including not only Chinese - style landscape paintings , but also portraits and pictures of flowers and birds .\r\n",
      "His bold compositions and strong brush strokes constituted an extremely distinctive style .\r\n",
      "6 of his extant works are designated national treasures . Indeed , he is considered to be extraordinary among Japanese painters .\r\n",
      "For this reason , there are a great many artworks that are attributed to him , such as folding screens with pictures of flowers and that birds are painted on them .\r\n",
      "There are many works that even experts can not agree if they are really his work or not .\r\n"
     ]
    }
   ],
   "source": [
    "! head ch10/train.spacy.en"
   ]
  },
  {
   "cell_type": "markdown",
   "metadata": {},
   "source": [
    "### 91. 機械翻訳モデルの訓練"
   ]
  },
  {
   "cell_type": "code",
   "execution_count": 19,
   "metadata": {},
   "outputs": [],
   "source": [
    "# ! pip install fairseq==0.10.2"
   ]
  },
  {
   "cell_type": "code",
   "execution_count": 22,
   "metadata": {},
   "outputs": [
    {
     "name": "stdout",
     "output_type": "stream",
     "text": [
      "2021-04-05 22:57:08 | INFO | fairseq_cli.preprocess | Namespace(align_suffix=None, alignfile=None, all_gather_list_size=16384, bf16=False, bpe=None, checkpoint_shard_count=1, checkpoint_suffix='', cpu=False, criterion='cross_entropy', dataset_impl='mmap', destdir='ch10/data91', empty_cache_freq=0, fp16=False, fp16_init_scale=128, fp16_no_flatten_grads=False, fp16_scale_tolerance=0.0, fp16_scale_window=None, joined_dictionary=False, log_format=None, log_interval=100, lr_scheduler='fixed', memory_efficient_bf16=False, memory_efficient_fp16=False, min_loss_scale=0.0001, model_parallel_size=1, no_progress_bar=False, nwordssrc=-1, nwordstgt=-1, only_source=False, optimizer=None, padding_factor=8, profile=False, quantization_config_path=None, scoring='bleu', seed=1, source_lang='ja', srcdict=None, target_lang='en', task='translation', tensorboard_logdir=None, testpref=None, tgtdict=None, threshold_loss_scale=None, thresholdsrc=5, thresholdtgt=5, tokenizer=None, tpu=False, trainpref='ch10/train.spacy', user_dir=None, validpref='ch10/dev.spacy', workers=20)\r\n",
      "Traceback (most recent call last):\r\n",
      "  File \"/home/koyama.s/nlp10021/envs/nlp10021/bin/fairseq-preprocess\", line 8, in <module>\r\n",
      "    sys.exit(cli_main())\r\n",
      "  File \"/home/koyama.s/nlp10021/envs/nlp10021/lib/python3.8/site-packages/fairseq_cli/preprocess.py\", line 394, in cli_main\r\n",
      "    main(args)\r\n",
      "  File \"/home/koyama.s/nlp10021/envs/nlp10021/lib/python3.8/site-packages/fairseq_cli/preprocess.py\", line 74, in main\r\n",
      "    raise FileExistsError(dict_path(args.source_lang))\r\n",
      "FileExistsError: ch10/data91/dict.ja.txt\r\n"
     ]
    }
   ],
   "source": [
    "!fairseq-preprocess -s ja -t en \\\n",
    "    --trainpref ch10/train.spacy \\\n",
    "    --validpref ch10/dev.spacy \\\n",
    "    --destdir ch10/data91  \\\n",
    "    --thresholdsrc 5 \\\n",
    "    --thresholdtgt 5 \\\n",
    "    --workers 20"
   ]
  },
  {
   "cell_type": "code",
   "execution_count": 24,
   "metadata": {},
   "outputs": [
    {
     "name": "stdout",
     "output_type": "stream",
     "text": [
      "/home/koyama.s/nlp10021/envs/nlp10021/lib/python3.8/site-packages/torch/nn/parallel/distributed.py:425: UserWarning: The `check_reduction` argument in `DistributedDataParallel` module is deprecated. Please avoid using it.\r\n",
      "  warnings.warn(\r\n",
      "/home/koyama.s/nlp10021/envs/nlp10021/lib/python3.8/site-packages/torch/nn/parallel/distributed.py:425: UserWarning: The `check_reduction` argument in `DistributedDataParallel` module is deprecated. Please avoid using it.\r\n",
      "  warnings.warn(\r\n"
     ]
    }
   ],
   "source": [
    "! fairseq-train ch10/data91 \\\n",
    "    --fp16 \\\n",
    "    --save-dir ch10/save91 \\\n",
    "    --max-epoch 10 \\\n",
    "    --arch transformer \\\n",
    "    --encoder-normalize-before --decoder-normalize-before \\\n",
    "    --share-decoder-input-output-embed \\\n",
    "    --dropout 0.1 --attention-dropout 0.1 --activation-dropout 0.1 \\\n",
    "    --optimizer adam --adam-betas '(0.9, 0.999)' \\\n",
    "    --lr 0.001 --lr-scheduler inverse_sqrt --warmup-updates 4000 --warmup-init-lr 1e-07 \\\n",
    "    --update-freq 2 \\\n",
    "    --weight-decay 0.0001 \\\n",
    "    --criterion label_smoothed_cross_entropy --label-smoothing 0.1 \\\n",
    "    --max-tokens 4096 > ch10/91.log"
   ]
  },
  {
   "cell_type": "markdown",
   "metadata": {},
   "source": [
    "### 92. 機械翻訳モデルの適用"
   ]
  },
  {
   "cell_type": "code",
   "execution_count": 25,
   "metadata": {},
   "outputs": [],
   "source": [
    "! fairseq-interactive ch10/data91 \\\n",
    "    --path ch10/save91/checkpoint10.pt \\\n",
    "    --buffer-size 128 \\\n",
    "    --batch-size 128 \\\n",
    "    --beam 4 \\\n",
    "    --lenpen 0.6 \\\n",
    "    < ch10/dev.spacy.ja \\\n",
    "    | grep '^H' \\\n",
    "    | cut -f3 \\\n",
    "    > ch10/92.out"
   ]
  },
  {
   "cell_type": "markdown",
   "metadata": {},
   "source": [
    "### 93. BLEUスコアの計測"
   ]
  },
  {
   "cell_type": "code",
   "execution_count": 26,
   "metadata": {},
   "outputs": [
    {
     "name": "stdout",
     "output_type": "stream",
     "text": [
      "BLEU+case.mixed+numrefs.1+smooth.exp+tok.13a+version.1.5.1 = 17.7 47.5/22.7/12.5/7.4 (BP = 1.000 ratio = 1.122 hyp_len = 27236 ref_len = 24281)\r\n"
     ]
    }
   ],
   "source": [
    "! sacremoses -l en detokenize < ch10/92.out | sacrebleu kftt-data-1.0/data/orig/kyoto-dev.en"
   ]
  },
  {
   "cell_type": "markdown",
   "metadata": {},
   "source": [
    "### 94. ビーム探索"
   ]
  },
  {
   "cell_type": "code",
   "execution_count": 27,
   "metadata": {},
   "outputs": [],
   "source": [
    "%%bash\n",
    "for N in {1..10} ; do\n",
    "    fairseq-interactive ch10/data91 \\\n",
    "        --path ch10/save91/checkpoint10.pt \\\n",
    "        --buffer-size 128 \\\n",
    "        --batch-size 64 \\\n",
    "        --beam $N \\\n",
    "        --lenpen 0.6 \\\n",
    "        < ch10/dev.spacy.ja \\\n",
    "        | grep '^H' \\\n",
    "        | cut -f3 \\\n",
    "        > ch10/94.${N}.out\n",
    "done"
   ]
  },
  {
   "cell_type": "code",
   "execution_count": 31,
   "metadata": {},
   "outputs": [],
   "source": [
    "%%bash\n",
    "for N in {1..10} ; do\n",
    "    sacremoses -l en detokenize < ch10/94.${N}.out | sacrebleu kftt-data-1.0/data/orig/kyoto-dev.en > ch10/94.${N}.score\n",
    "done"
   ]
  },
  {
   "cell_type": "code",
   "execution_count": 32,
   "metadata": {},
   "outputs": [],
   "source": [
    "import matplotlib.pyplot as plt"
   ]
  },
  {
   "cell_type": "code",
   "execution_count": 33,
   "metadata": {},
   "outputs": [
    {
     "data": {
      "image/png": "[encoded data removed]",
      "text/plain": [
       "<Figure size 432x288 with 1 Axes>"
      ]
     },
     "metadata": {
      "needs_background": "light"
     },
     "output_type": "display_data"
    }
   ],
   "source": [
    "def read_score(filename):\n",
    "    with open(filename) as f:\n",
    "        x = f.readline()\n",
    "        x = re.search(r'(?<= )\\d*\\.\\d*(?= )', x)\n",
    "        return float(x.group())\n",
    "\n",
    "xs = range(1, 11)\n",
    "ys = [read_score(f'ch10/94.{x}.score') for x in xs]\n",
    "plt.plot(xs, ys)\n",
    "plt.show()"
   ]
  },
  {
   "cell_type": "markdown",
   "metadata": {},
   "source": [
    "### 95. サブワード化"
   ]
  },
  {
   "cell_type": "code",
   "execution_count": 34,
   "metadata": {},
   "outputs": [],
   "source": [
    "# ! pip install sentencepiece"
   ]
  },
  {
   "cell_type": "code",
   "execution_count": 35,
   "metadata": {},
   "outputs": [],
   "source": [
    "! cat ch10/train.spacy.ja ch10/train.spacy.en > ch10/train.spacy.jaen"
   ]
  },
  {
   "cell_type": "code",
   "execution_count": 37,
   "metadata": {},
   "outputs": [],
   "source": [
    "import sentencepiece as spm"
   ]
  },
  {
   "cell_type": "code",
   "execution_count": 38,
   "metadata": {},
   "outputs": [],
   "source": [
    "spm.SentencePieceTrainer.Train(\n",
    "    input = 'ch10/train.spacy.jaen',\n",
    "    model_prefix = 'ch10/kyoto',\n",
    "    model_type = 'bpe',\n",
    "    vocab_size = 16000,\n",
    "    character_coverage = 1.0,\n",
    "    num_threads = 16)"
   ]
  },
  {
   "cell_type": "code",
   "execution_count": 39,
   "metadata": {},
   "outputs": [
    {
     "data": {
      "text/plain": [
       "True"
      ]
     },
     "execution_count": 39,
     "metadata": {},
     "output_type": "execute_result"
    }
   ],
   "source": [
    "sp = spm.SentencePieceProcessor()\n",
    "sp.Load('ch10/kyoto.model')"
   ]
  },
  {
   "cell_type": "code",
   "execution_count": 40,
   "metadata": {},
   "outputs": [],
   "source": [
    "def sp_encode(src, dst, alpha=None):\n",
    "    with open(src) as f, open(dst, 'w') as g:\n",
    "        for x in f:\n",
    "            x = x.strip()\n",
    "            x = re.sub(r'\\s+', ' ', x)\n",
    "            if alpha is None:\n",
    "                x = sp.encode(x, out_type=str)\n",
    "            else:\n",
    "                x = sp.encode(x, out_type=str, enable_sampling=True, alpha=alpha)\n",
    "            x = ' '.join(x)\n",
    "            print(x, file=g)"
   ]
  },
  {
   "cell_type": "code",
   "execution_count": 41,
   "metadata": {},
   "outputs": [],
   "source": [
    "dev_ja_src = 'ch10/dev.spacy.ja'\n",
    "dev_en_src = 'ch10/dev.spacy.en'\n",
    "test_ja_src = 'ch10/test.spacy.ja'\n",
    "test_en_src = 'ch10/test.spacy.en'\n",
    "dev_ja_dst = 'ch10/dev.sub.ja'\n",
    "dev_en_dst = 'ch10/dev.sub.en'\n",
    "test_ja_dst = 'ch10/test.sub.ja'\n",
    "test_en_dst = 'ch10/test.sub.en'\n",
    "\n",
    "sp_encode(dev_ja_src, dev_ja_dst)\n",
    "sp_encode(dev_en_src, dev_en_dst)\n",
    "sp_encode(test_ja_src, test_ja_dst)\n",
    "sp_encode(test_en_src, test_en_dst)\n",
    "\n",
    "for epoch in range(1, 11):\n",
    "    src = 'ch10/train.spacy.ja'\n",
    "    dst = 'ch10/train.sub.{}.ja'.format(epoch)\n",
    "    sp_encode(src, dst, alpha=0.1)\n",
    "\n",
    "for epoch in range(1, 11):\n",
    "    src = 'ch10/train.spacy.en'\n",
    "    dst = 'ch10/train.sub.{}.en'.format(epoch)\n",
    "    sp_encode(src, dst, alpha=0.1)"
   ]
  },
  {
   "cell_type": "code",
   "execution_count": 46,
   "metadata": {},
   "outputs": [
    {
     "name": "stdout",
     "output_type": "stream",
     "text": [
      "▁雪 舟 ▁( ▁せ っ ▁し ゅう ▁、 ▁14 20 ▁年 ▁( ▁応永 ▁27 ▁年 ▁) ▁- ▁150 6 ▁年 ▁( ▁永正 ▁3 ▁年 ▁ ) ▁) ▁は ▁号 ▁ で ▁、 ▁15 ▁世紀 ▁後半 ▁室町 ▁時代 ▁に ▁活躍 ▁し ▁た ▁水 墨 ▁画 家 ▁・ ▁禅 僧 ▁で ▁ 、 ▁画 聖 ▁と ▁も ▁称 え ▁られる ▁。\r\n",
      "▁日本 ▁の ▁水 墨 画 ▁を ▁一 変 ▁さ ▁せ ▁ た ▁。\r\n",
      "▁諱 ▁は ▁「 ▁等 楊 ▁( ▁とう ▁よう ▁) ▁」 ▁、 ▁もしくは ▁「 ▁ 拙 ▁宗 ▁( ▁せ っ ▁し ゅう ▁) ▁」 ▁と ▁号 し ▁た ▁。\r\n",
      "▁備 中 ▁ 国 ▁に ▁生まれ ▁、 ▁京都 ▁・ ▁相 国 ▁寺 ▁に ▁入っ ▁て ▁から ▁周 防 ▁国 ▁に ▁移 る ▁。\r\n",
      "▁その ▁後 ▁遣 明 ▁使 ▁ に ▁随 行 ▁し ▁て ▁中国 ▁( ▁明 ▁) ▁ に ▁渡 っ ▁ て ▁中 国 ▁の ▁水 墨 画 ▁を ▁学ん ▁だ ▁。\r\n",
      "▁作 品 ▁は ▁数多く ▁、 ▁中国 ▁風 ▁の ▁山 水 画 ▁だけ ▁ で ▁な く ▁人物 画 ▁や ▁花 鳥 画 ▁も ▁よく ▁し ▁た ▁。\r\n",
      "▁大 胆 ▁な ▁構 図 ▁と ▁力 強 い ▁ 筆 線 ▁は ▁非常 ▁に ▁個 性 的 ▁な ▁画 風 ▁を ▁作り 出し ▁て ▁いる ▁。\r\n",
      "▁現存 ▁する ▁作品 ▁の ▁うち ▁6 ▁点 ▁が ▁国宝 ▁に ▁指 定 ▁さ ▁れ ▁て ▁おり ▁、 ▁日本 ▁の ▁画 家 ▁の ▁なか ▁で ▁も ▁別 格 ▁の ▁ 評 価 ▁を ▁受け ▁て ▁いる ▁と ▁いえる ▁。\r\n",
      "▁この ▁た め ▁、 ▁花 鳥 ▁図 ▁屏 風 ▁など ▁に ▁「 ▁伝 ▁雪 舟 ▁ 筆 ▁」 ▁さ ▁れる ▁作 品 ▁は ▁大 変 ▁ 多 い ▁。\r\n",
      "▁真 筆 ▁で ▁ある ▁か ▁専 門 家 ▁の ▁間 ▁で ▁も ▁ 意 見 ▁ の ▁分か れる ▁もの ▁も ▁多 々 ▁ある ▁。\r\n"
     ]
    }
   ],
   "source": [
    "! head ch10/train.sub.1.ja"
   ]
  },
  {
   "cell_type": "code",
   "execution_count": 47,
   "metadata": {},
   "outputs": [
    {
     "name": "stdout",
     "output_type": "stream",
     "text": [
      "▁ 雪 舟 ▁( ▁せ っ ▁し ゅう ▁、 ▁1 4 20 ▁年 ▁( ▁応永 ▁27 ▁年 ▁) ▁- ▁150 6 ▁年 ▁( ▁永正 ▁3 ▁年 ▁) ▁) ▁は ▁号 ▁で ▁、 ▁15 ▁世紀 ▁後半 ▁室町 ▁時代 ▁に ▁活躍 ▁し ▁た ▁水 墨 ▁画 家 ▁・ ▁禅 僧 ▁で ▁ 、 ▁画 聖 ▁と ▁ も ▁称 え ▁られる ▁。\r\n",
      "▁日本 ▁の ▁水 墨 画 ▁を ▁一 変 ▁さ ▁せ ▁た ▁。\r\n",
      "▁諱 ▁は ▁「 ▁等 楊 ▁ ( ▁とう ▁よう ▁) ▁」 ▁、 ▁も しく は ▁ 「 ▁ 拙 ▁宗 ▁( ▁せ っ ▁ し ゅう ▁ ) ▁」 ▁と ▁号 し ▁た ▁ 。\r\n",
      "▁備 中 ▁国 ▁ に ▁生 ま れ ▁、 ▁京都 ▁・ ▁ 相 国 ▁ 寺 ▁に ▁入っ ▁て ▁から ▁周 防 ▁国 ▁に ▁移 る ▁。\r\n",
      "▁その ▁後 ▁ 遣 明 ▁使 ▁に ▁随 行 ▁し ▁て ▁中国 ▁ ( ▁明 ▁) ▁に ▁渡 っ ▁て ▁中国 ▁の ▁水 墨 画 ▁を ▁学ん ▁だ ▁。\r\n",
      "▁作品 ▁は ▁数多く ▁ 、 ▁中国 ▁風 ▁の ▁山 水 画 ▁だけ ▁で ▁なく ▁人物 画 ▁や ▁花 鳥 画 ▁も ▁よく ▁し ▁た ▁。\r\n",
      "▁大 胆 ▁な ▁構 図 ▁と ▁ 力 強 い ▁筆 線 ▁は ▁非常 ▁に ▁個 性 的 ▁な ▁画 風 ▁を ▁作り 出 し ▁て ▁いる ▁。\r\n",
      "▁現存 ▁する ▁作品 ▁の ▁うち ▁6 ▁ 点 ▁が ▁国宝 ▁に ▁指定 ▁さ ▁れ ▁て ▁おり ▁、 ▁日本 ▁の ▁画 家 ▁の ▁な か ▁ で ▁も ▁別 格 ▁の ▁評価 ▁を ▁受け ▁て ▁いる ▁ と ▁いえる ▁。\r\n",
      "▁この ▁ため ▁、 ▁花 鳥 ▁図 ▁屏 風 ▁ な ど ▁に ▁「 ▁伝 ▁ 雪 舟 ▁筆 ▁」 ▁さ ▁れる ▁作品 ▁は ▁大 変 ▁多い ▁。\r\n",
      "▁真 筆 ▁で ▁ある ▁か ▁専門 家 ▁の ▁間 ▁で ▁も ▁意見 ▁の ▁分か れる ▁もの ▁も ▁多 々 ▁ある ▁ 。\r\n"
     ]
    }
   ],
   "source": [
    "! head ch10/train.sub.2.ja"
   ]
  },
  {
   "cell_type": "code",
   "execution_count": 48,
   "metadata": {},
   "outputs": [
    {
     "name": "stdout",
     "output_type": "stream",
     "text": [
      "▁K n ow n ▁as ▁Sess hu ▁( ▁1 4 20 ▁- ▁15 0 6 ▁) ▁, ▁he ▁was ▁a n ▁ink ▁p a in ter ▁and ▁Z en ▁monk ▁active ▁in ▁the ▁M u rom achi ▁period ▁in ▁the ▁latter ▁half ▁of ▁the ▁15 th ▁ce n t ury ▁, ▁an d ▁was ▁called ▁ a ▁master ▁painter ▁.\r\n",
      "▁He ▁revol ution ized ▁the ▁J a p an ese ▁ink ▁p ain t ing ▁.\r\n",
      "▁He ▁was ▁given ▁the ▁posthumous ▁name ▁\" ▁Toyo ▁\" ▁o r ▁\" ▁Sess hu ▁( ▁ 拙 宗 ▁ ) ▁. ▁\"\r\n",
      "▁B orn ▁in ▁B ic chu ▁Prov ince ▁, ▁he ▁moved ▁to ▁Su o ▁Province ▁a f ter ▁entering ▁S S ho koku ▁ - ▁ ji ▁Temple ▁in ▁Kyoto ▁.\r\n",
      "▁ L ater ▁he ▁accompan i ed ▁a ▁mission ▁to ▁Ming ▁Dynasty ▁China ▁and ▁learned ▁Chinese ▁ink ▁p a in ting ▁.\r\n",
      "▁His ▁works ▁were ▁man y ▁, ▁including ▁not ▁only ▁Chinese ▁ - ▁style ▁l an ds cape ▁paintings ▁, ▁but ▁also ▁portra its ▁an d ▁pictures ▁of ▁f low ers ▁and ▁bir ds ▁.\r\n",
      "▁ H is ▁b old ▁comp osition s ▁and ▁strong ▁br ush ▁st ro k es ▁con stit uted ▁a n ▁ e xt reme ly ▁dist inc t ive ▁style ▁ .\r\n",
      "▁6 ▁of ▁his ▁ext ant ▁works ▁are ▁designated ▁nat i o n al ▁treasures ▁. ▁In de ed ▁, ▁he ▁is ▁ c ons id ered ▁to ▁be ▁ e xt ra ord inary ▁among ▁ J ap an ese ▁ p ain ters ▁.\r\n",
      "▁For ▁t hi s ▁r e ason ▁, ▁there ▁are ▁a ▁great ▁many ▁art wor ks ▁that ▁a re ▁att ributed ▁to ▁him ▁, ▁such ▁as ▁ f old ing ▁sc re ens ▁wit h ▁pictures ▁of ▁flowers ▁and ▁that ▁bir ds ▁are ▁p a in ted ▁on ▁them ▁ .\r\n",
      "▁T he re ▁are ▁many ▁works ▁th a t ▁even ▁exper ts ▁c an ▁not ▁ag ree ▁if ▁they ▁are ▁re ally ▁his ▁w or k ▁or ▁not ▁.\r\n"
     ]
    }
   ],
   "source": [
    "! head ch10/train.sub.1.en"
   ]
  },
  {
   "cell_type": "code",
   "execution_count": 49,
   "metadata": {},
   "outputs": [
    {
     "name": "stdout",
     "output_type": "stream",
     "text": [
      "▁K nown ▁as ▁Sess hu ▁( ▁14 20 ▁- ▁150 6 ▁) ▁, ▁he ▁ w as ▁ an ▁ink ▁painter ▁and ▁Zen ▁mon k ▁active ▁in ▁the ▁Muromachi ▁period ▁in ▁the ▁ l atter ▁half ▁of ▁the ▁15 th ▁c en t ur y ▁ , ▁and ▁was ▁called ▁a ▁mas ter ▁painter ▁.\r\n",
      "▁He ▁re v ol ution ized ▁the ▁Japanese ▁ink ▁p a in ting ▁.\r\n",
      "▁He ▁was ▁g i ven ▁the ▁pos thum ous ▁name ▁\" ▁To yo ▁\" ▁o r ▁\" ▁Sess hu ▁( ▁ 拙 宗 ▁) ▁. ▁\"\r\n",
      "▁B orn ▁in ▁B ic chu ▁Province ▁, ▁he ▁moved ▁to ▁Su o ▁Province ▁after ▁entering ▁S S ho koku ▁- ▁ji ▁Temple ▁in ▁ K y oto ▁.\r\n",
      "▁Later ▁he ▁accompanied ▁a ▁mis s i o n ▁to ▁Ming ▁D yn ast y ▁China ▁and ▁learned ▁Chinese ▁ink ▁painting ▁.\r\n",
      "▁H is ▁works ▁w er e ▁many ▁, ▁in c lud ing ▁not ▁only ▁Chinese ▁- ▁style ▁lands cape ▁pain tings ▁, ▁but ▁also ▁portra its ▁and ▁pictures ▁of ▁f low ers ▁and ▁bir ds ▁.\r\n",
      "▁His ▁b old ▁comp osition s ▁and ▁strong ▁br ush ▁str ok es ▁con stit ut ed ▁an ▁extremely ▁dist inct ive ▁style ▁.\r\n",
      "▁6 ▁of ▁his ▁ e xt an t ▁w or ks ▁are ▁designated ▁nation a l ▁ t re asures ▁. ▁I n de ed ▁, ▁he ▁is ▁cons id ered ▁to ▁be ▁extra ord i n ary ▁am ong ▁Japanese ▁pain ters ▁.\r\n",
      "▁For ▁ t his ▁reason ▁, ▁there ▁are ▁a ▁g re at ▁many ▁ar t w or ks ▁th at ▁a r e ▁a t t ributed ▁to ▁ him ▁, ▁such ▁as ▁fol ding ▁sc r e ens ▁w it h ▁pictures ▁of ▁flow ers ▁and ▁that ▁bir ds ▁a r e ▁pain t ed ▁o n ▁them ▁ .\r\n",
      "▁T he re ▁are ▁man y ▁works ▁that ▁even ▁ e x per t s ▁can ▁not ▁agre e ▁if ▁they ▁are ▁re ally ▁his ▁work ▁or ▁not ▁.\r\n"
     ]
    }
   ],
   "source": [
    "! head ch10/train.sub.2.en"
   ]
  },
  {
   "cell_type": "code",
   "execution_count": 52,
   "metadata": {
    "scrolled": false
   },
   "outputs": [
    {
     "name": "stdout",
     "output_type": "stream",
     "text": [
      "2021-04-06 00:54:36 | INFO | fairseq_cli.preprocess | Namespace(align_suffix=None, alignfile=None, all_gather_list_size=16384, bf16=False, bpe=None, checkpoint_shard_count=1, checkpoint_suffix='', cpu=False, criterion='cross_entropy', dataset_impl='mmap', destdir='ch10/data95.1', empty_cache_freq=0, fp16=False, fp16_init_scale=128, fp16_no_flatten_grads=False, fp16_scale_tolerance=0.0, fp16_scale_window=None, joined_dictionary=True, log_format=None, log_interval=100, lr_scheduler='fixed', memory_efficient_bf16=False, memory_efficient_fp16=False, min_loss_scale=0.0001, model_parallel_size=1, no_progress_bar=False, nwordssrc=-1, nwordstgt=-1, only_source=False, optimizer=None, padding_factor=8, profile=False, quantization_config_path=None, scoring='bleu', seed=1, source_lang='ja', srcdict=None, target_lang='en', task='translation', tensorboard_logdir=None, testpref=None, tgtdict=None, threshold_loss_scale=None, thresholdsrc=0, thresholdtgt=0, tokenizer=None, tpu=False, trainpref='ch10/train.sub.1', user_dir=None, validpref='ch10/dev.sub', workers=16)\n",
      "2021-04-06 00:54:43 | INFO | fairseq_cli.preprocess | [ja] Dictionary: 16008 types\n",
      "2021-04-06 00:54:52 | INFO | fairseq_cli.preprocess | [ja] ch10/train.sub.1.ja: 440288 sents, 15746286 tokens, 0.0% replaced by <unk>\n",
      "2021-04-06 00:54:52 | INFO | fairseq_cli.preprocess | [ja] Dictionary: 16008 types\n",
      "2021-04-06 00:54:52 | INFO | fairseq_cli.preprocess | [ja] ch10/dev.sub.ja: 1166 sents, 32438 tokens, 0.00925% replaced by <unk>\n",
      "2021-04-06 00:54:52 | INFO | fairseq_cli.preprocess | [en] Dictionary: 16008 types\n",
      "2021-04-06 00:55:03 | INFO | fairseq_cli.preprocess | [en] ch10/train.sub.1.en: 440288 sents, 20862364 tokens, 0.0% replaced by <unk>\n",
      "2021-04-06 00:55:03 | INFO | fairseq_cli.preprocess | [en] Dictionary: 16008 types\n",
      "2021-04-06 00:55:03 | INFO | fairseq_cli.preprocess | [en] ch10/dev.sub.en: 1166 sents, 34461 tokens, 0.0% replaced by <unk>\n",
      "2021-04-06 00:55:03 | INFO | fairseq_cli.preprocess | Wrote preprocessed data to ch10/data95.1\n"
     ]
    }
   ],
   "source": [
    "%%bash\n",
    "fairseq-preprocess -s ja -t en \\\n",
    "    --trainpref ch10/train.sub.1 \\\n",
    "    --validpref ch10/dev.sub \\\n",
    "    --destdir ch10/data95.1 \\\n",
    "    --joined-dictionary \\\n",
    "    --workers 16"
   ]
  },
  {
   "cell_type": "code",
   "execution_count": 53,
   "metadata": {
    "scrolled": true
   },
   "outputs": [
    {
     "name": "stdout",
     "output_type": "stream",
     "text": [
      "2021-04-06 00:55:47 | INFO | fairseq_cli.preprocess | Namespace(align_suffix=None, alignfile=None, all_gather_list_size=16384, bf16=False, bpe=None, checkpoint_shard_count=1, checkpoint_suffix='', cpu=False, criterion='cross_entropy', dataset_impl='mmap', destdir='ch10/data95.2', empty_cache_freq=0, fp16=False, fp16_init_scale=128, fp16_no_flatten_grads=False, fp16_scale_tolerance=0.0, fp16_scale_window=None, joined_dictionary=True, log_format=None, log_interval=100, lr_scheduler='fixed', memory_efficient_bf16=False, memory_efficient_fp16=False, min_loss_scale=0.0001, model_parallel_size=1, no_progress_bar=False, nwordssrc=-1, nwordstgt=-1, only_source=False, optimizer=None, padding_factor=8, profile=False, quantization_config_path=None, scoring='bleu', seed=1, source_lang='ja', srcdict='ch10/data95.1/dict.ja.txt', target_lang='en', task='translation', tensorboard_logdir=None, testpref=None, tgtdict=None, threshold_loss_scale=None, thresholdsrc=0, thresholdtgt=0, tokenizer=None, tpu=False, trainpref='ch10/train.sub.2', user_dir=None, validpref='ch10/dev.sub', workers=16)\n",
      "2021-04-06 00:55:47 | INFO | fairseq_cli.preprocess | [ja] Dictionary: 16008 types\n",
      "2021-04-06 00:55:56 | INFO | fairseq_cli.preprocess | [ja] ch10/train.sub.2.ja: 440288 sents, 15748978 tokens, 0.0% replaced by <unk>\n",
      "2021-04-06 00:55:56 | INFO | fairseq_cli.preprocess | [ja] Dictionary: 16008 types\n",
      "2021-04-06 00:55:56 | INFO | fairseq_cli.preprocess | [ja] ch10/dev.sub.ja: 1166 sents, 32438 tokens, 0.00925% replaced by <unk>\n",
      "2021-04-06 00:55:56 | INFO | fairseq_cli.preprocess | [en] Dictionary: 16008 types\n",
      "2021-04-06 00:56:06 | INFO | fairseq_cli.preprocess | [en] ch10/train.sub.2.en: 440288 sents, 20862243 tokens, 0.0% replaced by <unk>\n",
      "2021-04-06 00:56:06 | INFO | fairseq_cli.preprocess | [en] Dictionary: 16008 types\n",
      "2021-04-06 00:56:07 | INFO | fairseq_cli.preprocess | [en] ch10/dev.sub.en: 1166 sents, 34461 tokens, 0.0% replaced by <unk>\n",
      "2021-04-06 00:56:07 | INFO | fairseq_cli.preprocess | Wrote preprocessed data to ch10/data95.2\n",
      "2021-04-06 00:56:08 | INFO | fairseq_cli.preprocess | Namespace(align_suffix=None, alignfile=None, all_gather_list_size=16384, bf16=False, bpe=None, checkpoint_shard_count=1, checkpoint_suffix='', cpu=False, criterion='cross_entropy', dataset_impl='mmap', destdir='ch10/data95.3', empty_cache_freq=0, fp16=False, fp16_init_scale=128, fp16_no_flatten_grads=False, fp16_scale_tolerance=0.0, fp16_scale_window=None, joined_dictionary=True, log_format=None, log_interval=100, lr_scheduler='fixed', memory_efficient_bf16=False, memory_efficient_fp16=False, min_loss_scale=0.0001, model_parallel_size=1, no_progress_bar=False, nwordssrc=-1, nwordstgt=-1, only_source=False, optimizer=None, padding_factor=8, profile=False, quantization_config_path=None, scoring='bleu', seed=1, source_lang='ja', srcdict='ch10/data95.1/dict.ja.txt', target_lang='en', task='translation', tensorboard_logdir=None, testpref=None, tgtdict=None, threshold_loss_scale=None, thresholdsrc=0, thresholdtgt=0, tokenizer=None, tpu=False, trainpref='ch10/train.sub.3', user_dir=None, validpref='ch10/dev.sub', workers=16)\n",
      "2021-04-06 00:56:08 | INFO | fairseq_cli.preprocess | [ja] Dictionary: 16008 types\n",
      "2021-04-06 00:56:18 | INFO | fairseq_cli.preprocess | [ja] ch10/train.sub.3.ja: 440288 sents, 15746487 tokens, 0.0% replaced by <unk>\n",
      "2021-04-06 00:56:18 | INFO | fairseq_cli.preprocess | [ja] Dictionary: 16008 types\n",
      "2021-04-06 00:56:18 | INFO | fairseq_cli.preprocess | [ja] ch10/dev.sub.ja: 1166 sents, 32438 tokens, 0.00925% replaced by <unk>\n",
      "2021-04-06 00:56:18 | INFO | fairseq_cli.preprocess | [en] Dictionary: 16008 types\n",
      "2021-04-06 00:56:28 | INFO | fairseq_cli.preprocess | [en] ch10/train.sub.3.en: 440288 sents, 20856536 tokens, 0.0% replaced by <unk>\n",
      "2021-04-06 00:56:28 | INFO | fairseq_cli.preprocess | [en] Dictionary: 16008 types\n",
      "2021-04-06 00:56:28 | INFO | fairseq_cli.preprocess | [en] ch10/dev.sub.en: 1166 sents, 34461 tokens, 0.0% replaced by <unk>\n",
      "2021-04-06 00:56:28 | INFO | fairseq_cli.preprocess | Wrote preprocessed data to ch10/data95.3\n",
      "2021-04-06 00:56:30 | INFO | fairseq_cli.preprocess | Namespace(align_suffix=None, alignfile=None, all_gather_list_size=16384, bf16=False, bpe=None, checkpoint_shard_count=1, checkpoint_suffix='', cpu=False, criterion='cross_entropy', dataset_impl='mmap', destdir='ch10/data95.4', empty_cache_freq=0, fp16=False, fp16_init_scale=128, fp16_no_flatten_grads=False, fp16_scale_tolerance=0.0, fp16_scale_window=None, joined_dictionary=True, log_format=None, log_interval=100, lr_scheduler='fixed', memory_efficient_bf16=False, memory_efficient_fp16=False, min_loss_scale=0.0001, model_parallel_size=1, no_progress_bar=False, nwordssrc=-1, nwordstgt=-1, only_source=False, optimizer=None, padding_factor=8, profile=False, quantization_config_path=None, scoring='bleu', seed=1, source_lang='ja', srcdict='ch10/data95.1/dict.ja.txt', target_lang='en', task='translation', tensorboard_logdir=None, testpref=None, tgtdict=None, threshold_loss_scale=None, thresholdsrc=0, thresholdtgt=0, tokenizer=None, tpu=False, trainpref='ch10/train.sub.4', user_dir=None, validpref='ch10/dev.sub', workers=16)\n",
      "2021-04-06 00:56:30 | INFO | fairseq_cli.preprocess | [ja] Dictionary: 16008 types\n",
      "2021-04-06 00:56:40 | INFO | fairseq_cli.preprocess | [ja] ch10/train.sub.4.ja: 440288 sents, 15747876 tokens, 0.0% replaced by <unk>\n",
      "2021-04-06 00:56:40 | INFO | fairseq_cli.preprocess | [ja] Dictionary: 16008 types\n",
      "2021-04-06 00:56:40 | INFO | fairseq_cli.preprocess | [ja] ch10/dev.sub.ja: 1166 sents, 32438 tokens, 0.00925% replaced by <unk>\n",
      "2021-04-06 00:56:40 | INFO | fairseq_cli.preprocess | [en] Dictionary: 16008 types\n",
      "2021-04-06 00:56:50 | INFO | fairseq_cli.preprocess | [en] ch10/train.sub.4.en: 440288 sents, 20864154 tokens, 0.0% replaced by <unk>\n",
      "2021-04-06 00:56:50 | INFO | fairseq_cli.preprocess | [en] Dictionary: 16008 types\n",
      "2021-04-06 00:56:50 | INFO | fairseq_cli.preprocess | [en] ch10/dev.sub.en: 1166 sents, 34461 tokens, 0.0% replaced by <unk>\n",
      "2021-04-06 00:56:50 | INFO | fairseq_cli.preprocess | Wrote preprocessed data to ch10/data95.4\n",
      "2021-04-06 00:56:52 | INFO | fairseq_cli.preprocess | Namespace(align_suffix=None, alignfile=None, all_gather_list_size=16384, bf16=False, bpe=None, checkpoint_shard_count=1, checkpoint_suffix='', cpu=False, criterion='cross_entropy', dataset_impl='mmap', destdir='ch10/data95.5', empty_cache_freq=0, fp16=False, fp16_init_scale=128, fp16_no_flatten_grads=False, fp16_scale_tolerance=0.0, fp16_scale_window=None, joined_dictionary=True, log_format=None, log_interval=100, lr_scheduler='fixed', memory_efficient_bf16=False, memory_efficient_fp16=False, min_loss_scale=0.0001, model_parallel_size=1, no_progress_bar=False, nwordssrc=-1, nwordstgt=-1, only_source=False, optimizer=None, padding_factor=8, profile=False, quantization_config_path=None, scoring='bleu', seed=1, source_lang='ja', srcdict='ch10/data95.1/dict.ja.txt', target_lang='en', task='translation', tensorboard_logdir=None, testpref=None, tgtdict=None, threshold_loss_scale=None, thresholdsrc=0, thresholdtgt=0, tokenizer=None, tpu=False, trainpref='ch10/train.sub.5', user_dir=None, validpref='ch10/dev.sub', workers=16)\n",
      "2021-04-06 00:56:52 | INFO | fairseq_cli.preprocess | [ja] Dictionary: 16008 types\n",
      "2021-04-06 00:57:02 | INFO | fairseq_cli.preprocess | [ja] ch10/train.sub.5.ja: 440288 sents, 15746742 tokens, 0.0% replaced by <unk>\n",
      "2021-04-06 00:57:02 | INFO | fairseq_cli.preprocess | [ja] Dictionary: 16008 types\n",
      "2021-04-06 00:57:02 | INFO | fairseq_cli.preprocess | [ja] ch10/dev.sub.ja: 1166 sents, 32438 tokens, 0.00925% replaced by <unk>\n",
      "2021-04-06 00:57:02 | INFO | fairseq_cli.preprocess | [en] Dictionary: 16008 types\n",
      "2021-04-06 00:57:13 | INFO | fairseq_cli.preprocess | [en] ch10/train.sub.5.en: 440288 sents, 20867326 tokens, 0.0% replaced by <unk>\n",
      "2021-04-06 00:57:13 | INFO | fairseq_cli.preprocess | [en] Dictionary: 16008 types\n",
      "2021-04-06 00:57:13 | INFO | fairseq_cli.preprocess | [en] ch10/dev.sub.en: 1166 sents, 34461 tokens, 0.0% replaced by <unk>\n",
      "2021-04-06 00:57:13 | INFO | fairseq_cli.preprocess | Wrote preprocessed data to ch10/data95.5\n",
      "2021-04-06 00:57:14 | INFO | fairseq_cli.preprocess | Namespace(align_suffix=None, alignfile=None, all_gather_list_size=16384, bf16=False, bpe=None, checkpoint_shard_count=1, checkpoint_suffix='', cpu=False, criterion='cross_entropy', dataset_impl='mmap', destdir='ch10/data95.6', empty_cache_freq=0, fp16=False, fp16_init_scale=128, fp16_no_flatten_grads=False, fp16_scale_tolerance=0.0, fp16_scale_window=None, joined_dictionary=True, log_format=None, log_interval=100, lr_scheduler='fixed', memory_efficient_bf16=False, memory_efficient_fp16=False, min_loss_scale=0.0001, model_parallel_size=1, no_progress_bar=False, nwordssrc=-1, nwordstgt=-1, only_source=False, optimizer=None, padding_factor=8, profile=False, quantization_config_path=None, scoring='bleu', seed=1, source_lang='ja', srcdict='ch10/data95.1/dict.ja.txt', target_lang='en', task='translation', tensorboard_logdir=None, testpref=None, tgtdict=None, threshold_loss_scale=None, thresholdsrc=0, thresholdtgt=0, tokenizer=None, tpu=False, trainpref='ch10/train.sub.6', user_dir=None, validpref='ch10/dev.sub', workers=16)\n",
      "2021-04-06 00:57:14 | INFO | fairseq_cli.preprocess | [ja] Dictionary: 16008 types\n",
      "2021-04-06 00:57:24 | INFO | fairseq_cli.preprocess | [ja] ch10/train.sub.6.ja: 440288 sents, 15746756 tokens, 0.0% replaced by <unk>\n",
      "2021-04-06 00:57:24 | INFO | fairseq_cli.preprocess | [ja] Dictionary: 16008 types\n",
      "2021-04-06 00:57:24 | INFO | fairseq_cli.preprocess | [ja] ch10/dev.sub.ja: 1166 sents, 32438 tokens, 0.00925% replaced by <unk>\n",
      "2021-04-06 00:57:24 | INFO | fairseq_cli.preprocess | [en] Dictionary: 16008 types\n",
      "2021-04-06 00:57:34 | INFO | fairseq_cli.preprocess | [en] ch10/train.sub.6.en: 440288 sents, 20863337 tokens, 0.0% replaced by <unk>\n",
      "2021-04-06 00:57:34 | INFO | fairseq_cli.preprocess | [en] Dictionary: 16008 types\n",
      "2021-04-06 00:57:34 | INFO | fairseq_cli.preprocess | [en] ch10/dev.sub.en: 1166 sents, 34461 tokens, 0.0% replaced by <unk>\n",
      "2021-04-06 00:57:34 | INFO | fairseq_cli.preprocess | Wrote preprocessed data to ch10/data95.6\n",
      "2021-04-06 00:57:36 | INFO | fairseq_cli.preprocess | Namespace(align_suffix=None, alignfile=None, all_gather_list_size=16384, bf16=False, bpe=None, checkpoint_shard_count=1, checkpoint_suffix='', cpu=False, criterion='cross_entropy', dataset_impl='mmap', destdir='ch10/data95.7', empty_cache_freq=0, fp16=False, fp16_init_scale=128, fp16_no_flatten_grads=False, fp16_scale_tolerance=0.0, fp16_scale_window=None, joined_dictionary=True, log_format=None, log_interval=100, lr_scheduler='fixed', memory_efficient_bf16=False, memory_efficient_fp16=False, min_loss_scale=0.0001, model_parallel_size=1, no_progress_bar=False, nwordssrc=-1, nwordstgt=-1, only_source=False, optimizer=None, padding_factor=8, profile=False, quantization_config_path=None, scoring='bleu', seed=1, source_lang='ja', srcdict='ch10/data95.1/dict.ja.txt', target_lang='en', task='translation', tensorboard_logdir=None, testpref=None, tgtdict=None, threshold_loss_scale=None, thresholdsrc=0, thresholdtgt=0, tokenizer=None, tpu=False, trainpref='ch10/train.sub.7', user_dir=None, validpref='ch10/dev.sub', workers=16)\n",
      "2021-04-06 00:57:36 | INFO | fairseq_cli.preprocess | [ja] Dictionary: 16008 types\n",
      "2021-04-06 00:57:46 | INFO | fairseq_cli.preprocess | [ja] ch10/train.sub.7.ja: 440288 sents, 15746021 tokens, 0.0% replaced by <unk>\n",
      "2021-04-06 00:57:46 | INFO | fairseq_cli.preprocess | [ja] Dictionary: 16008 types\n",
      "2021-04-06 00:57:46 | INFO | fairseq_cli.preprocess | [ja] ch10/dev.sub.ja: 1166 sents, 32438 tokens, 0.00925% replaced by <unk>\n",
      "2021-04-06 00:57:46 | INFO | fairseq_cli.preprocess | [en] Dictionary: 16008 types\n",
      "2021-04-06 00:57:57 | INFO | fairseq_cli.preprocess | [en] ch10/train.sub.7.en: 440288 sents, 20858758 tokens, 0.0% replaced by <unk>\n",
      "2021-04-06 00:57:57 | INFO | fairseq_cli.preprocess | [en] Dictionary: 16008 types\n",
      "2021-04-06 00:57:57 | INFO | fairseq_cli.preprocess | [en] ch10/dev.sub.en: 1166 sents, 34461 tokens, 0.0% replaced by <unk>\n",
      "2021-04-06 00:57:57 | INFO | fairseq_cli.preprocess | Wrote preprocessed data to ch10/data95.7\n",
      "2021-04-06 00:57:59 | INFO | fairseq_cli.preprocess | Namespace(align_suffix=None, alignfile=None, all_gather_list_size=16384, bf16=False, bpe=None, checkpoint_shard_count=1, checkpoint_suffix='', cpu=False, criterion='cross_entropy', dataset_impl='mmap', destdir='ch10/data95.8', empty_cache_freq=0, fp16=False, fp16_init_scale=128, fp16_no_flatten_grads=False, fp16_scale_tolerance=0.0, fp16_scale_window=None, joined_dictionary=True, log_format=None, log_interval=100, lr_scheduler='fixed', memory_efficient_bf16=False, memory_efficient_fp16=False, min_loss_scale=0.0001, model_parallel_size=1, no_progress_bar=False, nwordssrc=-1, nwordstgt=-1, only_source=False, optimizer=None, padding_factor=8, profile=False, quantization_config_path=None, scoring='bleu', seed=1, source_lang='ja', srcdict='ch10/data95.1/dict.ja.txt', target_lang='en', task='translation', tensorboard_logdir=None, testpref=None, tgtdict=None, threshold_loss_scale=None, thresholdsrc=0, thresholdtgt=0, tokenizer=None, tpu=False, trainpref='ch10/train.sub.8', user_dir=None, validpref='ch10/dev.sub', workers=16)\n",
      "2021-04-06 00:57:59 | INFO | fairseq_cli.preprocess | [ja] Dictionary: 16008 types\n",
      "2021-04-06 00:58:08 | INFO | fairseq_cli.preprocess | [ja] ch10/train.sub.8.ja: 440288 sents, 15746863 tokens, 0.0% replaced by <unk>\n",
      "2021-04-06 00:58:08 | INFO | fairseq_cli.preprocess | [ja] Dictionary: 16008 types\n",
      "2021-04-06 00:58:08 | INFO | fairseq_cli.preprocess | [ja] ch10/dev.sub.ja: 1166 sents, 32438 tokens, 0.00925% replaced by <unk>\n",
      "2021-04-06 00:58:08 | INFO | fairseq_cli.preprocess | [en] Dictionary: 16008 types\n",
      "2021-04-06 00:58:18 | INFO | fairseq_cli.preprocess | [en] ch10/train.sub.8.en: 440288 sents, 20862537 tokens, 0.0% replaced by <unk>\n",
      "2021-04-06 00:58:18 | INFO | fairseq_cli.preprocess | [en] Dictionary: 16008 types\n",
      "2021-04-06 00:58:19 | INFO | fairseq_cli.preprocess | [en] ch10/dev.sub.en: 1166 sents, 34461 tokens, 0.0% replaced by <unk>\n",
      "2021-04-06 00:58:19 | INFO | fairseq_cli.preprocess | Wrote preprocessed data to ch10/data95.8\n",
      "2021-04-06 00:58:20 | INFO | fairseq_cli.preprocess | Namespace(align_suffix=None, alignfile=None, all_gather_list_size=16384, bf16=False, bpe=None, checkpoint_shard_count=1, checkpoint_suffix='', cpu=False, criterion='cross_entropy', dataset_impl='mmap', destdir='ch10/data95.9', empty_cache_freq=0, fp16=False, fp16_init_scale=128, fp16_no_flatten_grads=False, fp16_scale_tolerance=0.0, fp16_scale_window=None, joined_dictionary=True, log_format=None, log_interval=100, lr_scheduler='fixed', memory_efficient_bf16=False, memory_efficient_fp16=False, min_loss_scale=0.0001, model_parallel_size=1, no_progress_bar=False, nwordssrc=-1, nwordstgt=-1, only_source=False, optimizer=None, padding_factor=8, profile=False, quantization_config_path=None, scoring='bleu', seed=1, source_lang='ja', srcdict='ch10/data95.1/dict.ja.txt', target_lang='en', task='translation', tensorboard_logdir=None, testpref=None, tgtdict=None, threshold_loss_scale=None, thresholdsrc=0, thresholdtgt=0, tokenizer=None, tpu=False, trainpref='ch10/train.sub.9', user_dir=None, validpref='ch10/dev.sub', workers=16)\n",
      "2021-04-06 00:58:20 | INFO | fairseq_cli.preprocess | [ja] Dictionary: 16008 types\n",
      "2021-04-06 00:58:30 | INFO | fairseq_cli.preprocess | [ja] ch10/train.sub.9.ja: 440288 sents, 15747668 tokens, 0.0% replaced by <unk>\n",
      "2021-04-06 00:58:30 | INFO | fairseq_cli.preprocess | [ja] Dictionary: 16008 types\n",
      "2021-04-06 00:58:30 | INFO | fairseq_cli.preprocess | [ja] ch10/dev.sub.ja: 1166 sents, 32438 tokens, 0.00925% replaced by <unk>\n",
      "2021-04-06 00:58:30 | INFO | fairseq_cli.preprocess | [en] Dictionary: 16008 types\n",
      "2021-04-06 00:58:41 | INFO | fairseq_cli.preprocess | [en] ch10/train.sub.9.en: 440288 sents, 20866785 tokens, 0.0% replaced by <unk>\n",
      "2021-04-06 00:58:41 | INFO | fairseq_cli.preprocess | [en] Dictionary: 16008 types\n",
      "2021-04-06 00:58:41 | INFO | fairseq_cli.preprocess | [en] ch10/dev.sub.en: 1166 sents, 34461 tokens, 0.0% replaced by <unk>\n",
      "2021-04-06 00:58:41 | INFO | fairseq_cli.preprocess | Wrote preprocessed data to ch10/data95.9\n",
      "2021-04-06 00:58:43 | INFO | fairseq_cli.preprocess | Namespace(align_suffix=None, alignfile=None, all_gather_list_size=16384, bf16=False, bpe=None, checkpoint_shard_count=1, checkpoint_suffix='', cpu=False, criterion='cross_entropy', dataset_impl='mmap', destdir='ch10/data95.10', empty_cache_freq=0, fp16=False, fp16_init_scale=128, fp16_no_flatten_grads=False, fp16_scale_tolerance=0.0, fp16_scale_window=None, joined_dictionary=True, log_format=None, log_interval=100, lr_scheduler='fixed', memory_efficient_bf16=False, memory_efficient_fp16=False, min_loss_scale=0.0001, model_parallel_size=1, no_progress_bar=False, nwordssrc=-1, nwordstgt=-1, only_source=False, optimizer=None, padding_factor=8, profile=False, quantization_config_path=None, scoring='bleu', seed=1, source_lang='ja', srcdict='ch10/data95.1/dict.ja.txt', target_lang='en', task='translation', tensorboard_logdir=None, testpref=None, tgtdict=None, threshold_loss_scale=None, thresholdsrc=0, thresholdtgt=0, tokenizer=None, tpu=False, trainpref='ch10/train.sub.10', user_dir=None, validpref='ch10/dev.sub', workers=16)\n",
      "2021-04-06 00:58:43 | INFO | fairseq_cli.preprocess | [ja] Dictionary: 16008 types\n",
      "2021-04-06 00:58:52 | INFO | fairseq_cli.preprocess | [ja] ch10/train.sub.10.ja: 440288 sents, 15745848 tokens, 0.0% replaced by <unk>\n",
      "2021-04-06 00:58:52 | INFO | fairseq_cli.preprocess | [ja] Dictionary: 16008 types\n",
      "2021-04-06 00:58:52 | INFO | fairseq_cli.preprocess | [ja] ch10/dev.sub.ja: 1166 sents, 32438 tokens, 0.00925% replaced by <unk>\n",
      "2021-04-06 00:58:52 | INFO | fairseq_cli.preprocess | [en] Dictionary: 16008 types\n",
      "2021-04-06 00:59:03 | INFO | fairseq_cli.preprocess | [en] ch10/train.sub.10.en: 440288 sents, 20863661 tokens, 0.0% replaced by <unk>\n",
      "2021-04-06 00:59:03 | INFO | fairseq_cli.preprocess | [en] Dictionary: 16008 types\n",
      "2021-04-06 00:59:03 | INFO | fairseq_cli.preprocess | [en] ch10/dev.sub.en: 1166 sents, 34461 tokens, 0.0% replaced by <unk>\n",
      "2021-04-06 00:59:03 | INFO | fairseq_cli.preprocess | Wrote preprocessed data to ch10/data95.10\n"
     ]
    }
   ],
   "source": [
    "%%bash\n",
    "for N in {2..10}; do\n",
    "    fairseq-preprocess -s ja -t en \\\n",
    "        --trainpref ch10/train.sub.$N \\\n",
    "        --validpref ch10/dev.sub \\\n",
    "        --destdir ch10/data95.$N  \\\n",
    "        --srcdict ch10/data95.1/dict.ja.txt \\\n",
    "        --joined-dictionary \\\n",
    "        --workers 16\n",
    "done"
   ]
  },
  {
   "cell_type": "code",
   "execution_count": 54,
   "metadata": {
    "scrolled": false
   },
   "outputs": [
    {
     "name": "stdout",
     "output_type": "stream",
     "text": [
      "/home/koyama.s/nlp10021/envs/nlp10021/lib/python3.8/site-packages/torch/nn/parallel/distributed.py:425: UserWarning: The `check_reduction` argument in `DistributedDataParallel` module is deprecated. Please avoid using it.\n",
      "  warnings.warn(\n",
      "/home/koyama.s/nlp10021/envs/nlp10021/lib/python3.8/site-packages/torch/nn/parallel/distributed.py:425: UserWarning: The `check_reduction` argument in `DistributedDataParallel` module is deprecated. Please avoid using it.\n",
      "  warnings.warn(\n",
      "epoch 001: 100%|▉| 1462/1463 [03:36<00:00,  6.70it/s, loss=7.425, nll_loss=6.341\n",
      "epoch 001 | valid on 'valid' subset:   0%|                | 0/8 [00:00<?, ?it/s]\u001b[A\n",
      "epoch 001 | valid on 'valid' subset:  12%|█       | 1/8 [00:01<00:08,  1.22s/it]\u001b[A\n",
      "epoch 001 | valid on 'valid' subset:  75%|██████  | 6/8 [00:01<00:00,  5.97it/s]\u001b[A\n",
      "epoch 002: 100%|▉| 1463/1464 [03:39<00:00,  6.52it/s, loss=6.143, nll_loss=4.865\u001b[A\n",
      "epoch 002 | valid on 'valid' subset:   0%|                | 0/8 [00:00<?, ?it/s]\u001b[A\n",
      "epoch 002 | valid on 'valid' subset:  12%|█       | 1/8 [00:01<00:08,  1.23s/it]\u001b[A\n",
      "epoch 002 | valid on 'valid' subset:  75%|██████  | 6/8 [00:01<00:00,  5.88it/s]\u001b[A\n",
      "epoch 003: 100%|▉| 1462/1463 [03:39<00:00,  6.84it/s, loss=5.477, nll_loss=4.108\u001b[A\n",
      "epoch 003 | valid on 'valid' subset:   0%|                | 0/8 [00:00<?, ?it/s]\u001b[A\n",
      "epoch 003 | valid on 'valid' subset:  12%|█       | 1/8 [00:01<00:08,  1.23s/it]\u001b[A\n",
      "epoch 003 | valid on 'valid' subset:  75%|██████  | 6/8 [00:01<00:00,  5.89it/s]\u001b[A\n",
      "epoch 004: 100%|▉| 1463/1464 [03:39<00:00,  6.83it/s, loss=5.07, nll_loss=3.655,\u001b[A\n",
      "epoch 004 | valid on 'valid' subset:   0%|                | 0/8 [00:00<?, ?it/s]\u001b[A\n",
      "epoch 004 | valid on 'valid' subset:  12%|█       | 1/8 [00:01<00:09,  1.35s/it]\u001b[A\n",
      "epoch 004 | valid on 'valid' subset:  75%|██████  | 6/8 [00:01<00:00,  5.44it/s]\u001b[A\n",
      "epoch 005: 100%|▉| 1466/1467 [03:39<00:00,  6.76it/s, loss=4.836, nll_loss=3.395\u001b[A\n",
      "epoch 005 | valid on 'valid' subset:   0%|                | 0/8 [00:00<?, ?it/s]\u001b[A\n",
      "epoch 005 | valid on 'valid' subset:  12%|█       | 1/8 [00:01<00:09,  1.33s/it]\u001b[A\n",
      "epoch 005 | valid on 'valid' subset:  75%|██████  | 6/8 [00:01<00:00,  5.50it/s]\u001b[A\n",
      "epoch 006: 100%|▉| 1462/1463 [03:39<00:00,  6.52it/s, loss=4.716, nll_loss=3.263\u001b[A\n",
      "epoch 006 | valid on 'valid' subset:   0%|                | 0/8 [00:00<?, ?it/s]\u001b[A\n",
      "epoch 006 | valid on 'valid' subset:  12%|█       | 1/8 [00:01<00:07,  1.04s/it]\u001b[A\n",
      "epoch 006 | valid on 'valid' subset:  75%|██████  | 6/8 [00:01<00:00,  6.85it/s]\u001b[A\n",
      "epoch 007: 100%|▉| 1461/1462 [03:39<00:00,  6.72it/s, loss=4.621, nll_loss=3.157\u001b[A\n",
      "epoch 007 | valid on 'valid' subset:   0%|                | 0/8 [00:00<?, ?it/s]\u001b[A\n",
      "epoch 007 | valid on 'valid' subset:  12%|█       | 1/8 [00:01<00:08,  1.26s/it]\u001b[A\n",
      "epoch 007 | valid on 'valid' subset:  75%|██████  | 6/8 [00:01<00:00,  5.75it/s]\u001b[A\n",
      "epoch 008: 100%|▉| 1462/1463 [03:39<00:00,  6.76it/s, loss=4.546, nll_loss=3.075\u001b[A\n",
      "epoch 008 | valid on 'valid' subset:   0%|                | 0/8 [00:00<?, ?it/s]\u001b[A\n",
      "epoch 008 | valid on 'valid' subset:  12%|█       | 1/8 [00:01<00:08,  1.18s/it]\u001b[A\n",
      "epoch 008 | valid on 'valid' subset:  75%|██████  | 6/8 [00:01<00:00,  6.12it/s]\u001b[A\n",
      "epoch 009: 100%|▉| 1461/1462 [03:40<00:00,  6.93it/s, loss=4.454, nll_loss=2.973\u001b[A\n",
      "epoch 009 | valid on 'valid' subset:   0%|                | 0/8 [00:00<?, ?it/s]\u001b[A\n",
      "epoch 009 | valid on 'valid' subset:  12%|█       | 1/8 [00:01<00:08,  1.19s/it]\u001b[A\n",
      "epoch 009 | valid on 'valid' subset:  75%|██████  | 6/8 [00:01<00:00,  6.09it/s]\u001b[A\n",
      "epoch 010: 100%|▉| 1462/1463 [03:39<00:00,  6.58it/s, loss=4.428, nll_loss=2.943\u001b[A\n",
      "epoch 010 | valid on 'valid' subset:   0%|                | 0/8 [00:00<?, ?it/s]\u001b[A\n",
      "epoch 010 | valid on 'valid' subset:  12%|█       | 1/8 [00:01<00:09,  1.32s/it]\u001b[A\n",
      "epoch 010 | valid on 'valid' subset:  75%|██████  | 6/8 [00:01<00:00,  5.52it/s]\u001b[A\n",
      "/home/koyama.s/miniconda3/lib/python3.8/multiprocessing/resource_tracker.py:216: UserWarning: resource_tracker: There appear to be 40 leaked semaphore objects to clean up at shutdown\n",
      "  warnings.warn('resource_tracker: There appear to be %d '\n"
     ]
    }
   ],
   "source": [
    "! fairseq-train \\\n",
    "    ch10/data95.1:ch10/data95.2:ch10/data95.3:ch10/data95.4:ch10/data95.5:ch10/data95.6:ch10/data95.7:ch10/data95.8:ch10/data95.9:ch10/data95.10 \\\n",
    "    --fp16 \\\n",
    "    --save-dir ch10/save95 \\\n",
    "    --max-epoch 10 \\\n",
    "    --arch transformer \\\n",
    "    --encoder-normalize-before --decoder-normalize-before \\\n",
    "    --share-all-embeddings \\\n",
    "    --dropout 0.1 --attention-dropout 0.1 --activation-dropout 0.1 \\\n",
    "    --optimizer adam --adam-betas '(0.9, 0.999)' \\\n",
    "    --lr 0.001 --lr-scheduler inverse_sqrt --warmup-updates 4000 --warmup-init-lr 1e-07 \\\n",
    "    --update-freq 2 \\\n",
    "    --weight-decay 0.0001 \\\n",
    "    --criterion label_smoothed_cross_entropy --label-smoothing 0.1 \\\n",
    "    --max-tokens 4096 > ch10/95.log"
   ]
  },
  {
   "cell_type": "code",
   "execution_count": 55,
   "metadata": {},
   "outputs": [],
   "source": [
    "%%bash\n",
    "for N in {1..10}; do\n",
    "    fairseq-interactive ch10/data95.1 \\\n",
    "        --path ch10/save95/checkpoint10.pt \\\n",
    "        --buffer-size 128 \\\n",
    "        --batch-size 64 \\\n",
    "        --beam $N \\\n",
    "        --lenpen 0.6 \\\n",
    "        < ch10/dev.sub.ja \\\n",
    "        | grep '^H' \\\n",
    "        | cut -f3 \\\n",
    "        > ch10/95.${N}.out\n",
    "done"
   ]
  },
  {
   "cell_type": "code",
   "execution_count": 57,
   "metadata": {},
   "outputs": [
    {
     "name": "stdout",
     "output_type": "stream",
     "text": [
      "▁The ▁Rin zai ▁sect ▁( ▁Rin zai ▁ s ect ▁or ▁Rin zai ▁sect ▁) ▁is ▁one ▁of ▁the ▁five ▁Zen ▁sects ▁of ▁China ▁( ▁Rin zai ▁, ▁I gyo ▁, ▁S oto ▁, ▁Un mon ▁, ▁and ▁H og an ▁) ▁, ▁and ▁its ▁founder ▁was ▁G igen ▁R IN ZA I ▁( ▁? ▁- ▁86 7 ▁) ▁of ▁Tang ▁.\r\n",
      "▁He ▁was ▁known ▁for ▁his ▁nickn ame ▁\" ▁K atsu ▁no ▁Rin zai ▁\" ▁and ▁\" ▁Rin zai ▁Sho gun ▁, ▁\" ▁and ▁he ▁reached ▁the ▁pe ak ▁of ▁the ▁prosper ity ▁of ▁Chinese ▁Zen ▁as ▁its ▁character istic ▁.\r\n",
      "▁Kan n az en ▁is ▁a ▁kan n az en ▁( ▁med itation ▁of ▁med itation ▁) ▁, ▁which ▁is ▁intended ▁to ▁see ▁by ▁study ing ▁Ko an ▁, ▁and ▁this ▁is ▁different ▁from ▁M ok usho zen ▁of ▁the ▁S oto ▁sect ▁, ▁which ▁is ▁just ▁Z az en ▁.\r\n",
      "▁Rin zai ▁Sect ▁in ▁China\r\n",
      "▁As ▁the ▁name ▁suggest s ▁, ▁the ▁Rin zai ▁sect ▁started ▁by ▁G ig en ▁R IN ZA I ▁, ▁the ▁founder ▁of ▁the ▁ s ect ▁at ▁the ▁end ▁of ▁the ▁Tang ▁D y n ast y ▁.\r\n",
      "▁Rin zai ▁was ▁a ▁dis cip le ▁of ▁Ki un ▁O BA K U ▁, ▁based ▁in ▁H u an ▁Province ▁, ▁and ▁expand ed ▁its ▁influence ▁by ▁supp or ting ▁W ang ▁J os h i ▁, ▁who ▁was ▁the ▁ p ers on ▁of ▁the ▁Se it oku ▁- ▁fu ▁ H anch in ▁( ▁the ▁ f o re ign ers ▁of ▁the ▁Se it oku ▁- ▁fu ▁ D omain ▁) ▁, ▁who ▁was ▁the ▁ p ower ▁of ▁the ▁newly ▁- ▁emer ging ▁H an chin ▁( ▁a ▁group ▁of ▁p e ople ▁in ▁charge ▁of ▁the ▁domain ▁) ▁, ▁but ▁in ▁the ▁end ▁of ▁the ▁Tang ▁D y n ast y ▁, ▁ H ak oku ▁was ▁the ▁main ▁area ▁of ▁the ▁five ▁d ynast ies ▁, ▁so ▁the ▁power ▁of ▁the ▁sect ▁became ▁un able ▁to ▁spread ▁.\r\n",
      "▁The ▁c en ter ▁of ▁this ▁period ▁was ▁En sho ▁KA ZU NA ▁.\r\n",
      "▁The ▁Rin zai ▁sect ▁became ▁active ▁again ▁in ▁the ▁N ort he r n ▁Sung ▁p eri o d ▁, ▁and ▁from ▁Sek is o ▁Chu en ▁' s ▁dis ci p les ▁, ▁two ▁m ast e r s ▁( ▁the ▁O ryu ▁school ▁and ▁the ▁Y ang gi ▁school ▁) ▁, ▁who ▁were ▁born ▁in ▁the ▁Rin zai ▁sect ▁, ▁were ▁the ▁main st ream ▁of ▁the ▁Rin zai ▁sect ▁( ▁the ▁O ryu ▁school ▁and ▁the ▁Y ang gi ▁school ▁) ▁, ▁ w ho ▁came ▁f ro m ▁Ji ang x i ▁Province ▁, ▁appeared ▁in ▁the ▁N ort he r n ▁Sung ▁period ▁.\r\n",
      "▁In ▁the ▁Southern ▁Sung ▁period ▁, ▁Dai e ▁S oko ▁, ▁a ▁disciple ▁of ▁En go ▁Kok kin ▁, ▁who ▁belonged ▁to ▁the ▁Y ang gi ▁school ▁, ▁formed ▁the ▁Dai e ▁school ▁based ▁in ▁Z he ji ang ▁Province ▁and ▁became ▁the ▁main st ream ▁of ▁the ▁Rin zai ▁sect ▁.\r\n",
      "▁Rin zai ▁Sect ▁in ▁Japan\r\n"
     ]
    }
   ],
   "source": [
    "! head ch10/95.4.out"
   ]
  },
  {
   "cell_type": "code",
   "execution_count": 58,
   "metadata": {},
   "outputs": [],
   "source": [
    "def sp_decode(src, dst):\n",
    "    with open(src) as f, open(dst, 'w') as g:\n",
    "        for x in f:\n",
    "            x = x.strip().split()\n",
    "            x = ''.join(x).replace('▁', ' ')\n",
    "            print(x, file=g)\n",
    "\n",
    "for i in range(1, 11):\n",
    "    src = 'ch10/95.{}.out'.format(i)\n",
    "    dst = 'ch10/95.{}.decoded'.format(i)\n",
    "    sp_decode(src, dst)"
   ]
  },
  {
   "cell_type": "code",
   "execution_count": 59,
   "metadata": {},
   "outputs": [],
   "source": [
    "%%bash\n",
    "for N in {1..10}; do\n",
    "    sacremoses -l en detokenize < ch10/95.${N}.decoded | sacrebleu kftt-data-1.0/data/orig/kyoto-dev.en > ch10/95.${N}.score\n",
    "done"
   ]
  },
  {
   "cell_type": "code",
   "execution_count": 61,
   "metadata": {},
   "outputs": [
    {
     "data": {
      "image/png": "[encoded data removed]",
      "text/plain": [
       "<Figure size 432x288 with 1 Axes>"
      ]
     },
     "metadata": {
      "needs_background": "light"
     },
     "output_type": "display_data"
    }
   ],
   "source": [
    "xs = range(1, 11)\n",
    "ys = [read_score(f'ch10/95.{x}.score') for x in xs]\n",
    "plt.plot(xs, ys)\n",
    "plt.show()"
   ]
  },
  {
   "cell_type": "markdown",
   "metadata": {},
   "source": [
    "### 96. 学習過程の可視化"
   ]
  },
  {
   "cell_type": "code",
   "execution_count": 62,
   "metadata": {
    "scrolled": false
   },
   "outputs": [],
   "source": [
    "# ! pip install tensorflow tensorboardX"
   ]
  },
  {
   "cell_type": "code",
   "execution_count": 63,
   "metadata": {},
   "outputs": [
    {
     "name": "stdout",
     "output_type": "stream",
     "text": [
      "/home/koyama.s/nlp10021/envs/nlp10021/lib/python3.8/site-packages/torch/nn/parallel/distributed.py:425: UserWarning: The `check_reduction` argument in `DistributedDataParallel` module is deprecated. Please avoid using it.\n",
      "  warnings.warn(\n",
      "/home/koyama.s/nlp10021/envs/nlp10021/lib/python3.8/site-packages/torch/nn/parallel/distributed.py:425: UserWarning: The `check_reduction` argument in `DistributedDataParallel` module is deprecated. Please avoid using it.\n",
      "  warnings.warn(\n",
      "epoch 001: 100%|▉| 874/875 [02:58<00:00,  4.92it/s, loss=8.464, nll_loss=7.363, \n",
      "epoch 001 | valid on 'valid' subset:   0%|                | 0/6 [00:00<?, ?it/s]\u001b[A\n",
      "epoch 001 | valid on 'valid' subset:  17%|█▎      | 1/6 [00:01<00:06,  1.33s/it]\u001b[A\n",
      "epoch 001 | valid on 'valid' subset:  83%|██████▋ | 5/6 [00:01<00:00,  4.49it/s]\u001b[A\n",
      "epoch 002: 100%|▉| 874/875 [03:00<00:00,  4.73it/s, loss=6.735, nll_loss=5.343, \u001b[A\n",
      "epoch 002 | valid on 'valid' subset:   0%|                | 0/6 [00:00<?, ?it/s]\u001b[A\n",
      "epoch 002 | valid on 'valid' subset:  17%|█▎      | 1/6 [00:01<00:07,  1.55s/it]\u001b[A\n",
      "epoch 002 | valid on 'valid' subset:  83%|██████▋ | 5/6 [00:01<00:00,  3.92it/s]\u001b[A\n",
      "epoch 003: 100%|▉| 874/875 [03:00<00:00,  4.87it/s, loss=5.886, nll_loss=4.334, \u001b[A\n",
      "epoch 003 | valid on 'valid' subset:   0%|                | 0/6 [00:00<?, ?it/s]\u001b[A\n",
      "epoch 003 | valid on 'valid' subset:  17%|█▎      | 1/6 [00:01<00:07,  1.51s/it]\u001b[A\n",
      "epoch 003 | valid on 'valid' subset:  83%|██████▋ | 5/6 [00:01<00:00,  4.01it/s]\u001b[A\n",
      "Exception in thread Thread-6:                                                   \u001b[A\n",
      "Traceback (most recent call last):\n",
      "  File \"/home/koyama.s/miniconda3/lib/python3.8/threading.py\", line 932, in _bootstrap_inner\n",
      "Exception in thread Thread-3:\n",
      "Exception in thread Thread-5:\n",
      "Traceback (most recent call last):\n",
      "Traceback (most recent call last):\n",
      "  File \"/home/koyama.s/miniconda3/lib/python3.8/threading.py\", line 932, in _bootstrap_inner\n",
      "  File \"/home/koyama.s/miniconda3/lib/python3.8/threading.py\", line 932, in _bootstrap_inner\n",
      "    self.run()\n",
      "  File \"/home/koyama.s/nlp10021/envs/nlp10021/lib/python3.8/site-packages/tensorboardX/event_file_writer.py\", line 202, in run\n",
      "    self.run()\n",
      "  File \"/home/koyama.s/nlp10021/envs/nlp10021/lib/python3.8/site-packages/tensorboardX/event_file_writer.py\", line 202, in run\n",
      "    self.run()\n",
      "  File \"/home/koyama.s/nlp10021/envs/nlp10021/lib/python3.8/site-packages/tensorboardX/event_file_writer.py\", line 202, in run\n",
      "    data = self._queue.get(True, queue_wait_duration)\n",
      "  File \"/home/koyama.s/miniconda3/lib/python3.8/multiprocessing/queues.py\", line 111, in get\n",
      "    data = self._queue.get(True, queue_wait_duration)\n",
      "  File \"/home/koyama.s/miniconda3/lib/python3.8/multiprocessing/queues.py\", line 111, in get\n",
      "    res = self._recv_bytes()\n",
      "  File \"/home/koyama.s/miniconda3/lib/python3.8/multiprocessing/connection.py\", line 216, in recv_bytes\n",
      "    data = self._queue.get(True, queue_wait_duration)\n",
      "  File \"/home/koyama.s/miniconda3/lib/python3.8/multiprocessing/queues.py\", line 111, in get\n",
      "    res = self._recv_bytes()\n",
      "  File \"/home/koyama.s/miniconda3/lib/python3.8/multiprocessing/connection.py\", line 216, in recv_bytes\n",
      "    res = self._recv_bytes()\n",
      "  File \"/home/koyama.s/miniconda3/lib/python3.8/multiprocessing/connection.py\", line 216, in recv_bytes\n",
      "    buf = self._recv_bytes(maxlength)\n",
      "  File \"/home/koyama.s/miniconda3/lib/python3.8/multiprocessing/connection.py\", line 414, in _recv_bytes\n",
      "    buf = self._recv_bytes(maxlength)\n",
      "    buf = self._recv_bytes(maxlength)\n",
      "  File \"/home/koyama.s/miniconda3/lib/python3.8/multiprocessing/connection.py\", line 414, in _recv_bytes\n",
      "  File \"/home/koyama.s/miniconda3/lib/python3.8/multiprocessing/connection.py\", line 414, in _recv_bytes\n",
      "    buf = self._recv(4)\n",
      "    buf = self._recv(4)\n",
      "  File \"/home/koyama.s/miniconda3/lib/python3.8/multiprocessing/connection.py\", line 383, in _recv\n",
      "  File \"/home/koyama.s/miniconda3/lib/python3.8/multiprocessing/connection.py\", line 383, in _recv\n",
      "    buf = self._recv(4)\n",
      "  File \"/home/koyama.s/miniconda3/lib/python3.8/multiprocessing/connection.py\", line 383, in _recv\n",
      "    raise EOFError\n",
      "EOFError\n",
      "    raise EOFError\n",
      "EOFError\n",
      "    raise EOFError\n",
      "EOFError\n",
      "/home/koyama.s/miniconda3/lib/python3.8/multiprocessing/resource_tracker.py:216: UserWarning: resource_tracker: There appear to be 12 leaked semaphore objects to clean up at shutdown\n",
      "  warnings.warn('resource_tracker: There appear to be %d '\n"
     ]
    }
   ],
   "source": [
    "! fairseq-train ch10/data91 \\\n",
    "    --fp16 \\\n",
    "    --tensorboard-logdir ch10/log96 \\\n",
    "    --save-dir ch10/save96 \\\n",
    "    --max-epoch 3 \\\n",
    "    --arch transformer \\\n",
    "    --encoder-normalize-before --decoder-normalize-before \\\n",
    "    --share-decoder-input-output-embed \\\n",
    "    --dropout 0.1 --attention-dropout 0.1 --activation-dropout 0.1 \\\n",
    "    --optimizer adam --adam-betas '(0.9, 0.999)' \\\n",
    "    --lr 0.001 --lr-scheduler inverse_sqrt --warmup-updates 4000 --warmup-init-lr 1e-07 \\\n",
    "    --update-freq 2 \\\n",
    "    --weight-decay 0.0001 \\\n",
    "    --criterion label_smoothed_cross_entropy --label-smoothing 0.1 \\\n",
    "    --max-tokens 4096 > ch10/96.log"
   ]
  },
  {
   "cell_type": "markdown",
   "metadata": {},
   "source": [
    "tensorboradを起動してlocalhost:6006(など)にアクセスすると学習過程が見れます\n",
    "\n",
    "<img src=\"tensorboard.png\">"
   ]
  },
  {
   "cell_type": "markdown",
   "metadata": {},
   "source": [
    "### 97. ハイパー・パラメータの調整"
   ]
  },
  {
   "cell_type": "code",
   "execution_count": 64,
   "metadata": {},
   "outputs": [
    {
     "name": "stdout",
     "output_type": "stream",
     "text": [
      "/home/koyama.s/nlp10021/envs/nlp10021/lib/python3.8/site-packages/torch/nn/parallel/distributed.py:425: UserWarning: The `check_reduction` argument in `DistributedDataParallel` module is deprecated. Please avoid using it.\n",
      "  warnings.warn(\n",
      "/home/koyama.s/nlp10021/envs/nlp10021/lib/python3.8/site-packages/torch/nn/parallel/distributed.py:425: UserWarning: The `check_reduction` argument in `DistributedDataParallel` module is deprecated. Please avoid using it.\n",
      "  warnings.warn(\n",
      "epoch 001: 100%|▉| 1462/1463 [03:37<00:00,  6.67it/s, loss=6.758, nll_loss=5.566\n",
      "epoch 001 | valid on 'valid' subset:   0%|                | 0/8 [00:00<?, ?it/s]\u001b[A\n",
      "epoch 001 | valid on 'valid' subset:  12%|█       | 1/8 [00:01<00:07,  1.08s/it]\u001b[A\n",
      "epoch 001 | valid on 'valid' subset:  75%|██████  | 6/8 [00:01<00:00,  6.62it/s]\u001b[A\n",
      "epoch 002: 100%|▉| 1463/1464 [03:39<00:00,  6.51it/s, loss=5.8, nll_loss=4.477, \u001b[A\n",
      "epoch 002 | valid on 'valid' subset:   0%|                | 0/8 [00:00<?, ?it/s]\u001b[A\n",
      "epoch 002 | valid on 'valid' subset:  12%|█       | 1/8 [00:01<00:07,  1.11s/it]\u001b[A\n",
      "epoch 002 | valid on 'valid' subset:  75%|██████  | 6/8 [00:01<00:00,  6.45it/s]\u001b[A\n",
      "epoch 003: 100%|▉| 1462/1463 [03:39<00:00,  6.90it/s, loss=5.34, nll_loss=3.962,\u001b[A\n",
      "epoch 003 | valid on 'valid' subset:   0%|                | 0/8 [00:00<?, ?it/s]\u001b[A\n",
      "epoch 003 | valid on 'valid' subset:  12%|█       | 1/8 [00:01<00:09,  1.43s/it]\u001b[A\n",
      "epoch 003 | valid on 'valid' subset:  75%|██████  | 6/8 [00:01<00:00,  5.16it/s]\u001b[A\n",
      "epoch 004: 100%|▉| 1463/1464 [03:39<00:00,  6.80it/s, loss=5.014, nll_loss=3.599\u001b[A\n",
      "epoch 004 | valid on 'valid' subset:   0%|                | 0/8 [00:00<?, ?it/s]\u001b[A\n",
      "epoch 004 | valid on 'valid' subset:  12%|█       | 1/8 [00:01<00:08,  1.28s/it]\u001b[A\n",
      "epoch 004 | valid on 'valid' subset:  75%|██████  | 6/8 [00:01<00:00,  5.69it/s]\u001b[A\n",
      "epoch 005: 100%|▉| 1466/1467 [03:39<00:00,  6.77it/s, loss=4.811, nll_loss=3.372\u001b[A\n",
      "epoch 005 | valid on 'valid' subset:   0%|                | 0/8 [00:00<?, ?it/s]\u001b[A\n",
      "epoch 005 | valid on 'valid' subset:  12%|█       | 1/8 [00:01<00:07,  1.14s/it]\u001b[A\n",
      "epoch 005 | valid on 'valid' subset:  75%|██████  | 6/8 [00:01<00:00,  6.29it/s]\u001b[A\n",
      "epoch 006: 100%|▉| 1462/1463 [03:39<00:00,  6.56it/s, loss=4.704, nll_loss=3.254\u001b[A\n",
      "epoch 006 | valid on 'valid' subset:   0%|                | 0/8 [00:00<?, ?it/s]\u001b[A\n",
      "epoch 006 | valid on 'valid' subset:  12%|█       | 1/8 [00:02<00:20,  2.96s/it]\u001b[A\n",
      "epoch 006 | valid on 'valid' subset:  75%|██████  | 6/8 [00:03<00:00,  2.60it/s]\u001b[A\n",
      "epoch 007: 100%|▉| 1461/1462 [03:39<00:00,  6.68it/s, loss=4.612, nll_loss=3.152\u001b[A\n",
      "epoch 007 | valid on 'valid' subset:   0%|                | 0/8 [00:00<?, ?it/s]\u001b[A\n",
      "epoch 007 | valid on 'valid' subset:  12%|█       | 1/8 [00:01<00:09,  1.33s/it]\u001b[A\n",
      "epoch 007 | valid on 'valid' subset:  75%|██████  | 6/8 [00:01<00:00,  5.49it/s]\u001b[A\n",
      "epoch 008: 100%|▉| 1462/1463 [03:39<00:00,  6.66it/s, loss=4.545, nll_loss=3.078\u001b[A\n",
      "epoch 008 | valid on 'valid' subset:   0%|                | 0/8 [00:00<?, ?it/s]\u001b[A\n",
      "epoch 008 | valid on 'valid' subset:  12%|█       | 1/8 [00:01<00:08,  1.27s/it]\u001b[A\n",
      "epoch 008 | valid on 'valid' subset:  75%|██████  | 6/8 [00:01<00:00,  5.72it/s]\u001b[A\n",
      "epoch 009: 100%|▉| 1461/1462 [03:40<00:00,  6.94it/s, loss=4.451, nll_loss=2.973\u001b[A\n",
      "epoch 009 | valid on 'valid' subset:   0%|                | 0/8 [00:00<?, ?it/s]\u001b[A\n",
      "epoch 009 | valid on 'valid' subset:  12%|█       | 1/8 [00:01<00:07,  1.08s/it]\u001b[A\n",
      "epoch 009 | valid on 'valid' subset:  75%|██████  | 6/8 [00:01<00:00,  6.63it/s]\u001b[A\n",
      "epoch 010: 100%|▉| 1462/1463 [03:39<00:00,  6.57it/s, loss=4.423, nll_loss=2.943\u001b[A\n",
      "epoch 010 | valid on 'valid' subset:   0%|                | 0/8 [00:00<?, ?it/s]\u001b[A\n",
      "epoch 010 | valid on 'valid' subset:  12%|█       | 1/8 [00:03<00:21,  3.06s/it]\u001b[A\n",
      "epoch 010 | valid on 'valid' subset:  75%|██████  | 6/8 [00:03<00:00,  2.52it/s]\u001b[A\n",
      "/home/koyama.s/miniconda3/lib/python3.8/multiprocessing/resource_tracker.py:216: UserWarning: resource_tracker: There appear to be 40 leaked semaphore objects to clean up at shutdown\n",
      "  warnings.warn('resource_tracker: There appear to be %d '\n"
     ]
    }
   ],
   "source": [
    "! fairseq-train \\\n",
    "    ch10/data95.1:ch10/data95.2:ch10/data95.3:ch10/data95.4:ch10/data95.5:ch10/data95.6:ch10/data95.7:ch10/data95.8:ch10/data95.9:ch10/data95.10 \\\n",
    "    --fp16 \\\n",
    "    --save-dir ch10/save97a \\\n",
    "    --max-epoch 10 \\\n",
    "    --arch transformer \\\n",
    "    --encoder-normalize-before --decoder-normalize-before \\\n",
    "    --share-all-embeddings \\\n",
    "    --dropout 0.1 --attention-dropout 0.1 --activation-dropout 0.1 \\\n",
    "    --optimizer adam --adam-betas '(0.9, 0.999)' \\\n",
    "    --lr 0.003 --lr-scheduler inverse_sqrt --warmup-updates 4000 --warmup-init-lr 1e-07 \\\n",
    "    --update-freq 2 \\\n",
    "    --weight-decay 0.0001 \\\n",
    "    --criterion label_smoothed_cross_entropy --label-smoothing 0.1 \\\n",
    "    --max-tokens 4096 > ch10/97a.log"
   ]
  },
  {
   "cell_type": "code",
   "execution_count": 65,
   "metadata": {},
   "outputs": [
    {
     "name": "stdout",
     "output_type": "stream",
     "text": [
      "/home/koyama.s/nlp10021/envs/nlp10021/lib/python3.8/site-packages/torch/nn/parallel/distributed.py:425: UserWarning: The `check_reduction` argument in `DistributedDataParallel` module is deprecated. Please avoid using it.\n",
      "  warnings.warn(\n",
      "/home/koyama.s/nlp10021/envs/nlp10021/lib/python3.8/site-packages/torch/nn/parallel/distributed.py:425: UserWarning: The `check_reduction` argument in `DistributedDataParallel` module is deprecated. Please avoid using it.\n",
      "  warnings.warn(\n",
      "epoch 001: 100%|▉| 1462/1463 [03:39<00:00,  6.65it/s, loss=6.624, nll_loss=5.411\n",
      "epoch 001 | valid on 'valid' subset:   0%|                | 0/8 [00:00<?, ?it/s]\u001b[A\n",
      "epoch 001 | valid on 'valid' subset:  12%|█       | 1/8 [00:01<00:07,  1.14s/it]\u001b[A\n",
      "epoch 001 | valid on 'valid' subset:  75%|██████  | 6/8 [00:01<00:00,  6.34it/s]\u001b[A\n",
      "epoch 002: 100%|▉| 1463/1464 [03:39<00:00,  6.49it/s, loss=5.878, nll_loss=4.571\u001b[A\n",
      "epoch 002 | valid on 'valid' subset:   0%|                | 0/8 [00:00<?, ?it/s]\u001b[A\n",
      "epoch 002 | valid on 'valid' subset:  12%|█       | 1/8 [00:01<00:07,  1.11s/it]\u001b[A\n",
      "epoch 002 | valid on 'valid' subset:  75%|██████  | 6/8 [00:01<00:00,  6.46it/s]\u001b[A\n",
      "epoch 003: 100%|▉| 1462/1463 [03:40<00:00,  6.76it/s, loss=5.497, nll_loss=4.142\u001b[A\n",
      "epoch 003 | valid on 'valid' subset:   0%|                | 0/8 [00:00<?, ?it/s]\u001b[A\n",
      "epoch 003 | valid on 'valid' subset:  12%|█       | 1/8 [00:01<00:07,  1.12s/it]\u001b[A\n",
      "epoch 003 | valid on 'valid' subset:  75%|██████  | 6/8 [00:01<00:00,  6.41it/s]\u001b[A\n",
      "epoch 004: 100%|▉| 1463/1464 [03:39<00:00,  6.80it/s, loss=5.175, nll_loss=3.781\u001b[A\n",
      "epoch 004 | valid on 'valid' subset:   0%|                | 0/8 [00:00<?, ?it/s]\u001b[A\n",
      "epoch 004 | valid on 'valid' subset:  12%|█       | 1/8 [00:01<00:09,  1.33s/it]\u001b[A\n",
      "epoch 004 | valid on 'valid' subset:  75%|██████  | 6/8 [00:01<00:00,  5.52it/s]\u001b[A\n",
      "epoch 005: 100%|▉| 1466/1467 [03:40<00:00,  6.79it/s, loss=4.955, nll_loss=3.534\u001b[A\n",
      "epoch 005 | valid on 'valid' subset:   0%|                | 0/8 [00:00<?, ?it/s]\u001b[A\n",
      "epoch 005 | valid on 'valid' subset:  12%|█       | 1/8 [00:01<00:09,  1.31s/it]\u001b[A\n",
      "epoch 005 | valid on 'valid' subset:  75%|██████  | 6/8 [00:01<00:00,  5.59it/s]\u001b[A\n",
      "epoch 006: 100%|▉| 1462/1463 [03:39<00:00,  6.58it/s, loss=4.839, nll_loss=3.405\u001b[A\n",
      "epoch 006 | valid on 'valid' subset:   0%|                | 0/8 [00:00<?, ?it/s]\u001b[A\n",
      "epoch 006 | valid on 'valid' subset:  12%|█       | 1/8 [00:01<00:07,  1.05s/it]\u001b[A\n",
      "epoch 006 | valid on 'valid' subset:  75%|██████  | 6/8 [00:01<00:00,  6.79it/s]\u001b[A\n",
      "epoch 007: 100%|▉| 1461/1462 [03:39<00:00,  6.68it/s, loss=4.73, nll_loss=3.284,\u001b[A\n",
      "epoch 007 | valid on 'valid' subset:   0%|                | 0/8 [00:00<?, ?it/s]\u001b[A\n",
      "epoch 007 | valid on 'valid' subset:  12%|█       | 1/8 [00:01<00:07,  1.06s/it]\u001b[A\n",
      "epoch 007 | valid on 'valid' subset:  75%|██████  | 6/8 [00:01<00:00,  6.73it/s]\u001b[A\n",
      "epoch 008: 100%|▉| 1462/1463 [03:39<00:00,  6.73it/s, loss=4.654, nll_loss=3.2, \u001b[A\n",
      "epoch 008 | valid on 'valid' subset:   0%|                | 0/8 [00:00<?, ?it/s]\u001b[A\n",
      "epoch 008 | valid on 'valid' subset:  12%|█       | 1/8 [00:01<00:07,  1.14s/it]\u001b[A\n",
      "epoch 008 | valid on 'valid' subset:  75%|██████  | 6/8 [00:01<00:00,  6.34it/s]\u001b[A\n",
      "epoch 009: 100%|▉| 1461/1462 [03:39<00:00,  6.95it/s, loss=4.548, nll_loss=3.082\u001b[A\n",
      "epoch 009 | valid on 'valid' subset:   0%|                | 0/8 [00:00<?, ?it/s]\u001b[A\n",
      "epoch 009 | valid on 'valid' subset:  12%|█       | 1/8 [00:01<00:09,  1.34s/it]\u001b[A\n",
      "epoch 009 | valid on 'valid' subset:  75%|██████  | 6/8 [00:01<00:00,  5.49it/s]\u001b[A\n",
      "epoch 010: 100%|▉| 1462/1463 [03:40<00:00,  6.58it/s, loss=4.519, nll_loss=3.05,\u001b[A\n",
      "epoch 010 | valid on 'valid' subset:   0%|                | 0/8 [00:00<?, ?it/s]\u001b[A\n",
      "epoch 010 | valid on 'valid' subset:  12%|█       | 1/8 [00:01<00:07,  1.08s/it]\u001b[A\n",
      "epoch 010 | valid on 'valid' subset:  75%|██████  | 6/8 [00:01<00:00,  6.58it/s]\u001b[A\n",
      "/home/koyama.s/miniconda3/lib/python3.8/multiprocessing/resource_tracker.py:216: UserWarning: resource_tracker: There appear to be 40 leaked semaphore objects to clean up at shutdown\n",
      "  warnings.warn('resource_tracker: There appear to be %d '\n"
     ]
    }
   ],
   "source": [
    "! fairseq-train \\\n",
    "    ch10/data95.1:ch10/data95.2:ch10/data95.3:ch10/data95.4:ch10/data95.5:ch10/data95.6:ch10/data95.7:ch10/data95.8:ch10/data95.9:ch10/data95.10 \\\n",
    "    --fp16 \\\n",
    "    --save-dir ch10/save97b \\\n",
    "    --max-epoch 10 \\\n",
    "    --arch transformer \\\n",
    "    --encoder-normalize-before --decoder-normalize-before \\\n",
    "    --share-all-embeddings \\\n",
    "    --dropout 0.1 --attention-dropout 0.1 --activation-dropout 0.1 \\\n",
    "    --optimizer adam --adam-betas '(0.9, 0.999)' \\\n",
    "    --lr 0.005 --lr-scheduler inverse_sqrt --warmup-updates 4000 --warmup-init-lr 1e-07 \\\n",
    "    --update-freq 2 \\\n",
    "    --weight-decay 0.0001 \\\n",
    "    --criterion label_smoothed_cross_entropy --label-smoothing 0.1 \\\n",
    "    --max-tokens 4096 > ch10/97b.log"
   ]
  },
  {
   "cell_type": "code",
   "execution_count": 66,
   "metadata": {},
   "outputs": [],
   "source": [
    "! fairseq-interactive ch10/data95.1 \\\n",
    "    --path ch10/save97a/checkpoint10.pt \\\n",
    "    --buffer-size 128 \\\n",
    "    --batch-size 64 \\\n",
    "    --beam 4 \\\n",
    "    --lenpen 0.6 \\\n",
    "    < ch10/dev.sub.ja \\\n",
    "    | grep '^H' \\\n",
    "    | cut -f3 \\\n",
    "    > ch10/97a.out"
   ]
  },
  {
   "cell_type": "code",
   "execution_count": 67,
   "metadata": {},
   "outputs": [],
   "source": [
    "! fairseq-interactive ch10/data95.1 \\\n",
    "    --path ch10/save97b/checkpoint10.pt \\\n",
    "    --buffer-size 128 \\\n",
    "    --batch-size 64 \\\n",
    "    --beam 4 \\\n",
    "    --lenpen 0.6 \\\n",
    "    < ch10/dev.sub.ja \\\n",
    "    | grep '^H' \\\n",
    "    | cut -f3 \\\n",
    "    > ch10/97b.out"
   ]
  },
  {
   "cell_type": "code",
   "execution_count": 68,
   "metadata": {},
   "outputs": [],
   "source": [
    "sp_decode('ch10/97a.out', 'ch10/97a.decoded')\n",
    "sp_decode('ch10/97b.out', 'ch10/97b.decoded')"
   ]
  },
  {
   "cell_type": "code",
   "execution_count": 69,
   "metadata": {},
   "outputs": [
    {
     "name": "stdout",
     "output_type": "stream",
     "text": [
      "BLEU+case.mixed+numrefs.1+smooth.exp+tok.13a+version.1.5.1 = 20.2 52.6/25.7/14.5/8.6 (BP = 1.000 ratio = 1.034 hyp_len = 25105 ref_len = 24281)\n",
      "BLEU+case.mixed+numrefs.1+smooth.exp+tok.13a+version.1.5.1 = 20.2 52.7/25.7/14.3/8.6 (BP = 1.000 ratio = 1.024 hyp_len = 24869 ref_len = 24281)\n",
      "BLEU+case.mixed+numrefs.1+smooth.exp+tok.13a+version.1.5.1 = 19.6 51.9/25.0/13.8/8.2 (BP = 1.000 ratio = 1.013 hyp_len = 24597 ref_len = 24281)\n"
     ]
    }
   ],
   "source": [
    "! sacremoses -l en detokenize < ch10/95.4.decoded | sacrebleu kftt-data-1.0/data/orig/kyoto-dev.en\n",
    "! sacremoses -l en detokenize < ch10/97a.decoded  | sacrebleu kftt-data-1.0/data/orig/kyoto-dev.en\n",
    "! sacremoses -l en detokenize < ch10/97b.decoded  | sacrebleu kftt-data-1.0/data/orig/kyoto-dev.en"
   ]
  },
  {
   "cell_type": "markdown",
   "metadata": {},
   "source": [
    "### 98. ドメイン適応"
   ]
  },
  {
   "cell_type": "code",
   "execution_count": 73,
   "metadata": {},
   "outputs": [
    {
     "name": "stdout",
     "output_type": "stream",
     "text": [
      "2801388it [00:21, 132094.48it/s]\n"
     ]
    }
   ],
   "source": [
    "! cut -f 1 data/raw/raw | \\\n",
    "    parallel --pipe -j 16 -k --L 50000 'python spacy_tokenize.py' \\\n",
    "    2> /dev/null \\\n",
    "    | python progress.py \\\n",
    "    > ch10/jsec.spacy.en"
   ]
  },
  {
   "cell_type": "code",
   "execution_count": 74,
   "metadata": {},
   "outputs": [
    {
     "name": "stdout",
     "output_type": "stream",
     "text": [
      "2801388it [03:38, 12801.68it/s] \n"
     ]
    }
   ],
   "source": [
    "! cut -f 2 data/raw/raw | \\\n",
    "    parallel --pipe -j 16 -k --L 50000 'python ginza_tokenize.py' \\\n",
    "    2> /dev/null \\\n",
    "    | python progress.py \\\n",
    "    > ch10/jsec.spacy.ja"
   ]
  },
  {
   "cell_type": "code",
   "execution_count": 80,
   "metadata": {},
   "outputs": [],
   "source": [
    "! cat ch10/jsec.spacy.en ch10/train.spacy.en ch10/train.spacy.en ch10/train.spacy.en > ch10/98.spacy.en\n",
    "! cat ch10/jsec.spacy.ja ch10/train.spacy.ja ch10/train.spacy.ja ch10/train.spacy.ja > ch10/98.spacy.ja\n",
    "! cat ch10/98.spacy.en ch10/98.spacy.ja > ch10/98.spacy.jaen"
   ]
  },
  {
   "cell_type": "code",
   "execution_count": 81,
   "metadata": {},
   "outputs": [],
   "source": [
    "spm.SentencePieceTrainer.Train(\n",
    "    input = 'ch10/98.spacy.jaen',\n",
    "    model_prefix = 'ch10/98',\n",
    "    model_type = 'bpe',\n",
    "    vocab_size = 16000,\n",
    "    character_coverage = 1.0,\n",
    "    num_threads = 16)"
   ]
  },
  {
   "cell_type": "code",
   "execution_count": 82,
   "metadata": {},
   "outputs": [
    {
     "data": {
      "text/plain": [
       "True"
      ]
     },
     "execution_count": 82,
     "metadata": {},
     "output_type": "execute_result"
    }
   ],
   "source": [
    "sp = spm.SentencePieceProcessor()\n",
    "sp.Load('ch10/98.model')"
   ]
  },
  {
   "cell_type": "code",
   "execution_count": 84,
   "metadata": {},
   "outputs": [],
   "source": [
    "dev_ja_src = 'ch10/dev.spacy.ja'\n",
    "dev_en_src = 'ch10/dev.spacy.en'\n",
    "test_ja_src = 'ch10/test.spacy.ja'\n",
    "test_en_src = 'ch10/test.spacy.en'\n",
    "dev_ja_dst = 'ch10/dev.98.ja'\n",
    "dev_en_dst = 'ch10/dev.98.en'\n",
    "test_ja_dst = 'ch10/test.98.ja'\n",
    "test_en_dst = 'ch10/test.98.en'\n",
    "\n",
    "sp_encode(dev_ja_src, dev_ja_dst)\n",
    "sp_encode(dev_en_src, dev_en_dst)\n",
    "sp_encode(test_ja_src, test_ja_dst)\n",
    "sp_encode(test_en_src, test_en_dst)\n",
    "\n",
    "for epoch in range(1, 11):\n",
    "    src = 'ch10/98.spacy.ja'\n",
    "    dst = 'ch10/98.sub.{}.ja'.format(epoch)\n",
    "    sp_encode(src, dst, alpha=0.1)\n",
    "\n",
    "for epoch in range(1, 11):\n",
    "    src = 'ch10/98.spacy.en'\n",
    "    dst = 'ch10/98.sub.{}.en'.format(epoch)\n",
    "    sp_encode(src, dst, alpha=0.1)"
   ]
  },
  {
   "cell_type": "code",
   "execution_count": 87,
   "metadata": {},
   "outputs": [
    {
     "name": "stdout",
     "output_type": "stream",
     "text": [
      "2021-04-06 21:51:10 | INFO | fairseq_cli.preprocess | Namespace(align_suffix=None, alignfile=None, all_gather_list_size=16384, bf16=False, bpe=None, checkpoint_shard_count=1, checkpoint_suffix='', cpu=False, criterion='cross_entropy', dataset_impl='mmap', destdir='ch10/data98.1', empty_cache_freq=0, fp16=False, fp16_init_scale=128, fp16_no_flatten_grads=False, fp16_scale_tolerance=0.0, fp16_scale_window=None, joined_dictionary=True, log_format=None, log_interval=100, lr_scheduler='fixed', memory_efficient_bf16=False, memory_efficient_fp16=False, min_loss_scale=0.0001, model_parallel_size=1, no_progress_bar=False, nwordssrc=-1, nwordstgt=-1, only_source=False, optimizer=None, padding_factor=8, profile=False, quantization_config_path=None, scoring='bleu', seed=1, source_lang='ja', srcdict=None, target_lang='en', task='translation', tensorboard_logdir=None, testpref=None, tgtdict=None, threshold_loss_scale=None, thresholdsrc=0, thresholdtgt=0, tokenizer=None, tpu=False, trainpref='ch10/98.sub.1', user_dir=None, validpref='ch10/dev.98', workers=16)\n",
      "2021-04-06 21:51:57 | INFO | fairseq_cli.preprocess | [ja] Dictionary: 16016 types\n",
      "2021-04-06 21:52:56 | INFO | fairseq_cli.preprocess | [ja] ch10/98.sub.1.ja: 4122252 sents, 84941499 tokens, 0.0% replaced by <unk>\n",
      "2021-04-06 21:52:57 | INFO | fairseq_cli.preprocess | [ja] Dictionary: 16016 types\n",
      "2021-04-06 21:52:57 | INFO | fairseq_cli.preprocess | [ja] ch10/dev.98.ja: 1166 sents, 33496 tokens, 0.00597% replaced by <unk>\n",
      "2021-04-06 21:52:57 | INFO | fairseq_cli.preprocess | [en] Dictionary: 16016 types\n",
      "2021-04-06 21:54:02 | INFO | fairseq_cli.preprocess | [en] ch10/98.sub.1.en: 4122252 sents, 104807964 tokens, 0.0% replaced by <unk>\n",
      "2021-04-06 21:54:02 | INFO | fairseq_cli.preprocess | [en] Dictionary: 16016 types\n",
      "2021-04-06 21:54:02 | INFO | fairseq_cli.preprocess | [en] ch10/dev.98.en: 1166 sents, 36589 tokens, 0.0% replaced by <unk>\n",
      "2021-04-06 21:54:02 | INFO | fairseq_cli.preprocess | Wrote preprocessed data to ch10/data98.1\n"
     ]
    }
   ],
   "source": [
    "%%bash\n",
    "fairseq-preprocess -s ja -t en \\\n",
    "    --trainpref ch10/98.sub.1 \\\n",
    "    --validpref ch10/dev.98 \\\n",
    "    --destdir ch10/data98.1 \\\n",
    "    --joined-dictionary \\\n",
    "    --workers 16"
   ]
  },
  {
   "cell_type": "code",
   "execution_count": 88,
   "metadata": {},
   "outputs": [
    {
     "name": "stdout",
     "output_type": "stream",
     "text": [
      "2021-04-06 21:57:47 | INFO | fairseq_cli.preprocess | Namespace(align_suffix=None, alignfile=None, all_gather_list_size=16384, bf16=False, bpe=None, checkpoint_shard_count=1, checkpoint_suffix='', cpu=False, criterion='cross_entropy', dataset_impl='mmap', destdir='ch10/data98.2', empty_cache_freq=0, fp16=False, fp16_init_scale=128, fp16_no_flatten_grads=False, fp16_scale_tolerance=0.0, fp16_scale_window=None, joined_dictionary=True, log_format=None, log_interval=100, lr_scheduler='fixed', memory_efficient_bf16=False, memory_efficient_fp16=False, min_loss_scale=0.0001, model_parallel_size=1, no_progress_bar=False, nwordssrc=-1, nwordstgt=-1, only_source=False, optimizer=None, padding_factor=8, profile=False, quantization_config_path=None, scoring='bleu', seed=1, source_lang='ja', srcdict='ch10/data98.1/dict.ja.txt', target_lang='en', task='translation', tensorboard_logdir=None, testpref=None, tgtdict=None, threshold_loss_scale=None, thresholdsrc=0, thresholdtgt=0, tokenizer=None, tpu=False, trainpref='ch10/98.sub.2', user_dir=None, validpref='ch10/dev.98', workers=16)\n",
      "2021-04-06 21:57:47 | INFO | fairseq_cli.preprocess | [ja] Dictionary: 16016 types\n",
      "2021-04-06 21:58:49 | INFO | fairseq_cli.preprocess | [ja] ch10/98.sub.2.ja: 4122252 sents, 84947508 tokens, 0.0% replaced by <unk>\n",
      "2021-04-06 21:58:49 | INFO | fairseq_cli.preprocess | [ja] Dictionary: 16016 types\n",
      "2021-04-06 21:58:49 | INFO | fairseq_cli.preprocess | [ja] ch10/dev.98.ja: 1166 sents, 33496 tokens, 0.00597% replaced by <unk>\n",
      "2021-04-06 21:58:49 | INFO | fairseq_cli.preprocess | [en] Dictionary: 16016 types\n",
      "2021-04-06 21:59:53 | INFO | fairseq_cli.preprocess | [en] ch10/98.sub.2.en: 4122252 sents, 104796798 tokens, 0.0% replaced by <unk>\n",
      "2021-04-06 21:59:53 | INFO | fairseq_cli.preprocess | [en] Dictionary: 16016 types\n",
      "2021-04-06 21:59:53 | INFO | fairseq_cli.preprocess | [en] ch10/dev.98.en: 1166 sents, 36589 tokens, 0.0% replaced by <unk>\n",
      "2021-04-06 21:59:53 | INFO | fairseq_cli.preprocess | Wrote preprocessed data to ch10/data98.2\n",
      "2021-04-06 21:59:56 | INFO | fairseq_cli.preprocess | Namespace(align_suffix=None, alignfile=None, all_gather_list_size=16384, bf16=False, bpe=None, checkpoint_shard_count=1, checkpoint_suffix='', cpu=False, criterion='cross_entropy', dataset_impl='mmap', destdir='ch10/data98.3', empty_cache_freq=0, fp16=False, fp16_init_scale=128, fp16_no_flatten_grads=False, fp16_scale_tolerance=0.0, fp16_scale_window=None, joined_dictionary=True, log_format=None, log_interval=100, lr_scheduler='fixed', memory_efficient_bf16=False, memory_efficient_fp16=False, min_loss_scale=0.0001, model_parallel_size=1, no_progress_bar=False, nwordssrc=-1, nwordstgt=-1, only_source=False, optimizer=None, padding_factor=8, profile=False, quantization_config_path=None, scoring='bleu', seed=1, source_lang='ja', srcdict='ch10/data98.1/dict.ja.txt', target_lang='en', task='translation', tensorboard_logdir=None, testpref=None, tgtdict=None, threshold_loss_scale=None, thresholdsrc=0, thresholdtgt=0, tokenizer=None, tpu=False, trainpref='ch10/98.sub.3', user_dir=None, validpref='ch10/dev.98', workers=16)\n",
      "2021-04-06 21:59:56 | INFO | fairseq_cli.preprocess | [ja] Dictionary: 16016 types\n",
      "2021-04-06 22:01:04 | INFO | fairseq_cli.preprocess | [ja] ch10/98.sub.3.ja: 4122252 sents, 84939116 tokens, 0.0% replaced by <unk>\n",
      "2021-04-06 22:01:04 | INFO | fairseq_cli.preprocess | [ja] Dictionary: 16016 types\n",
      "2021-04-06 22:01:04 | INFO | fairseq_cli.preprocess | [ja] ch10/dev.98.ja: 1166 sents, 33496 tokens, 0.00597% replaced by <unk>\n",
      "2021-04-06 22:01:04 | INFO | fairseq_cli.preprocess | [en] Dictionary: 16016 types\n",
      "2021-04-06 22:02:08 | INFO | fairseq_cli.preprocess | [en] ch10/98.sub.3.en: 4122252 sents, 104789006 tokens, 0.0% replaced by <unk>\n",
      "2021-04-06 22:02:08 | INFO | fairseq_cli.preprocess | [en] Dictionary: 16016 types\n",
      "2021-04-06 22:02:08 | INFO | fairseq_cli.preprocess | [en] ch10/dev.98.en: 1166 sents, 36589 tokens, 0.0% replaced by <unk>\n",
      "2021-04-06 22:02:08 | INFO | fairseq_cli.preprocess | Wrote preprocessed data to ch10/data98.3\n",
      "2021-04-06 22:02:10 | INFO | fairseq_cli.preprocess | Namespace(align_suffix=None, alignfile=None, all_gather_list_size=16384, bf16=False, bpe=None, checkpoint_shard_count=1, checkpoint_suffix='', cpu=False, criterion='cross_entropy', dataset_impl='mmap', destdir='ch10/data98.4', empty_cache_freq=0, fp16=False, fp16_init_scale=128, fp16_no_flatten_grads=False, fp16_scale_tolerance=0.0, fp16_scale_window=None, joined_dictionary=True, log_format=None, log_interval=100, lr_scheduler='fixed', memory_efficient_bf16=False, memory_efficient_fp16=False, min_loss_scale=0.0001, model_parallel_size=1, no_progress_bar=False, nwordssrc=-1, nwordstgt=-1, only_source=False, optimizer=None, padding_factor=8, profile=False, quantization_config_path=None, scoring='bleu', seed=1, source_lang='ja', srcdict='ch10/data98.1/dict.ja.txt', target_lang='en', task='translation', tensorboard_logdir=None, testpref=None, tgtdict=None, threshold_loss_scale=None, thresholdsrc=0, thresholdtgt=0, tokenizer=None, tpu=False, trainpref='ch10/98.sub.4', user_dir=None, validpref='ch10/dev.98', workers=16)\n",
      "2021-04-06 22:02:10 | INFO | fairseq_cli.preprocess | [ja] Dictionary: 16016 types\n",
      "2021-04-06 22:03:18 | INFO | fairseq_cli.preprocess | [ja] ch10/98.sub.4.ja: 4122252 sents, 84939481 tokens, 0.0% replaced by <unk>\n",
      "2021-04-06 22:03:18 | INFO | fairseq_cli.preprocess | [ja] Dictionary: 16016 types\n",
      "2021-04-06 22:03:18 | INFO | fairseq_cli.preprocess | [ja] ch10/dev.98.ja: 1166 sents, 33496 tokens, 0.00597% replaced by <unk>\n",
      "2021-04-06 22:03:18 | INFO | fairseq_cli.preprocess | [en] Dictionary: 16016 types\n",
      "2021-04-06 22:04:24 | INFO | fairseq_cli.preprocess | [en] ch10/98.sub.4.en: 4122252 sents, 104795909 tokens, 0.0% replaced by <unk>\n",
      "2021-04-06 22:04:24 | INFO | fairseq_cli.preprocess | [en] Dictionary: 16016 types\n",
      "2021-04-06 22:04:24 | INFO | fairseq_cli.preprocess | [en] ch10/dev.98.en: 1166 sents, 36589 tokens, 0.0% replaced by <unk>\n",
      "2021-04-06 22:04:24 | INFO | fairseq_cli.preprocess | Wrote preprocessed data to ch10/data98.4\n",
      "2021-04-06 22:04:27 | INFO | fairseq_cli.preprocess | Namespace(align_suffix=None, alignfile=None, all_gather_list_size=16384, bf16=False, bpe=None, checkpoint_shard_count=1, checkpoint_suffix='', cpu=False, criterion='cross_entropy', dataset_impl='mmap', destdir='ch10/data98.5', empty_cache_freq=0, fp16=False, fp16_init_scale=128, fp16_no_flatten_grads=False, fp16_scale_tolerance=0.0, fp16_scale_window=None, joined_dictionary=True, log_format=None, log_interval=100, lr_scheduler='fixed', memory_efficient_bf16=False, memory_efficient_fp16=False, min_loss_scale=0.0001, model_parallel_size=1, no_progress_bar=False, nwordssrc=-1, nwordstgt=-1, only_source=False, optimizer=None, padding_factor=8, profile=False, quantization_config_path=None, scoring='bleu', seed=1, source_lang='ja', srcdict='ch10/data98.1/dict.ja.txt', target_lang='en', task='translation', tensorboard_logdir=None, testpref=None, tgtdict=None, threshold_loss_scale=None, thresholdsrc=0, thresholdtgt=0, tokenizer=None, tpu=False, trainpref='ch10/98.sub.5', user_dir=None, validpref='ch10/dev.98', workers=16)\n",
      "2021-04-06 22:04:27 | INFO | fairseq_cli.preprocess | [ja] Dictionary: 16016 types\n",
      "2021-04-06 22:05:31 | INFO | fairseq_cli.preprocess | [ja] ch10/98.sub.5.ja: 4122252 sents, 84944540 tokens, 0.0% replaced by <unk>\n",
      "2021-04-06 22:05:31 | INFO | fairseq_cli.preprocess | [ja] Dictionary: 16016 types\n",
      "2021-04-06 22:05:32 | INFO | fairseq_cli.preprocess | [ja] ch10/dev.98.ja: 1166 sents, 33496 tokens, 0.00597% replaced by <unk>\n",
      "2021-04-06 22:05:32 | INFO | fairseq_cli.preprocess | [en] Dictionary: 16016 types\n",
      "2021-04-06 22:06:36 | INFO | fairseq_cli.preprocess | [en] ch10/98.sub.5.en: 4122252 sents, 104800828 tokens, 0.0% replaced by <unk>\n",
      "2021-04-06 22:06:36 | INFO | fairseq_cli.preprocess | [en] Dictionary: 16016 types\n",
      "2021-04-06 22:06:37 | INFO | fairseq_cli.preprocess | [en] ch10/dev.98.en: 1166 sents, 36589 tokens, 0.0% replaced by <unk>\n",
      "2021-04-06 22:06:37 | INFO | fairseq_cli.preprocess | Wrote preprocessed data to ch10/data98.5\n",
      "2021-04-06 22:06:39 | INFO | fairseq_cli.preprocess | Namespace(align_suffix=None, alignfile=None, all_gather_list_size=16384, bf16=False, bpe=None, checkpoint_shard_count=1, checkpoint_suffix='', cpu=False, criterion='cross_entropy', dataset_impl='mmap', destdir='ch10/data98.6', empty_cache_freq=0, fp16=False, fp16_init_scale=128, fp16_no_flatten_grads=False, fp16_scale_tolerance=0.0, fp16_scale_window=None, joined_dictionary=True, log_format=None, log_interval=100, lr_scheduler='fixed', memory_efficient_bf16=False, memory_efficient_fp16=False, min_loss_scale=0.0001, model_parallel_size=1, no_progress_bar=False, nwordssrc=-1, nwordstgt=-1, only_source=False, optimizer=None, padding_factor=8, profile=False, quantization_config_path=None, scoring='bleu', seed=1, source_lang='ja', srcdict='ch10/data98.1/dict.ja.txt', target_lang='en', task='translation', tensorboard_logdir=None, testpref=None, tgtdict=None, threshold_loss_scale=None, thresholdsrc=0, thresholdtgt=0, tokenizer=None, tpu=False, trainpref='ch10/98.sub.6', user_dir=None, validpref='ch10/dev.98', workers=16)\n",
      "2021-04-06 22:06:39 | INFO | fairseq_cli.preprocess | [ja] Dictionary: 16016 types\n",
      "2021-04-06 22:07:40 | INFO | fairseq_cli.preprocess | [ja] ch10/98.sub.6.ja: 4122252 sents, 84941311 tokens, 0.0% replaced by <unk>\n",
      "2021-04-06 22:07:41 | INFO | fairseq_cli.preprocess | [ja] Dictionary: 16016 types\n",
      "2021-04-06 22:07:42 | INFO | fairseq_cli.preprocess | [ja] ch10/dev.98.ja: 1166 sents, 33496 tokens, 0.00597% replaced by <unk>\n",
      "2021-04-06 22:07:42 | INFO | fairseq_cli.preprocess | [en] Dictionary: 16016 types\n",
      "2021-04-06 22:08:46 | INFO | fairseq_cli.preprocess | [en] ch10/98.sub.6.en: 4122252 sents, 104804243 tokens, 0.0% replaced by <unk>\n",
      "2021-04-06 22:08:46 | INFO | fairseq_cli.preprocess | [en] Dictionary: 16016 types\n",
      "2021-04-06 22:08:46 | INFO | fairseq_cli.preprocess | [en] ch10/dev.98.en: 1166 sents, 36589 tokens, 0.0% replaced by <unk>\n",
      "2021-04-06 22:08:46 | INFO | fairseq_cli.preprocess | Wrote preprocessed data to ch10/data98.6\n",
      "2021-04-06 22:08:49 | INFO | fairseq_cli.preprocess | Namespace(align_suffix=None, alignfile=None, all_gather_list_size=16384, bf16=False, bpe=None, checkpoint_shard_count=1, checkpoint_suffix='', cpu=False, criterion='cross_entropy', dataset_impl='mmap', destdir='ch10/data98.7', empty_cache_freq=0, fp16=False, fp16_init_scale=128, fp16_no_flatten_grads=False, fp16_scale_tolerance=0.0, fp16_scale_window=None, joined_dictionary=True, log_format=None, log_interval=100, lr_scheduler='fixed', memory_efficient_bf16=False, memory_efficient_fp16=False, min_loss_scale=0.0001, model_parallel_size=1, no_progress_bar=False, nwordssrc=-1, nwordstgt=-1, only_source=False, optimizer=None, padding_factor=8, profile=False, quantization_config_path=None, scoring='bleu', seed=1, source_lang='ja', srcdict='ch10/data98.1/dict.ja.txt', target_lang='en', task='translation', tensorboard_logdir=None, testpref=None, tgtdict=None, threshold_loss_scale=None, thresholdsrc=0, thresholdtgt=0, tokenizer=None, tpu=False, trainpref='ch10/98.sub.7', user_dir=None, validpref='ch10/dev.98', workers=16)\n",
      "2021-04-06 22:08:49 | INFO | fairseq_cli.preprocess | [ja] Dictionary: 16016 types\n",
      "2021-04-06 22:09:50 | INFO | fairseq_cli.preprocess | [ja] ch10/98.sub.7.ja: 4122252 sents, 84939037 tokens, 0.0% replaced by <unk>\n",
      "2021-04-06 22:09:50 | INFO | fairseq_cli.preprocess | [ja] Dictionary: 16016 types\n",
      "2021-04-06 22:09:51 | INFO | fairseq_cli.preprocess | [ja] ch10/dev.98.ja: 1166 sents, 33496 tokens, 0.00597% replaced by <unk>\n",
      "2021-04-06 22:09:51 | INFO | fairseq_cli.preprocess | [en] Dictionary: 16016 types\n",
      "2021-04-06 22:10:55 | INFO | fairseq_cli.preprocess | [en] ch10/98.sub.7.en: 4122252 sents, 104803155 tokens, 0.0% replaced by <unk>\n",
      "2021-04-06 22:10:56 | INFO | fairseq_cli.preprocess | [en] Dictionary: 16016 types\n",
      "2021-04-06 22:10:56 | INFO | fairseq_cli.preprocess | [en] ch10/dev.98.en: 1166 sents, 36589 tokens, 0.0% replaced by <unk>\n",
      "2021-04-06 22:10:56 | INFO | fairseq_cli.preprocess | Wrote preprocessed data to ch10/data98.7\n",
      "2021-04-06 22:10:58 | INFO | fairseq_cli.preprocess | Namespace(align_suffix=None, alignfile=None, all_gather_list_size=16384, bf16=False, bpe=None, checkpoint_shard_count=1, checkpoint_suffix='', cpu=False, criterion='cross_entropy', dataset_impl='mmap', destdir='ch10/data98.8', empty_cache_freq=0, fp16=False, fp16_init_scale=128, fp16_no_flatten_grads=False, fp16_scale_tolerance=0.0, fp16_scale_window=None, joined_dictionary=True, log_format=None, log_interval=100, lr_scheduler='fixed', memory_efficient_bf16=False, memory_efficient_fp16=False, min_loss_scale=0.0001, model_parallel_size=1, no_progress_bar=False, nwordssrc=-1, nwordstgt=-1, only_source=False, optimizer=None, padding_factor=8, profile=False, quantization_config_path=None, scoring='bleu', seed=1, source_lang='ja', srcdict='ch10/data98.1/dict.ja.txt', target_lang='en', task='translation', tensorboard_logdir=None, testpref=None, tgtdict=None, threshold_loss_scale=None, thresholdsrc=0, thresholdtgt=0, tokenizer=None, tpu=False, trainpref='ch10/98.sub.8', user_dir=None, validpref='ch10/dev.98', workers=16)\n",
      "2021-04-06 22:10:58 | INFO | fairseq_cli.preprocess | [ja] Dictionary: 16016 types\n",
      "2021-04-06 22:11:59 | INFO | fairseq_cli.preprocess | [ja] ch10/98.sub.8.ja: 4122252 sents, 84939850 tokens, 0.0% replaced by <unk>\n",
      "2021-04-06 22:11:59 | INFO | fairseq_cli.preprocess | [ja] Dictionary: 16016 types\n",
      "2021-04-06 22:11:59 | INFO | fairseq_cli.preprocess | [ja] ch10/dev.98.ja: 1166 sents, 33496 tokens, 0.00597% replaced by <unk>\n",
      "2021-04-06 22:11:59 | INFO | fairseq_cli.preprocess | [en] Dictionary: 16016 types\n",
      "2021-04-06 22:13:03 | INFO | fairseq_cli.preprocess | [en] ch10/98.sub.8.en: 4122252 sents, 104796302 tokens, 0.0% replaced by <unk>\n",
      "2021-04-06 22:13:03 | INFO | fairseq_cli.preprocess | [en] Dictionary: 16016 types\n",
      "2021-04-06 22:13:03 | INFO | fairseq_cli.preprocess | [en] ch10/dev.98.en: 1166 sents, 36589 tokens, 0.0% replaced by <unk>\n",
      "2021-04-06 22:13:03 | INFO | fairseq_cli.preprocess | Wrote preprocessed data to ch10/data98.8\n",
      "2021-04-06 22:13:06 | INFO | fairseq_cli.preprocess | Namespace(align_suffix=None, alignfile=None, all_gather_list_size=16384, bf16=False, bpe=None, checkpoint_shard_count=1, checkpoint_suffix='', cpu=False, criterion='cross_entropy', dataset_impl='mmap', destdir='ch10/data98.9', empty_cache_freq=0, fp16=False, fp16_init_scale=128, fp16_no_flatten_grads=False, fp16_scale_tolerance=0.0, fp16_scale_window=None, joined_dictionary=True, log_format=None, log_interval=100, lr_scheduler='fixed', memory_efficient_bf16=False, memory_efficient_fp16=False, min_loss_scale=0.0001, model_parallel_size=1, no_progress_bar=False, nwordssrc=-1, nwordstgt=-1, only_source=False, optimizer=None, padding_factor=8, profile=False, quantization_config_path=None, scoring='bleu', seed=1, source_lang='ja', srcdict='ch10/data98.1/dict.ja.txt', target_lang='en', task='translation', tensorboard_logdir=None, testpref=None, tgtdict=None, threshold_loss_scale=None, thresholdsrc=0, thresholdtgt=0, tokenizer=None, tpu=False, trainpref='ch10/98.sub.9', user_dir=None, validpref='ch10/dev.98', workers=16)\n",
      "2021-04-06 22:13:06 | INFO | fairseq_cli.preprocess | [ja] Dictionary: 16016 types\n",
      "2021-04-06 22:14:06 | INFO | fairseq_cli.preprocess | [ja] ch10/98.sub.9.ja: 4122252 sents, 84941777 tokens, 0.0% replaced by <unk>\n",
      "2021-04-06 22:14:06 | INFO | fairseq_cli.preprocess | [ja] Dictionary: 16016 types\n",
      "2021-04-06 22:14:06 | INFO | fairseq_cli.preprocess | [ja] ch10/dev.98.ja: 1166 sents, 33496 tokens, 0.00597% replaced by <unk>\n",
      "2021-04-06 22:14:06 | INFO | fairseq_cli.preprocess | [en] Dictionary: 16016 types\n",
      "2021-04-06 22:15:09 | INFO | fairseq_cli.preprocess | [en] ch10/98.sub.9.en: 4122252 sents, 104809766 tokens, 0.0% replaced by <unk>\n",
      "2021-04-06 22:15:09 | INFO | fairseq_cli.preprocess | [en] Dictionary: 16016 types\n",
      "2021-04-06 22:15:09 | INFO | fairseq_cli.preprocess | [en] ch10/dev.98.en: 1166 sents, 36589 tokens, 0.0% replaced by <unk>\n",
      "2021-04-06 22:15:09 | INFO | fairseq_cli.preprocess | Wrote preprocessed data to ch10/data98.9\n",
      "2021-04-06 22:15:11 | INFO | fairseq_cli.preprocess | Namespace(align_suffix=None, alignfile=None, all_gather_list_size=16384, bf16=False, bpe=None, checkpoint_shard_count=1, checkpoint_suffix='', cpu=False, criterion='cross_entropy', dataset_impl='mmap', destdir='ch10/data98.10', empty_cache_freq=0, fp16=False, fp16_init_scale=128, fp16_no_flatten_grads=False, fp16_scale_tolerance=0.0, fp16_scale_window=None, joined_dictionary=True, log_format=None, log_interval=100, lr_scheduler='fixed', memory_efficient_bf16=False, memory_efficient_fp16=False, min_loss_scale=0.0001, model_parallel_size=1, no_progress_bar=False, nwordssrc=-1, nwordstgt=-1, only_source=False, optimizer=None, padding_factor=8, profile=False, quantization_config_path=None, scoring='bleu', seed=1, source_lang='ja', srcdict='ch10/data98.1/dict.ja.txt', target_lang='en', task='translation', tensorboard_logdir=None, testpref=None, tgtdict=None, threshold_loss_scale=None, thresholdsrc=0, thresholdtgt=0, tokenizer=None, tpu=False, trainpref='ch10/98.sub.10', user_dir=None, validpref='ch10/dev.98', workers=16)\n",
      "2021-04-06 22:15:11 | INFO | fairseq_cli.preprocess | [ja] Dictionary: 16016 types\n",
      "2021-04-06 22:16:12 | INFO | fairseq_cli.preprocess | [ja] ch10/98.sub.10.ja: 4122252 sents, 84941187 tokens, 0.0% replaced by <unk>\n",
      "2021-04-06 22:16:13 | INFO | fairseq_cli.preprocess | [ja] Dictionary: 16016 types\n",
      "2021-04-06 22:16:13 | INFO | fairseq_cli.preprocess | [ja] ch10/dev.98.ja: 1166 sents, 33496 tokens, 0.00597% replaced by <unk>\n",
      "2021-04-06 22:16:13 | INFO | fairseq_cli.preprocess | [en] Dictionary: 16016 types\n",
      "2021-04-06 22:17:17 | INFO | fairseq_cli.preprocess | [en] ch10/98.sub.10.en: 4122252 sents, 104795531 tokens, 0.0% replaced by <unk>\n",
      "2021-04-06 22:17:17 | INFO | fairseq_cli.preprocess | [en] Dictionary: 16016 types\n",
      "2021-04-06 22:17:17 | INFO | fairseq_cli.preprocess | [en] ch10/dev.98.en: 1166 sents, 36589 tokens, 0.0% replaced by <unk>\n",
      "2021-04-06 22:17:17 | INFO | fairseq_cli.preprocess | Wrote preprocessed data to ch10/data98.10\n"
     ]
    }
   ],
   "source": [
    "%%bash\n",
    "for N in {2..10}; do\n",
    "    fairseq-preprocess -s ja -t en \\\n",
    "        --trainpref ch10/98.sub.$N \\\n",
    "        --validpref ch10/dev.98 \\\n",
    "        --destdir ch10/data98.$N  \\\n",
    "        --srcdict ch10/data98.1/dict.ja.txt \\\n",
    "        --joined-dictionary \\\n",
    "        --workers 16\n",
    "done"
   ]
  },
  {
   "cell_type": "code",
   "execution_count": 89,
   "metadata": {},
   "outputs": [
    {
     "name": "stdout",
     "output_type": "stream",
     "text": [
      "/home/koyama.s/nlp10021/envs/nlp10021/lib/python3.8/site-packages/torch/nn/parallel/distributed.py:425: UserWarning: The `check_reduction` argument in `DistributedDataParallel` module is deprecated. Please avoid using it.\n",
      "  warnings.warn(\n",
      "/home/koyama.s/nlp10021/envs/nlp10021/lib/python3.8/site-packages/torch/nn/parallel/distributed.py:425: UserWarning: The `check_reduction` argument in `DistributedDataParallel` module is deprecated. Please avoid using it.\n",
      "  warnings.warn(\n",
      "epoch 001: 100%|▉| 7190/7191 [18:04<00:00,  6.89it/s, loss=5.179, nll_loss=3.792\n",
      "epoch 001 | valid on 'valid' subset:   0%|                | 0/9 [00:00<?, ?it/s]\u001b[A\n",
      "epoch 001 | valid on 'valid' subset:  11%|▉       | 1/9 [00:01<00:10,  1.31s/it]\u001b[A\n",
      "epoch 001 | valid on 'valid' subset:  67%|█████▎  | 6/9 [00:01<00:00,  5.58it/s]\u001b[A\n",
      "epoch 002: 100%|▉| 7190/7191 [18:07<00:00,  6.66it/s, loss=4.756, nll_loss=3.323\u001b[A\n",
      "epoch 002 | valid on 'valid' subset:   0%|                | 0/9 [00:00<?, ?it/s]\u001b[A\n",
      "epoch 002 | valid on 'valid' subset:  11%|▉       | 1/9 [00:01<00:08,  1.06s/it]\u001b[A\n",
      "epoch 002 | valid on 'valid' subset:  67%|█████▎  | 6/9 [00:01<00:00,  6.71it/s]\u001b[A\n",
      "epoch 003: 100%|▉| 7190/7191 [18:08<00:00,  6.69it/s, loss=4.604, nll_loss=3.155\u001b[A\n",
      "epoch 003 | valid on 'valid' subset:   0%|                | 0/9 [00:00<?, ?it/s]\u001b[A\n",
      "epoch 003 | valid on 'valid' subset:  11%|▉       | 1/9 [00:01<00:10,  1.26s/it]\u001b[A\n",
      "epoch 003 | valid on 'valid' subset:  67%|█████▎  | 6/9 [00:01<00:00,  5.77it/s]\u001b[A\n",
      "epoch 004: 100%|▉| 7190/7191 [18:07<00:00,  6.50it/s, loss=4.509, nll_loss=3.051\u001b[A\n",
      "epoch 004 | valid on 'valid' subset:   0%|                | 0/9 [00:00<?, ?it/s]\u001b[A\n",
      "epoch 004 | valid on 'valid' subset:  11%|▉       | 1/9 [00:01<00:08,  1.12s/it]\u001b[A\n",
      "epoch 004 | valid on 'valid' subset:  67%|█████▎  | 6/9 [00:01<00:00,  6.42it/s]\u001b[A\n",
      "epoch 005: 100%|▉| 7189/7190 [18:07<00:00,  6.87it/s, loss=4.473, nll_loss=3.011\u001b[A\n",
      "epoch 005 | valid on 'valid' subset:   0%|                | 0/9 [00:00<?, ?it/s]\u001b[A\n",
      "epoch 005 | valid on 'valid' subset:  11%|▉       | 1/9 [00:01<00:08,  1.09s/it]\u001b[A\n",
      "epoch 005 | valid on 'valid' subset:  67%|█████▎  | 6/9 [00:01<00:00,  6.56it/s]\u001b[A\n",
      "epoch 006: 100%|▉| 7188/7189 [18:08<00:00,  6.79it/s, loss=4.408, nll_loss=2.939\u001b[A\n",
      "epoch 006 | valid on 'valid' subset:   0%|                | 0/9 [00:00<?, ?it/s]\u001b[A\n",
      "epoch 006 | valid on 'valid' subset:  11%|▉       | 1/9 [00:01<00:11,  1.47s/it]\u001b[A\n",
      "epoch 006 | valid on 'valid' subset:  67%|█████▎  | 6/9 [00:01<00:00,  5.03it/s]\u001b[A\n",
      "epoch 007: 100%|▉| 7188/7189 [18:08<00:00,  6.63it/s, loss=4.386, nll_loss=2.915\u001b[A\n",
      "epoch 007 | valid on 'valid' subset:   0%|                | 0/9 [00:00<?, ?it/s]\u001b[A\n",
      "epoch 007 | valid on 'valid' subset:  11%|▉       | 1/9 [00:01<00:09,  1.23s/it]\u001b[A\n",
      "epoch 007 | valid on 'valid' subset:  67%|█████▎  | 6/9 [00:01<00:00,  5.90it/s]\u001b[A\n",
      "epoch 008: 100%|▉| 7189/7190 [18:08<00:00,  6.50it/s, loss=4.341, nll_loss=2.864\u001b[A\n",
      "epoch 008 | valid on 'valid' subset:   0%|                | 0/9 [00:00<?, ?it/s]\u001b[A\n",
      "epoch 008 | valid on 'valid' subset:  11%|▉       | 1/9 [00:01<00:08,  1.09s/it]\u001b[A\n",
      "epoch 008 | valid on 'valid' subset:  67%|█████▎  | 6/9 [00:01<00:00,  6.57it/s]\u001b[A\n",
      "epoch 009: 100%|▉| 7192/7193 [18:08<00:00,  7.04it/s, loss=4.325, nll_loss=2.847\u001b[A\n",
      "epoch 009 | valid on 'valid' subset:   0%|                | 0/9 [00:00<?, ?it/s]\u001b[A\n",
      "epoch 009 | valid on 'valid' subset:  11%|▉       | 1/9 [00:01<00:10,  1.30s/it]\u001b[A\n",
      "epoch 009 | valid on 'valid' subset:  67%|█████▎  | 6/9 [00:01<00:00,  5.62it/s]\u001b[A\n",
      "epoch 010: 100%|▉| 7189/7190 [18:09<00:00,  6.64it/s, loss=4.32, nll_loss=2.843,\u001b[A\n",
      "epoch 010 | valid on 'valid' subset:   0%|                | 0/9 [00:00<?, ?it/s]\u001b[A\n",
      "epoch 010 | valid on 'valid' subset:  11%|▉       | 1/9 [00:01<00:10,  1.36s/it]\u001b[A\n",
      "epoch 010 | valid on 'valid' subset:  67%|█████▎  | 6/9 [00:01<00:00,  5.36it/s]\u001b[A\n",
      "/home/koyama.s/miniconda3/lib/python3.8/multiprocessing/resource_tracker.py:216: UserWarning: resource_tracker: There appear to be 40 leaked semaphore objects to clean up at shutdown\n",
      "  warnings.warn('resource_tracker: There appear to be %d '\n"
     ]
    }
   ],
   "source": [
    "! fairseq-train \\\n",
    "    ch10/data98.1:ch10/data98.2:ch10/data98.3:ch10/data98.4:ch10/data98.5:ch10/data98.6:ch10/data98.7:ch10/data98.8:ch10/data98.9:ch10/data98.10 \\\n",
    "    --fp16 \\\n",
    "    --save-dir ch10/save98 \\\n",
    "    --max-epoch 10 \\\n",
    "    --arch transformer \\\n",
    "    --encoder-normalize-before --decoder-normalize-before \\\n",
    "    --share-all-embeddings \\\n",
    "    --dropout 0.1 --attention-dropout 0.1 --activation-dropout 0.1 \\\n",
    "    --optimizer adam --adam-betas '(0.9, 0.999)' \\\n",
    "    --lr 0.001 --lr-scheduler inverse_sqrt --warmup-updates 4000 --warmup-init-lr 1e-07 \\\n",
    "    --update-freq 2 \\\n",
    "    --weight-decay 0.0001 \\\n",
    "    --criterion label_smoothed_cross_entropy --label-smoothing 0.1 \\\n",
    "    --max-tokens 4096 > ch10/98.log"
   ]
  },
  {
   "cell_type": "code",
   "execution_count": 90,
   "metadata": {},
   "outputs": [],
   "source": [
    "! fairseq-interactive ch10/data98.1 \\\n",
    "    --path ch10/save98/checkpoint10.pt \\\n",
    "    --buffer-size 128 \\\n",
    "    --batch-size 64 \\\n",
    "    --beam 4 \\\n",
    "    --lenpen 0.6 \\\n",
    "    < ch10/dev.98.ja \\\n",
    "    | grep '^H' \\\n",
    "    | cut -f3 \\\n",
    "    > ch10/98.out"
   ]
  },
  {
   "cell_type": "code",
   "execution_count": 91,
   "metadata": {},
   "outputs": [],
   "source": [
    "sp_decode('ch10/98.out',  'ch10/98.decoded')"
   ]
  },
  {
   "cell_type": "code",
   "execution_count": 93,
   "metadata": {},
   "outputs": [
    {
     "name": "stdout",
     "output_type": "stream",
     "text": [
      "BLEU+case.mixed+numrefs.1+smooth.exp+tok.13a+version.1.5.1 = 21.3 53.2/26.8/15.4/9.4 (BP = 1.000 ratio = 1.047 hyp_len = 25424 ref_len = 24281)\r\n"
     ]
    }
   ],
   "source": [
    "! sacremoses -l en detokenize < ch10/98.decoded | sacrebleu kftt-data-1.0/data/orig/kyoto-dev.en"
   ]
  },
  {
   "cell_type": "markdown",
   "metadata": {},
   "source": [
    "### 99. 翻訳サーバの構築"
   ]
  },
  {
   "cell_type": "markdown",
   "metadata": {},
   "source": [
    "ウェブアプリケーションの形式でやるべきなので，jupyter notebook上では無理です．"
   ]
  }
 ],
 "metadata": {
  "kernelspec": {
   "display_name": "Python 3",
   "language": "python",
   "name": "python3"
  },
  "language_info": {
   "codemirror_mode": {
    "name": "ipython",
    "version": 3
   },
   "file_extension": ".py",
   "mimetype": "text/x-python",
   "name": "python",
   "nbconvert_exporter": "python",
   "pygments_lexer": "ipython3",
   "version": "3.8.5"
  }
 },
 "nbformat": 4,
 "nbformat_minor": 4
}
