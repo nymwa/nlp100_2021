{
 "cells": [
  {
   "cell_type": "markdown",
   "metadata": {},
   "source": [
    "### MeCabを使った形態素解析"
   ]
  },
  {
   "cell_type": "code",
   "execution_count": 1,
   "metadata": {},
   "outputs": [],
   "source": [
    "! sed 's/\\r$//g' data/neko.txt | mecab > data/neko.txt.mecab"
   ]
  },
  {
   "cell_type": "code",
   "execution_count": 2,
   "metadata": {},
   "outputs": [
    {
     "name": "stdout",
     "output_type": "stream",
     "text": [
      "一\t名詞,数,*,*,*,*,一,イチ,イチ\r\n",
      "EOS\r\n",
      "EOS\r\n",
      "　\t記号,空白,*,*,*,*,　,　,　\r\n",
      "吾輩\t名詞,代名詞,一般,*,*,*,吾輩,ワガハイ,ワガハイ\r\n",
      "は\t助詞,係助詞,*,*,*,*,は,ハ,ワ\r\n",
      "猫\t名詞,一般,*,*,*,*,猫,ネコ,ネコ\r\n",
      "で\t助動詞,*,*,*,特殊・ダ,連用形,だ,デ,デ\r\n",
      "ある\t助動詞,*,*,*,五段・ラ行アル,基本形,ある,アル,アル\r\n",
      "。\t記号,句点,*,*,*,*,。,。,。\r\n"
     ]
    }
   ],
   "source": [
    "! head data/neko.txt.mecab"
   ]
  },
  {
   "cell_type": "markdown",
   "metadata": {},
   "source": [
    "### 30. 形態素解析結果の読み込み"
   ]
  },
  {
   "cell_type": "code",
   "execution_count": 3,
   "metadata": {},
   "outputs": [],
   "source": [
    "def line_to_dict(line):\n",
    "    if line == 'EOS' or line == '':\n",
    "        return None\n",
    "    lst = line.split('\\t')\n",
    "    pos = lst[1].split(',')\n",
    "    dct = {\n",
    "        'surface' : lst[0],\n",
    "        'pos' : pos[0],\n",
    "        'pos1' : pos[1],\n",
    "        'base' : pos[6]}\n",
    "    return dct\n",
    "\n",
    "def mecab_to_list(f):\n",
    "    lst = []\n",
    "    tmp = []\n",
    "    for line in f:\n",
    "        line = line.rstrip('\\n')\n",
    "        dct = line_to_dict(line)\n",
    "        if dct is not None:\n",
    "            tmp.append(dct)\n",
    "        elif tmp:\n",
    "            lst.append(tmp)\n",
    "            tmp = []\n",
    "    return lst"
   ]
  },
  {
   "cell_type": "code",
   "execution_count": 4,
   "metadata": {},
   "outputs": [],
   "source": [
    "with open('data/neko.txt.mecab') as f:\n",
    "    neko = mecab_to_list(f)"
   ]
  },
  {
   "cell_type": "code",
   "execution_count": 5,
   "metadata": {},
   "outputs": [
    {
     "data": {
      "text/plain": [
       "[[{'surface': '一', 'pos': '名詞', 'pos1': '数', 'base': '一'}],\n",
       " [{'surface': '\\u3000', 'pos': '記号', 'pos1': '空白', 'base': '\\u3000'},\n",
       "  {'surface': '吾輩', 'pos': '名詞', 'pos1': '代名詞', 'base': '吾輩'},\n",
       "  {'surface': 'は', 'pos': '助詞', 'pos1': '係助詞', 'base': 'は'},\n",
       "  {'surface': '猫', 'pos': '名詞', 'pos1': '一般', 'base': '猫'},\n",
       "  {'surface': 'で', 'pos': '助動詞', 'pos1': '*', 'base': 'だ'},\n",
       "  {'surface': 'ある', 'pos': '助動詞', 'pos1': '*', 'base': 'ある'},\n",
       "  {'surface': '。', 'pos': '記号', 'pos1': '句点', 'base': '。'}],\n",
       " [{'surface': '名前', 'pos': '名詞', 'pos1': '一般', 'base': '名前'},\n",
       "  {'surface': 'は', 'pos': '助詞', 'pos1': '係助詞', 'base': 'は'},\n",
       "  {'surface': 'まだ', 'pos': '副詞', 'pos1': '助詞類接続', 'base': 'まだ'},\n",
       "  {'surface': '無い', 'pos': '形容詞', 'pos1': '自立', 'base': '無い'},\n",
       "  {'surface': '。', 'pos': '記号', 'pos1': '句点', 'base': '。'}]]"
      ]
     },
     "execution_count": 5,
     "metadata": {},
     "output_type": "execute_result"
    }
   ],
   "source": [
    "neko[:3]"
   ]
  },
  {
   "cell_type": "markdown",
   "metadata": {},
   "source": [
    "### 31. 動詞"
   ]
  },
  {
   "cell_type": "code",
   "execution_count": 6,
   "metadata": {},
   "outputs": [
    {
     "name": "stdout",
     "output_type": "stream",
     "text": [
      "好む\n",
      "分かる\n",
      "なれん\n",
      "つくっ\n",
      "溜っ\n",
      "寝転ぶ\n",
      "ふわ\n",
      "動じ\n",
      "曇っ\n",
      "なりすまし\n",
      "合計: 3893\n"
     ]
    }
   ],
   "source": [
    "surfaces_of_verb = {\n",
    "    dct['surface']\n",
    "    for sent in neko\n",
    "    for dct in sent\n",
    "    if dct['pos'] == '動詞'}\n",
    "\n",
    "for verb in list(surfaces_of_verb)[:10]:\n",
    "    print(verb)\n",
    "print('合計:', len(surfaces_of_verb))"
   ]
  },
  {
   "cell_type": "markdown",
   "metadata": {},
   "source": [
    "### 32. 動詞の原形"
   ]
  },
  {
   "cell_type": "code",
   "execution_count": 7,
   "metadata": {},
   "outputs": [
    {
     "name": "stdout",
     "output_type": "stream",
     "text": [
      "好む\n",
      "分かる\n",
      "引き裂く\n",
      "助かる\n",
      "取り乱す\n",
      "聞き合せる\n",
      "寝転ぶ\n",
      "作り上げる\n",
      "飛出る\n",
      "明け放す\n",
      "合計: 2300\n"
     ]
    }
   ],
   "source": [
    "bases_of_verb = {\n",
    "    dct['base']\n",
    "    for sent in neko\n",
    "    for dct in sent\n",
    "    if dct['pos'] == '動詞'}\n",
    "\n",
    "for verb in list(bases_of_verb)[:10]:\n",
    "    print(verb)\n",
    "print('合計:', len(bases_of_verb))"
   ]
  },
  {
   "cell_type": "markdown",
   "metadata": {},
   "source": [
    "### 33. 「AのB」"
   ]
  },
  {
   "cell_type": "code",
   "execution_count": 8,
   "metadata": {},
   "outputs": [
    {
     "name": "stdout",
     "output_type": "stream",
     "text": [
      "這裏の消息\n",
      "小犬の喧嘩\n",
      "サンドラ・ベロニの講釈\n",
      "君のところ\n",
      "迷亭の帽子\n",
      "子の鼻\n",
      "君の苦\n",
      "事蹟の三\n",
      "呑のよう\n",
      "イスキラスのそれ\n",
      "合計: 4924\n"
     ]
    }
   ],
   "source": [
    "def tri_grams(sent):\n",
    "    return zip(sent, sent[1:], sent[2:])\n",
    "    \n",
    "def is_A_no_B(x, y, z):\n",
    "    return (x['pos'] == z['pos'] == '名詞') and (y['base'] == 'の')\n",
    "\n",
    "A_no_Bs = {\n",
    "    ''.join([x['surface'] for x in tri_gram])\n",
    "    for sent in neko \n",
    "    for tri_gram in tri_grams(sent)\n",
    "    if is_A_no_B(*tri_gram)}\n",
    "\n",
    "for phrase in list(A_no_Bs)[:10]:\n",
    "    print(phrase)\n",
    "print('合計:', len(A_no_Bs))"
   ]
  },
  {
   "cell_type": "markdown",
   "metadata": {},
   "source": [
    "### 34. 名詞の連接"
   ]
  },
  {
   "cell_type": "code",
   "execution_count": 9,
   "metadata": {},
   "outputs": [
    {
     "name": "stdout",
     "output_type": "stream",
     "text": [
      "人間中\n",
      "一番獰悪\n",
      "時妙\n",
      "一毛\n",
      "その後猫\n",
      "一度\n",
      "ぷうぷうと煙\n",
      "邸内\n",
      "三毛\n",
      "書生以外\n",
      "合計: 7335\n"
     ]
    }
   ],
   "source": [
    "def longest_nouns(sent):\n",
    "    lst = []\n",
    "    tmp = []\n",
    "    for dct in sent:\n",
    "        if dct['pos'] == '名詞':\n",
    "            tmp.append(dct['surface'])\n",
    "        else:\n",
    "            if len(tmp) > 1:\n",
    "                lst.append(tmp)\n",
    "            tmp = []\n",
    "    return lst\n",
    "\n",
    "noun_chunks = [\n",
    "    ''.join(nouns)\n",
    "    for sent in neko\n",
    "    for nouns in longest_nouns(sent)]\n",
    "\n",
    "for chunk in noun_chunks[:10]:\n",
    "    print(chunk)\n",
    "print('合計:', len(noun_chunks))"
   ]
  },
  {
   "cell_type": "markdown",
   "metadata": {},
   "source": [
    "### 35. 単語の出現頻度"
   ]
  },
  {
   "cell_type": "code",
   "execution_count": 10,
   "metadata": {},
   "outputs": [],
   "source": [
    "from collections import Counter"
   ]
  },
  {
   "cell_type": "code",
   "execution_count": 11,
   "metadata": {},
   "outputs": [
    {
     "name": "stdout",
     "output_type": "stream",
     "text": [
      "の 9194\n",
      "。 7486\n",
      "て 6868\n",
      "、 6772\n",
      "は 6420\n",
      "に 6243\n",
      "を 6071\n",
      "と 5508\n",
      "が 5337\n",
      "た 3988\n"
     ]
    }
   ],
   "source": [
    "surfaces = [\n",
    "    dct['surface']\n",
    "    for sent in neko\n",
    "    for dct in sent]\n",
    "dist = Counter(surfaces).most_common()\n",
    "\n",
    "for word, freq in dist[:10]:\n",
    "    print(word, freq)   "
   ]
  },
  {
   "cell_type": "markdown",
   "metadata": {},
   "source": [
    "### 36. 頻度上位10語"
   ]
  },
  {
   "cell_type": "code",
   "execution_count": 12,
   "metadata": {},
   "outputs": [],
   "source": [
    "# ! pip install matplotlib japanize_matplotlib"
   ]
  },
  {
   "cell_type": "code",
   "execution_count": 13,
   "metadata": {},
   "outputs": [],
   "source": [
    "import matplotlib.pyplot as plt\n",
    "import japanize_matplotlib"
   ]
  },
  {
   "cell_type": "code",
   "execution_count": 14,
   "metadata": {},
   "outputs": [
    {
     "data": {
      "image/png": "[encoded data removed]",
      "text/plain": [
       "<Figure size 432x288 with 1 Axes>"
      ]
     },
     "metadata": {
      "needs_background": "light"
     },
     "output_type": "display_data"
    }
   ],
   "source": [
    "words = [word for word, _ in dist[:10]]\n",
    "freqs = [freq for _, freq in dist[:10]]\n",
    "plt.bar(words, freqs)\n",
    "plt.title('頻度上位10語')\n",
    "plt.xlabel('単語')\n",
    "plt.ylabel('頻度')\n",
    "plt.savefig('result/36.png')"
   ]
  },
  {
   "cell_type": "markdown",
   "metadata": {},
   "source": [
    "### 37. 「猫」と共起頻度の高い上位10語"
   ]
  },
  {
   "cell_type": "markdown",
   "metadata": {},
   "source": [
    "\"共起\"する単語は同じ文に現れる単語とする"
   ]
  },
  {
   "cell_type": "code",
   "execution_count": 15,
   "metadata": {},
   "outputs": [
    {
     "name": "stdout",
     "output_type": "stream",
     "text": [
      "の 391\n",
      "は 272\n",
      "、 252\n",
      "に 250\n",
      "を 232\n",
      "だ 231\n",
      "て 229\n",
      "。 209\n",
      "と 202\n",
      "が 180\n"
     ]
    }
   ],
   "source": [
    "counter = Counter()\n",
    "for sent in neko:\n",
    "    if any(dct['base'] == '猫' for dct in sent):\n",
    "        for dct in sent:\n",
    "            word = dct['base']\n",
    "            if word != '猫':\n",
    "                counter[word] += 1\n",
    "\n",
    "dist = counter.most_common(10)\n",
    "\n",
    "for word, freq in dist:\n",
    "    print(word, freq)"
   ]
  },
  {
   "cell_type": "markdown",
   "metadata": {},
   "source": [
    "正直助詞ばかりでつまらないので，品詞を制限してみる"
   ]
  },
  {
   "cell_type": "code",
   "execution_count": 16,
   "metadata": {},
   "outputs": [
    {
     "name": "stdout",
     "output_type": "stream",
     "text": [
      "する 144\n",
      "* 63\n",
      "事 59\n",
      "吾輩 58\n",
      "いる 58\n",
      "ある 55\n",
      "の 55\n",
      "人間 40\n",
      "ない 39\n",
      "云う 38\n"
     ]
    }
   ],
   "source": [
    "counter = Counter()\n",
    "for sent in neko:\n",
    "    if any(dct['base'] == '猫' for dct in sent):\n",
    "        for dct in sent:\n",
    "            word = dct['base']\n",
    "            if word != '猫' and dct['pos'] in {'名詞', '動詞', '形容詞', '副詞'}:\n",
    "                counter[word] += 1\n",
    "                \n",
    "dist = counter.most_common(10)\n",
    "\n",
    "for word, freq in dist:\n",
    "    print(word, freq)"
   ]
  },
  {
   "cell_type": "markdown",
   "metadata": {},
   "source": [
    "せっかくなので，猫と人間が共起する文をいくつかみてみる"
   ]
  },
  {
   "cell_type": "code",
   "execution_count": 17,
   "metadata": {},
   "outputs": [
    {
     "name": "stdout",
     "output_type": "stream",
     "text": [
      "白君は涙を流してその一部始終を話した上、どうしても我等猫族が親子の愛を完くして美しい家族的生活をするには人間と戦ってこれを剿滅せねばならぬといわれた。\n",
      "しかし人間というものは到底吾輩猫属の言語を解し得るくらいに天の恵に浴しておらん動物であるから、残念ながらそのままにしておいた。\n",
      "　ちょっと読者に断っておきたいが、元来人間が何ぞというと猫々と、事もなげに軽侮の口調をもって吾輩を評価する癖があるははなはだよくない。\n",
      "人間の糟から牛と馬が出来て、牛と馬の糞から猫が製造されたごとく考えるのは、自分の無智に心付かんで高慢な顔をする教師などにはありがちの事でもあろうが、はたから見てあまり見っともいい者じゃない。\n",
      "よそ目には一列一体、平等無差別、どの猫も自家固有の特色などはないようであるが、猫の社会に這入って見るとなかなか複雑なもので十人十色という人間界の語はそのままここにも応用が出来るのである。\n",
      "こんなところを見ると、人間は利己主義から割り出した公平という念は猫より優っているかも知れぬが、智慧はかえって猫より劣っているようだ。\n",
      "主人のように裏表のある人間は日記でも書いて世間に出されない自己の面目を暗室内に発揮する必要があるかも知れないが、我等猫属に至ると行住坐臥、行屎送尿ことごとく真正の日記であるから、別段そんな面倒な手数をして、己れの真面目を保存するには及ばぬと思う。\n"
     ]
    }
   ],
   "source": [
    "for sent in neko[:1000]:\n",
    "    if any(dct['base'] == '猫' for dct in sent) and any(dct['base'] == '人間' for dct in sent):\n",
    "        lst = [dct['surface'] for dct in sent]\n",
    "        print(''.join(lst))"
   ]
  },
  {
   "cell_type": "markdown",
   "metadata": {},
   "source": [
    "### 38. ヒストグラム"
   ]
  },
  {
   "cell_type": "code",
   "execution_count": 18,
   "metadata": {},
   "outputs": [
    {
     "data": {
      "image/png": "[encoded data removed]",
      "text/plain": [
       "<Figure size 432x288 with 1 Axes>"
      ]
     },
     "metadata": {
      "needs_background": "light"
     },
     "output_type": "display_data"
    }
   ],
   "source": [
    "words = [\n",
    "    dct['base']\n",
    "    for sent in neko\n",
    "    for dct in sent]\n",
    "cnt = Counter(words).most_common()\n",
    "\n",
    "dist = [freq for _, freq in cnt]\n",
    "\n",
    "plt.title('ヒストグラム')\n",
    "plt.xlabel('単語')\n",
    "plt.ylabel('頻度')\n",
    "plt.hist(dist, bins=50, range=(1,50))\n",
    "plt.savefig('result/38.png')"
   ]
  },
  {
   "cell_type": "markdown",
   "metadata": {},
   "source": [
    "### 39. Zipfの法則"
   ]
  },
  {
   "cell_type": "code",
   "execution_count": 19,
   "metadata": {},
   "outputs": [
    {
     "data": {
      "image/png": "[encoded data removed]",
      "text/plain": [
       "<Figure size 432x288 with 1 Axes>"
      ]
     },
     "metadata": {
      "needs_background": "light"
     },
     "output_type": "display_data"
    }
   ],
   "source": [
    "plt.title('Zipfの法則')\n",
    "plt.xlabel('単語')\n",
    "plt.ylabel('頻度')\n",
    "plt.xscale('log')\n",
    "plt.yscale('log')\n",
    "plt.plot(range(len(dist)), dist)\n",
    "plt.savefig('result/39.png')"
   ]
  },
  {
   "cell_type": "code",
   "execution_count": null,
   "metadata": {},
   "outputs": [],
   "source": []
  }
 ],
 "metadata": {
  "kernelspec": {
   "display_name": "Python 3",
   "language": "python",
   "name": "python3"
  },
  "language_info": {
   "codemirror_mode": {
    "name": "ipython",
    "version": 3
   },
   "file_extension": ".py",
   "mimetype": "text/x-python",
   "name": "python",
   "nbconvert_exporter": "python",
   "pygments_lexer": "ipython3",
   "version": "3.8.5"
  }
 },
 "nbformat": 4,
 "nbformat_minor": 4
}
